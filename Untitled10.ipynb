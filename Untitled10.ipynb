{
  "nbformat": 4,
  "nbformat_minor": 0,
  "metadata": {
    "colab": {
      "provenance": [],
      "authorship_tag": "ABX9TyM8GPPPq3elhI4p47WkDOkF",
      "include_colab_link": true
    },
    "kernelspec": {
      "name": "python3",
      "display_name": "Python 3"
    },
    "language_info": {
      "name": "python"
    }
  },
  "cells": [
    {
      "cell_type": "markdown",
      "metadata": {
        "id": "view-in-github",
        "colab_type": "text"
      },
      "source": [
        "<a href=\"https://colab.research.google.com/github/PradnyaTayade/BE_/blob/main/Untitled10.ipynb\" target=\"_parent\"><img src=\"https://colab.research.google.com/assets/colab-badge.svg\" alt=\"Open In Colab\"/></a>"
      ]
    },
    {
      "cell_type": "code",
      "execution_count": null,
      "metadata": {
        "colab": {
          "base_uri": "https://localhost:8080/"
        },
        "id": "RmvbQXHrklp3",
        "outputId": "2b55c261-15f9-4722-85ec-13271e642b53"
      },
      "outputs": [
        {
          "output_type": "stream",
          "name": "stdout",
          "text": [
            "Looking in indexes: https://pypi.org/simple, https://us-python.pkg.dev/colab-wheels/public/simple/\n",
            "Requirement already satisfied: nltk in /usr/local/lib/python3.9/dist-packages (3.7)\n",
            "Requirement already satisfied: click in /usr/local/lib/python3.9/dist-packages (from nltk) (8.1.3)\n",
            "Requirement already satisfied: regex>=2021.8.3 in /usr/local/lib/python3.9/dist-packages (from nltk) (2022.6.2)\n",
            "Requirement already satisfied: joblib in /usr/local/lib/python3.9/dist-packages (from nltk) (1.2.0)\n",
            "Requirement already satisfied: tqdm in /usr/local/lib/python3.9/dist-packages (from nltk) (4.65.0)\n"
          ]
        }
      ],
      "source": [
        "!pip install nltk"
      ]
    },
    {
      "cell_type": "code",
      "source": [
        "import nltk"
      ],
      "metadata": {
        "id": "z3SG3J7vk6GO"
      },
      "execution_count": null,
      "outputs": []
    },
    {
      "cell_type": "code",
      "source": [
        "nltk.download('stopwords')"
      ],
      "metadata": {
        "colab": {
          "base_uri": "https://localhost:8080/"
        },
        "id": "6HlCzDmPlD_V",
        "outputId": "c52ea1d6-3dc2-4fda-9c02-1a3cf5524af6"
      },
      "execution_count": null,
      "outputs": [
        {
          "output_type": "stream",
          "name": "stderr",
          "text": [
            "[nltk_data] Downloading package stopwords to /root/nltk_data...\n",
            "[nltk_data]   Unzipping corpora/stopwords.zip.\n"
          ]
        },
        {
          "output_type": "execute_result",
          "data": {
            "text/plain": [
              "True"
            ]
          },
          "metadata": {},
          "execution_count": 3
        }
      ]
    },
    {
      "cell_type": "code",
      "source": [
        "import re, numpy as np, pandas as pd\n",
        "from pprint import pprint"
      ],
      "metadata": {
        "id": "x8ypCuEBlJAG"
      },
      "execution_count": null,
      "outputs": []
    },
    {
      "cell_type": "code",
      "source": [
        "import gensim , spacy ,logging,warnings\n",
        "import gensim.corpora as corpora\n",
        "from gensim.utils import lemmatize,simple_preprocess\n",
        "from gensim.models import CoherenceModel\n",
        "import matplotlib.pyplot as plt\n"
      ],
      "metadata": {
        "id": "KYgYFN2HlUFF"
      },
      "execution_count": null,
      "outputs": []
    },
    {
      "cell_type": "code",
      "source": [
        "from nltk.corpus import stopwords\n",
        "stop_words = stopwords.words('english')"
      ],
      "metadata": {
        "id": "n2dBy-hrmOQ0"
      },
      "execution_count": null,
      "outputs": []
    },
    {
      "cell_type": "code",
      "source": [
        "import pandas as pd\n",
        "df = pd.read_csv('/content/google (1).csv')\n",
        "df.sample()"
      ],
      "metadata": {
        "colab": {
          "base_uri": "https://localhost:8080/",
          "height": 249
        },
        "id": "2jkwWuIcmjcU",
        "outputId": "25d54689-1697-4729-b77c-4f192e7ee647"
      },
      "execution_count": null,
      "outputs": [
        {
          "output_type": "execute_result",
          "data": {
            "text/plain": [
              "                                          WEBjve href  \\\n",
              "94  https://www.google.com/maps/contrib/1065766090...   \n",
              "\n",
              "                                           NBa7we src          d4r55  \\\n",
              "94  https://lh3.googleusercontent.com/a-/ACB-R5TXa...  kuldeep patil   \n",
              "\n",
              "          RfnDt       RfnDt 2  \\\n",
              "94  Local Guide  · 12 reviews   \n",
              "\n",
              "                                           eaLgGf src  \\\n",
              "94  https://www.gstatic.com/images/icons/material/...   \n",
              "\n",
              "                                           hCCjke src  \\\n",
              "94  https://maps.gstatic.com/consumer/images/icons...   \n",
              "\n",
              "                                         hCCjke src 2  \\\n",
              "94  https://maps.gstatic.com/consumer/images/icons...   \n",
              "\n",
              "                                         hCCjke src 3  \\\n",
              "94  https://maps.gstatic.com/consumer/images/icons...   \n",
              "\n",
              "                                         hCCjke src 4  \\\n",
              "94  https://maps.gstatic.com/consumer/images/icons...   \n",
              "\n",
              "                                         hCCjke src 5       rsqaWe DU9Pgb  \\\n",
              "94  https://maps.gstatic.com/consumer/images/icons...  3 years ago    New   \n",
              "\n",
              "                                               wiI7pd  \\\n",
              "94  Boneless chicken wings are best.\\nBut please d...   \n",
              "\n",
              "                                            dSlJg src znYl0  \\\n",
              "94  https://www.gstatic.com/images/icons/material/...  Like   \n",
              "\n",
              "                                          dSlJg src 2 znYl0 2  \n",
              "94  https://www.gstatic.com/images/icons/material/...   Share  "
            ],
            "text/html": [
              "\n",
              "  <div id=\"df-aacb1214-70da-41e8-9e11-3af54a6ca365\">\n",
              "    <div class=\"colab-df-container\">\n",
              "      <div>\n",
              "<style scoped>\n",
              "    .dataframe tbody tr th:only-of-type {\n",
              "        vertical-align: middle;\n",
              "    }\n",
              "\n",
              "    .dataframe tbody tr th {\n",
              "        vertical-align: top;\n",
              "    }\n",
              "\n",
              "    .dataframe thead th {\n",
              "        text-align: right;\n",
              "    }\n",
              "</style>\n",
              "<table border=\"1\" class=\"dataframe\">\n",
              "  <thead>\n",
              "    <tr style=\"text-align: right;\">\n",
              "      <th></th>\n",
              "      <th>WEBjve href</th>\n",
              "      <th>NBa7we src</th>\n",
              "      <th>d4r55</th>\n",
              "      <th>RfnDt</th>\n",
              "      <th>RfnDt 2</th>\n",
              "      <th>eaLgGf src</th>\n",
              "      <th>hCCjke src</th>\n",
              "      <th>hCCjke src 2</th>\n",
              "      <th>hCCjke src 3</th>\n",
              "      <th>hCCjke src 4</th>\n",
              "      <th>hCCjke src 5</th>\n",
              "      <th>rsqaWe</th>\n",
              "      <th>DU9Pgb</th>\n",
              "      <th>wiI7pd</th>\n",
              "      <th>dSlJg src</th>\n",
              "      <th>znYl0</th>\n",
              "      <th>dSlJg src 2</th>\n",
              "      <th>znYl0 2</th>\n",
              "    </tr>\n",
              "  </thead>\n",
              "  <tbody>\n",
              "    <tr>\n",
              "      <th>94</th>\n",
              "      <td>https://www.google.com/maps/contrib/1065766090...</td>\n",
              "      <td>https://lh3.googleusercontent.com/a-/ACB-R5TXa...</td>\n",
              "      <td>kuldeep patil</td>\n",
              "      <td>Local Guide</td>\n",
              "      <td>· 12 reviews</td>\n",
              "      <td>https://www.gstatic.com/images/icons/material/...</td>\n",
              "      <td>https://maps.gstatic.com/consumer/images/icons...</td>\n",
              "      <td>https://maps.gstatic.com/consumer/images/icons...</td>\n",
              "      <td>https://maps.gstatic.com/consumer/images/icons...</td>\n",
              "      <td>https://maps.gstatic.com/consumer/images/icons...</td>\n",
              "      <td>https://maps.gstatic.com/consumer/images/icons...</td>\n",
              "      <td>3 years ago</td>\n",
              "      <td>New</td>\n",
              "      <td>Boneless chicken wings are best.\\nBut please d...</td>\n",
              "      <td>https://www.gstatic.com/images/icons/material/...</td>\n",
              "      <td>Like</td>\n",
              "      <td>https://www.gstatic.com/images/icons/material/...</td>\n",
              "      <td>Share</td>\n",
              "    </tr>\n",
              "  </tbody>\n",
              "</table>\n",
              "</div>\n",
              "      <button class=\"colab-df-convert\" onclick=\"convertToInteractive('df-aacb1214-70da-41e8-9e11-3af54a6ca365')\"\n",
              "              title=\"Convert this dataframe to an interactive table.\"\n",
              "              style=\"display:none;\">\n",
              "        \n",
              "  <svg xmlns=\"http://www.w3.org/2000/svg\" height=\"24px\"viewBox=\"0 0 24 24\"\n",
              "       width=\"24px\">\n",
              "    <path d=\"M0 0h24v24H0V0z\" fill=\"none\"/>\n",
              "    <path d=\"M18.56 5.44l.94 2.06.94-2.06 2.06-.94-2.06-.94-.94-2.06-.94 2.06-2.06.94zm-11 1L8.5 8.5l.94-2.06 2.06-.94-2.06-.94L8.5 2.5l-.94 2.06-2.06.94zm10 10l.94 2.06.94-2.06 2.06-.94-2.06-.94-.94-2.06-.94 2.06-2.06.94z\"/><path d=\"M17.41 7.96l-1.37-1.37c-.4-.4-.92-.59-1.43-.59-.52 0-1.04.2-1.43.59L10.3 9.45l-7.72 7.72c-.78.78-.78 2.05 0 2.83L4 21.41c.39.39.9.59 1.41.59.51 0 1.02-.2 1.41-.59l7.78-7.78 2.81-2.81c.8-.78.8-2.07 0-2.86zM5.41 20L4 18.59l7.72-7.72 1.47 1.35L5.41 20z\"/>\n",
              "  </svg>\n",
              "      </button>\n",
              "      \n",
              "  <style>\n",
              "    .colab-df-container {\n",
              "      display:flex;\n",
              "      flex-wrap:wrap;\n",
              "      gap: 12px;\n",
              "    }\n",
              "\n",
              "    .colab-df-convert {\n",
              "      background-color: #E8F0FE;\n",
              "      border: none;\n",
              "      border-radius: 50%;\n",
              "      cursor: pointer;\n",
              "      display: none;\n",
              "      fill: #1967D2;\n",
              "      height: 32px;\n",
              "      padding: 0 0 0 0;\n",
              "      width: 32px;\n",
              "    }\n",
              "\n",
              "    .colab-df-convert:hover {\n",
              "      background-color: #E2EBFA;\n",
              "      box-shadow: 0px 1px 2px rgba(60, 64, 67, 0.3), 0px 1px 3px 1px rgba(60, 64, 67, 0.15);\n",
              "      fill: #174EA6;\n",
              "    }\n",
              "\n",
              "    [theme=dark] .colab-df-convert {\n",
              "      background-color: #3B4455;\n",
              "      fill: #D2E3FC;\n",
              "    }\n",
              "\n",
              "    [theme=dark] .colab-df-convert:hover {\n",
              "      background-color: #434B5C;\n",
              "      box-shadow: 0px 1px 3px 1px rgba(0, 0, 0, 0.15);\n",
              "      filter: drop-shadow(0px 1px 2px rgba(0, 0, 0, 0.3));\n",
              "      fill: #FFFFFF;\n",
              "    }\n",
              "  </style>\n",
              "\n",
              "      <script>\n",
              "        const buttonEl =\n",
              "          document.querySelector('#df-aacb1214-70da-41e8-9e11-3af54a6ca365 button.colab-df-convert');\n",
              "        buttonEl.style.display =\n",
              "          google.colab.kernel.accessAllowed ? 'block' : 'none';\n",
              "\n",
              "        async function convertToInteractive(key) {\n",
              "          const element = document.querySelector('#df-aacb1214-70da-41e8-9e11-3af54a6ca365');\n",
              "          const dataTable =\n",
              "            await google.colab.kernel.invokeFunction('convertToInteractive',\n",
              "                                                     [key], {});\n",
              "          if (!dataTable) return;\n",
              "\n",
              "          const docLinkHtml = 'Like what you see? Visit the ' +\n",
              "            '<a target=\"_blank\" href=https://colab.research.google.com/notebooks/data_table.ipynb>data table notebook</a>'\n",
              "            + ' to learn more about interactive tables.';\n",
              "          element.innerHTML = '';\n",
              "          dataTable['output_type'] = 'display_data';\n",
              "          await google.colab.output.renderOutput(dataTable, element);\n",
              "          const docLink = document.createElement('div');\n",
              "          docLink.innerHTML = docLinkHtml;\n",
              "          element.appendChild(docLink);\n",
              "        }\n",
              "      </script>\n",
              "    </div>\n",
              "  </div>\n",
              "  "
            ]
          },
          "metadata": {},
          "execution_count": 10
        }
      ]
    },
    {
      "cell_type": "code",
      "source": [],
      "metadata": {
        "id": "_LEF7C8vmyUE"
      },
      "execution_count": null,
      "outputs": []
    }
  ]
}