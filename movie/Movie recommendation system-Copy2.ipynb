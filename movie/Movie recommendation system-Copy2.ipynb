{
 "cells": [
  {
   "cell_type": "code",
   "execution_count": 1,
   "id": "d3eb5ec7",
   "metadata": {},
   "outputs": [],
   "source": [
    "import numpy as np\n",
    "import pandas as pd"
   ]
  },
  {
   "cell_type": "code",
   "execution_count": 2,
   "id": "4ec836f0",
   "metadata": {},
   "outputs": [],
   "source": [
    "movies= pd.read_csv('tmdb_5000_movies.csv')\n",
    "credits = pd.read_csv('tmdb_5000_credits.csv')"
   ]
  },
  {
   "cell_type": "code",
   "execution_count": 3,
   "id": "ed90ef76",
   "metadata": {},
   "outputs": [
    {
     "data": {
      "text/html": [
       "<div>\n",
       "<style scoped>\n",
       "    .dataframe tbody tr th:only-of-type {\n",
       "        vertical-align: middle;\n",
       "    }\n",
       "\n",
       "    .dataframe tbody tr th {\n",
       "        vertical-align: top;\n",
       "    }\n",
       "\n",
       "    .dataframe thead th {\n",
       "        text-align: right;\n",
       "    }\n",
       "</style>\n",
       "<table border=\"1\" class=\"dataframe\">\n",
       "  <thead>\n",
       "    <tr style=\"text-align: right;\">\n",
       "      <th></th>\n",
       "      <th>budget</th>\n",
       "      <th>genres</th>\n",
       "      <th>homepage</th>\n",
       "      <th>id</th>\n",
       "      <th>keywords</th>\n",
       "      <th>original_language</th>\n",
       "      <th>original_title</th>\n",
       "      <th>overview</th>\n",
       "      <th>popularity</th>\n",
       "      <th>production_companies</th>\n",
       "      <th>production_countries</th>\n",
       "      <th>release_date</th>\n",
       "      <th>revenue</th>\n",
       "      <th>runtime</th>\n",
       "      <th>spoken_languages</th>\n",
       "      <th>status</th>\n",
       "      <th>tagline</th>\n",
       "      <th>title</th>\n",
       "      <th>vote_average</th>\n",
       "      <th>vote_count</th>\n",
       "    </tr>\n",
       "  </thead>\n",
       "  <tbody>\n",
       "    <tr>\n",
       "      <th>0</th>\n",
       "      <td>237000000</td>\n",
       "      <td>[{\"id\": 28, \"name\": \"Action\"}, {\"id\": 12, \"nam...</td>\n",
       "      <td>http://www.avatarmovie.com/</td>\n",
       "      <td>19995</td>\n",
       "      <td>[{\"id\": 1463, \"name\": \"culture clash\"}, {\"id\":...</td>\n",
       "      <td>en</td>\n",
       "      <td>Avatar</td>\n",
       "      <td>In the 22nd century, a paraplegic Marine is di...</td>\n",
       "      <td>150.437577</td>\n",
       "      <td>[{\"name\": \"Ingenious Film Partners\", \"id\": 289...</td>\n",
       "      <td>[{\"iso_3166_1\": \"US\", \"name\": \"United States o...</td>\n",
       "      <td>2009-12-10</td>\n",
       "      <td>2787965087</td>\n",
       "      <td>162.0</td>\n",
       "      <td>[{\"iso_639_1\": \"en\", \"name\": \"English\"}, {\"iso...</td>\n",
       "      <td>Released</td>\n",
       "      <td>Enter the World of Pandora.</td>\n",
       "      <td>Avatar</td>\n",
       "      <td>7.2</td>\n",
       "      <td>11800</td>\n",
       "    </tr>\n",
       "  </tbody>\n",
       "</table>\n",
       "</div>"
      ],
      "text/plain": [
       "      budget                                             genres  \\\n",
       "0  237000000  [{\"id\": 28, \"name\": \"Action\"}, {\"id\": 12, \"nam...   \n",
       "\n",
       "                      homepage     id  \\\n",
       "0  http://www.avatarmovie.com/  19995   \n",
       "\n",
       "                                            keywords original_language  \\\n",
       "0  [{\"id\": 1463, \"name\": \"culture clash\"}, {\"id\":...                en   \n",
       "\n",
       "  original_title                                           overview  \\\n",
       "0         Avatar  In the 22nd century, a paraplegic Marine is di...   \n",
       "\n",
       "   popularity                               production_companies  \\\n",
       "0  150.437577  [{\"name\": \"Ingenious Film Partners\", \"id\": 289...   \n",
       "\n",
       "                                production_countries release_date     revenue  \\\n",
       "0  [{\"iso_3166_1\": \"US\", \"name\": \"United States o...   2009-12-10  2787965087   \n",
       "\n",
       "   runtime                                   spoken_languages    status  \\\n",
       "0    162.0  [{\"iso_639_1\": \"en\", \"name\": \"English\"}, {\"iso...  Released   \n",
       "\n",
       "                       tagline   title  vote_average  vote_count  \n",
       "0  Enter the World of Pandora.  Avatar           7.2       11800  "
      ]
     },
     "execution_count": 3,
     "metadata": {},
     "output_type": "execute_result"
    }
   ],
   "source": [
    "movies.head(1)"
   ]
  },
  {
   "cell_type": "code",
   "execution_count": 4,
   "id": "13de3331",
   "metadata": {},
   "outputs": [
    {
     "data": {
      "text/html": [
       "<div>\n",
       "<style scoped>\n",
       "    .dataframe tbody tr th:only-of-type {\n",
       "        vertical-align: middle;\n",
       "    }\n",
       "\n",
       "    .dataframe tbody tr th {\n",
       "        vertical-align: top;\n",
       "    }\n",
       "\n",
       "    .dataframe thead th {\n",
       "        text-align: right;\n",
       "    }\n",
       "</style>\n",
       "<table border=\"1\" class=\"dataframe\">\n",
       "  <thead>\n",
       "    <tr style=\"text-align: right;\">\n",
       "      <th></th>\n",
       "      <th>movie_id</th>\n",
       "      <th>title</th>\n",
       "      <th>cast</th>\n",
       "      <th>crew</th>\n",
       "    </tr>\n",
       "  </thead>\n",
       "  <tbody>\n",
       "    <tr>\n",
       "      <th>0</th>\n",
       "      <td>19995</td>\n",
       "      <td>Avatar</td>\n",
       "      <td>[{\"cast_id\": 242, \"character\": \"Jake Sully\", \"...</td>\n",
       "      <td>[{\"credit_id\": \"52fe48009251416c750aca23\", \"de...</td>\n",
       "    </tr>\n",
       "  </tbody>\n",
       "</table>\n",
       "</div>"
      ],
      "text/plain": [
       "   movie_id   title                                               cast  \\\n",
       "0     19995  Avatar  [{\"cast_id\": 242, \"character\": \"Jake Sully\", \"...   \n",
       "\n",
       "                                                crew  \n",
       "0  [{\"credit_id\": \"52fe48009251416c750aca23\", \"de...  "
      ]
     },
     "execution_count": 4,
     "metadata": {},
     "output_type": "execute_result"
    }
   ],
   "source": [
    "credits.head(1)"
   ]
  },
  {
   "cell_type": "code",
   "execution_count": 5,
   "id": "3b37500c",
   "metadata": {},
   "outputs": [],
   "source": [
    "movies = movies.merge(credits,on='title')"
   ]
  },
  {
   "cell_type": "code",
   "execution_count": 6,
   "id": "fa4fab71",
   "metadata": {},
   "outputs": [
    {
     "data": {
      "text/html": [
       "<div>\n",
       "<style scoped>\n",
       "    .dataframe tbody tr th:only-of-type {\n",
       "        vertical-align: middle;\n",
       "    }\n",
       "\n",
       "    .dataframe tbody tr th {\n",
       "        vertical-align: top;\n",
       "    }\n",
       "\n",
       "    .dataframe thead th {\n",
       "        text-align: right;\n",
       "    }\n",
       "</style>\n",
       "<table border=\"1\" class=\"dataframe\">\n",
       "  <thead>\n",
       "    <tr style=\"text-align: right;\">\n",
       "      <th></th>\n",
       "      <th>budget</th>\n",
       "      <th>genres</th>\n",
       "      <th>homepage</th>\n",
       "      <th>id</th>\n",
       "      <th>keywords</th>\n",
       "      <th>original_language</th>\n",
       "      <th>original_title</th>\n",
       "      <th>overview</th>\n",
       "      <th>popularity</th>\n",
       "      <th>production_companies</th>\n",
       "      <th>...</th>\n",
       "      <th>runtime</th>\n",
       "      <th>spoken_languages</th>\n",
       "      <th>status</th>\n",
       "      <th>tagline</th>\n",
       "      <th>title</th>\n",
       "      <th>vote_average</th>\n",
       "      <th>vote_count</th>\n",
       "      <th>movie_id</th>\n",
       "      <th>cast</th>\n",
       "      <th>crew</th>\n",
       "    </tr>\n",
       "  </thead>\n",
       "  <tbody>\n",
       "    <tr>\n",
       "      <th>0</th>\n",
       "      <td>237000000</td>\n",
       "      <td>[{\"id\": 28, \"name\": \"Action\"}, {\"id\": 12, \"nam...</td>\n",
       "      <td>http://www.avatarmovie.com/</td>\n",
       "      <td>19995</td>\n",
       "      <td>[{\"id\": 1463, \"name\": \"culture clash\"}, {\"id\":...</td>\n",
       "      <td>en</td>\n",
       "      <td>Avatar</td>\n",
       "      <td>In the 22nd century, a paraplegic Marine is di...</td>\n",
       "      <td>150.437577</td>\n",
       "      <td>[{\"name\": \"Ingenious Film Partners\", \"id\": 289...</td>\n",
       "      <td>...</td>\n",
       "      <td>162.0</td>\n",
       "      <td>[{\"iso_639_1\": \"en\", \"name\": \"English\"}, {\"iso...</td>\n",
       "      <td>Released</td>\n",
       "      <td>Enter the World of Pandora.</td>\n",
       "      <td>Avatar</td>\n",
       "      <td>7.2</td>\n",
       "      <td>11800</td>\n",
       "      <td>19995</td>\n",
       "      <td>[{\"cast_id\": 242, \"character\": \"Jake Sully\", \"...</td>\n",
       "      <td>[{\"credit_id\": \"52fe48009251416c750aca23\", \"de...</td>\n",
       "    </tr>\n",
       "  </tbody>\n",
       "</table>\n",
       "<p>1 rows × 23 columns</p>\n",
       "</div>"
      ],
      "text/plain": [
       "      budget                                             genres  \\\n",
       "0  237000000  [{\"id\": 28, \"name\": \"Action\"}, {\"id\": 12, \"nam...   \n",
       "\n",
       "                      homepage     id  \\\n",
       "0  http://www.avatarmovie.com/  19995   \n",
       "\n",
       "                                            keywords original_language  \\\n",
       "0  [{\"id\": 1463, \"name\": \"culture clash\"}, {\"id\":...                en   \n",
       "\n",
       "  original_title                                           overview  \\\n",
       "0         Avatar  In the 22nd century, a paraplegic Marine is di...   \n",
       "\n",
       "   popularity                               production_companies  ... runtime  \\\n",
       "0  150.437577  [{\"name\": \"Ingenious Film Partners\", \"id\": 289...  ...   162.0   \n",
       "\n",
       "                                    spoken_languages    status  \\\n",
       "0  [{\"iso_639_1\": \"en\", \"name\": \"English\"}, {\"iso...  Released   \n",
       "\n",
       "                       tagline   title vote_average vote_count movie_id  \\\n",
       "0  Enter the World of Pandora.  Avatar          7.2      11800    19995   \n",
       "\n",
       "                                                cast  \\\n",
       "0  [{\"cast_id\": 242, \"character\": \"Jake Sully\", \"...   \n",
       "\n",
       "                                                crew  \n",
       "0  [{\"credit_id\": \"52fe48009251416c750aca23\", \"de...  \n",
       "\n",
       "[1 rows x 23 columns]"
      ]
     },
     "execution_count": 6,
     "metadata": {},
     "output_type": "execute_result"
    }
   ],
   "source": [
    "movies.head(1)"
   ]
  },
  {
   "cell_type": "code",
   "execution_count": 7,
   "id": "6004d6f7",
   "metadata": {},
   "outputs": [],
   "source": [
    "movies= movies[['movie_id','title','overview','genres','keywords','cast','crew']]"
   ]
  },
  {
   "cell_type": "code",
   "execution_count": 8,
   "id": "7b6e733d",
   "metadata": {},
   "outputs": [
    {
     "data": {
      "text/html": [
       "<div>\n",
       "<style scoped>\n",
       "    .dataframe tbody tr th:only-of-type {\n",
       "        vertical-align: middle;\n",
       "    }\n",
       "\n",
       "    .dataframe tbody tr th {\n",
       "        vertical-align: top;\n",
       "    }\n",
       "\n",
       "    .dataframe thead th {\n",
       "        text-align: right;\n",
       "    }\n",
       "</style>\n",
       "<table border=\"1\" class=\"dataframe\">\n",
       "  <thead>\n",
       "    <tr style=\"text-align: right;\">\n",
       "      <th></th>\n",
       "      <th>movie_id</th>\n",
       "      <th>title</th>\n",
       "      <th>overview</th>\n",
       "      <th>genres</th>\n",
       "      <th>keywords</th>\n",
       "      <th>cast</th>\n",
       "      <th>crew</th>\n",
       "    </tr>\n",
       "  </thead>\n",
       "  <tbody>\n",
       "    <tr>\n",
       "      <th>0</th>\n",
       "      <td>19995</td>\n",
       "      <td>Avatar</td>\n",
       "      <td>In the 22nd century, a paraplegic Marine is di...</td>\n",
       "      <td>[{\"id\": 28, \"name\": \"Action\"}, {\"id\": 12, \"nam...</td>\n",
       "      <td>[{\"id\": 1463, \"name\": \"culture clash\"}, {\"id\":...</td>\n",
       "      <td>[{\"cast_id\": 242, \"character\": \"Jake Sully\", \"...</td>\n",
       "      <td>[{\"credit_id\": \"52fe48009251416c750aca23\", \"de...</td>\n",
       "    </tr>\n",
       "    <tr>\n",
       "      <th>1</th>\n",
       "      <td>285</td>\n",
       "      <td>Pirates of the Caribbean: At World's End</td>\n",
       "      <td>Captain Barbossa, long believed to be dead, ha...</td>\n",
       "      <td>[{\"id\": 12, \"name\": \"Adventure\"}, {\"id\": 14, \"...</td>\n",
       "      <td>[{\"id\": 270, \"name\": \"ocean\"}, {\"id\": 726, \"na...</td>\n",
       "      <td>[{\"cast_id\": 4, \"character\": \"Captain Jack Spa...</td>\n",
       "      <td>[{\"credit_id\": \"52fe4232c3a36847f800b579\", \"de...</td>\n",
       "    </tr>\n",
       "    <tr>\n",
       "      <th>2</th>\n",
       "      <td>206647</td>\n",
       "      <td>Spectre</td>\n",
       "      <td>A cryptic message from Bond’s past sends him o...</td>\n",
       "      <td>[{\"id\": 28, \"name\": \"Action\"}, {\"id\": 12, \"nam...</td>\n",
       "      <td>[{\"id\": 470, \"name\": \"spy\"}, {\"id\": 818, \"name...</td>\n",
       "      <td>[{\"cast_id\": 1, \"character\": \"James Bond\", \"cr...</td>\n",
       "      <td>[{\"credit_id\": \"54805967c3a36829b5002c41\", \"de...</td>\n",
       "    </tr>\n",
       "    <tr>\n",
       "      <th>3</th>\n",
       "      <td>49026</td>\n",
       "      <td>The Dark Knight Rises</td>\n",
       "      <td>Following the death of District Attorney Harve...</td>\n",
       "      <td>[{\"id\": 28, \"name\": \"Action\"}, {\"id\": 80, \"nam...</td>\n",
       "      <td>[{\"id\": 849, \"name\": \"dc comics\"}, {\"id\": 853,...</td>\n",
       "      <td>[{\"cast_id\": 2, \"character\": \"Bruce Wayne / Ba...</td>\n",
       "      <td>[{\"credit_id\": \"52fe4781c3a36847f81398c3\", \"de...</td>\n",
       "    </tr>\n",
       "    <tr>\n",
       "      <th>4</th>\n",
       "      <td>49529</td>\n",
       "      <td>John Carter</td>\n",
       "      <td>John Carter is a war-weary, former military ca...</td>\n",
       "      <td>[{\"id\": 28, \"name\": \"Action\"}, {\"id\": 12, \"nam...</td>\n",
       "      <td>[{\"id\": 818, \"name\": \"based on novel\"}, {\"id\":...</td>\n",
       "      <td>[{\"cast_id\": 5, \"character\": \"John Carter\", \"c...</td>\n",
       "      <td>[{\"credit_id\": \"52fe479ac3a36847f813eaa3\", \"de...</td>\n",
       "    </tr>\n",
       "  </tbody>\n",
       "</table>\n",
       "</div>"
      ],
      "text/plain": [
       "   movie_id                                     title  \\\n",
       "0     19995                                    Avatar   \n",
       "1       285  Pirates of the Caribbean: At World's End   \n",
       "2    206647                                   Spectre   \n",
       "3     49026                     The Dark Knight Rises   \n",
       "4     49529                               John Carter   \n",
       "\n",
       "                                            overview  \\\n",
       "0  In the 22nd century, a paraplegic Marine is di...   \n",
       "1  Captain Barbossa, long believed to be dead, ha...   \n",
       "2  A cryptic message from Bond’s past sends him o...   \n",
       "3  Following the death of District Attorney Harve...   \n",
       "4  John Carter is a war-weary, former military ca...   \n",
       "\n",
       "                                              genres  \\\n",
       "0  [{\"id\": 28, \"name\": \"Action\"}, {\"id\": 12, \"nam...   \n",
       "1  [{\"id\": 12, \"name\": \"Adventure\"}, {\"id\": 14, \"...   \n",
       "2  [{\"id\": 28, \"name\": \"Action\"}, {\"id\": 12, \"nam...   \n",
       "3  [{\"id\": 28, \"name\": \"Action\"}, {\"id\": 80, \"nam...   \n",
       "4  [{\"id\": 28, \"name\": \"Action\"}, {\"id\": 12, \"nam...   \n",
       "\n",
       "                                            keywords  \\\n",
       "0  [{\"id\": 1463, \"name\": \"culture clash\"}, {\"id\":...   \n",
       "1  [{\"id\": 270, \"name\": \"ocean\"}, {\"id\": 726, \"na...   \n",
       "2  [{\"id\": 470, \"name\": \"spy\"}, {\"id\": 818, \"name...   \n",
       "3  [{\"id\": 849, \"name\": \"dc comics\"}, {\"id\": 853,...   \n",
       "4  [{\"id\": 818, \"name\": \"based on novel\"}, {\"id\":...   \n",
       "\n",
       "                                                cast  \\\n",
       "0  [{\"cast_id\": 242, \"character\": \"Jake Sully\", \"...   \n",
       "1  [{\"cast_id\": 4, \"character\": \"Captain Jack Spa...   \n",
       "2  [{\"cast_id\": 1, \"character\": \"James Bond\", \"cr...   \n",
       "3  [{\"cast_id\": 2, \"character\": \"Bruce Wayne / Ba...   \n",
       "4  [{\"cast_id\": 5, \"character\": \"John Carter\", \"c...   \n",
       "\n",
       "                                                crew  \n",
       "0  [{\"credit_id\": \"52fe48009251416c750aca23\", \"de...  \n",
       "1  [{\"credit_id\": \"52fe4232c3a36847f800b579\", \"de...  \n",
       "2  [{\"credit_id\": \"54805967c3a36829b5002c41\", \"de...  \n",
       "3  [{\"credit_id\": \"52fe4781c3a36847f81398c3\", \"de...  \n",
       "4  [{\"credit_id\": \"52fe479ac3a36847f813eaa3\", \"de...  "
      ]
     },
     "execution_count": 8,
     "metadata": {},
     "output_type": "execute_result"
    }
   ],
   "source": [
    "movies.head(5)"
   ]
  },
  {
   "cell_type": "code",
   "execution_count": 9,
   "id": "c69cf323",
   "metadata": {},
   "outputs": [
    {
     "data": {
      "text/plain": [
       "movie_id    0\n",
       "title       0\n",
       "overview    3\n",
       "genres      0\n",
       "keywords    0\n",
       "cast        0\n",
       "crew        0\n",
       "dtype: int64"
      ]
     },
     "execution_count": 9,
     "metadata": {},
     "output_type": "execute_result"
    }
   ],
   "source": [
    "movies.isnull().sum()"
   ]
  },
  {
   "cell_type": "code",
   "execution_count": 10,
   "id": "8d487bae",
   "metadata": {},
   "outputs": [],
   "source": [
    "movies.dropna(inplace=True)"
   ]
  },
  {
   "cell_type": "code",
   "execution_count": 11,
   "id": "5c067138",
   "metadata": {},
   "outputs": [
    {
     "data": {
      "text/plain": [
       "0"
      ]
     },
     "execution_count": 11,
     "metadata": {},
     "output_type": "execute_result"
    }
   ],
   "source": [
    "movies.duplicated().sum()"
   ]
  },
  {
   "cell_type": "code",
   "execution_count": 12,
   "id": "71d624fb",
   "metadata": {},
   "outputs": [
    {
     "data": {
      "text/plain": [
       "'[{\"id\": 28, \"name\": \"Action\"}, {\"id\": 12, \"name\": \"Adventure\"}, {\"id\": 14, \"name\": \"Fantasy\"}, {\"id\": 878, \"name\": \"Science Fiction\"}]'"
      ]
     },
     "execution_count": 12,
     "metadata": {},
     "output_type": "execute_result"
    }
   ],
   "source": [
    "movies.iloc[0].genres"
   ]
  },
  {
   "cell_type": "code",
   "execution_count": 13,
   "id": "66d4d60c",
   "metadata": {},
   "outputs": [],
   "source": [
    "import ast"
   ]
  },
  {
   "cell_type": "code",
   "execution_count": 14,
   "id": "27f3f603",
   "metadata": {},
   "outputs": [],
   "source": [
    "def convert(obj):\n",
    "    L = []\n",
    "    for i in ast.literal_eval(obj):\n",
    "        L.append(i['name'])\n",
    "    return L"
   ]
  },
  {
   "cell_type": "code",
   "execution_count": 15,
   "id": "d9b5db82",
   "metadata": {},
   "outputs": [],
   "source": [
    "movies['genres']=movies['genres'].apply(convert)"
   ]
  },
  {
   "cell_type": "code",
   "execution_count": 16,
   "id": "37711cc1",
   "metadata": {},
   "outputs": [],
   "source": [
    "movies['keywords']=movies['keywords'].apply(convert)"
   ]
  },
  {
   "cell_type": "code",
   "execution_count": 17,
   "id": "66c22518",
   "metadata": {
    "scrolled": true
   },
   "outputs": [
    {
     "data": {
      "text/html": [
       "<div>\n",
       "<style scoped>\n",
       "    .dataframe tbody tr th:only-of-type {\n",
       "        vertical-align: middle;\n",
       "    }\n",
       "\n",
       "    .dataframe tbody tr th {\n",
       "        vertical-align: top;\n",
       "    }\n",
       "\n",
       "    .dataframe thead th {\n",
       "        text-align: right;\n",
       "    }\n",
       "</style>\n",
       "<table border=\"1\" class=\"dataframe\">\n",
       "  <thead>\n",
       "    <tr style=\"text-align: right;\">\n",
       "      <th></th>\n",
       "      <th>movie_id</th>\n",
       "      <th>title</th>\n",
       "      <th>overview</th>\n",
       "      <th>genres</th>\n",
       "      <th>keywords</th>\n",
       "      <th>cast</th>\n",
       "      <th>crew</th>\n",
       "    </tr>\n",
       "  </thead>\n",
       "  <tbody>\n",
       "    <tr>\n",
       "      <th>0</th>\n",
       "      <td>19995</td>\n",
       "      <td>Avatar</td>\n",
       "      <td>In the 22nd century, a paraplegic Marine is di...</td>\n",
       "      <td>[Action, Adventure, Fantasy, Science Fiction]</td>\n",
       "      <td>[culture clash, future, space war, space colon...</td>\n",
       "      <td>[{\"cast_id\": 242, \"character\": \"Jake Sully\", \"...</td>\n",
       "      <td>[{\"credit_id\": \"52fe48009251416c750aca23\", \"de...</td>\n",
       "    </tr>\n",
       "  </tbody>\n",
       "</table>\n",
       "</div>"
      ],
      "text/plain": [
       "   movie_id   title                                           overview  \\\n",
       "0     19995  Avatar  In the 22nd century, a paraplegic Marine is di...   \n",
       "\n",
       "                                          genres  \\\n",
       "0  [Action, Adventure, Fantasy, Science Fiction]   \n",
       "\n",
       "                                            keywords  \\\n",
       "0  [culture clash, future, space war, space colon...   \n",
       "\n",
       "                                                cast  \\\n",
       "0  [{\"cast_id\": 242, \"character\": \"Jake Sully\", \"...   \n",
       "\n",
       "                                                crew  \n",
       "0  [{\"credit_id\": \"52fe48009251416c750aca23\", \"de...  "
      ]
     },
     "execution_count": 17,
     "metadata": {},
     "output_type": "execute_result"
    }
   ],
   "source": [
    "movies.head(1)"
   ]
  },
  {
   "cell_type": "code",
   "execution_count": 18,
   "id": "d12e55a9",
   "metadata": {},
   "outputs": [],
   "source": [
    "def convert3(obj):\n",
    "    L = []\n",
    "    counter = 0\n",
    "    for i in ast.literal_eval(obj):\n",
    "        if counter != 3:\n",
    "            L.append(i['name'])\n",
    "            counter+=1\n",
    "        else:\n",
    "            break\n",
    "    return L"
   ]
  },
  {
   "cell_type": "code",
   "execution_count": 19,
   "id": "cacab861",
   "metadata": {},
   "outputs": [],
   "source": [
    "movies['cast']=movies['cast'].apply(convert)"
   ]
  },
  {
   "cell_type": "code",
   "execution_count": 21,
   "id": "2f473d4a",
   "metadata": {},
   "outputs": [
    {
     "ename": "NameError",
     "evalue": "name 'a' is not defined",
     "output_type": "error",
     "traceback": [
      "\u001b[1;31m---------------------------------------------------------------------------\u001b[0m",
      "\u001b[1;31mNameError\u001b[0m                                 Traceback (most recent call last)",
      "\u001b[1;32m~\\AppData\\Local\\Temp/ipykernel_24152/124828041.py\u001b[0m in \u001b[0;36m<module>\u001b[1;34m\u001b[0m\n\u001b[0;32m     18\u001b[0m \u001b[1;33m\u001b[0m\u001b[0m\n\u001b[0;32m     19\u001b[0m \u001b[1;33m\u001b[0m\u001b[0m\n\u001b[1;32m---> 20\u001b[1;33m \u001b[0mrecommendation_genres\u001b[0m\u001b[1;33m(\u001b[0m\u001b[0ma\u001b[0m\u001b[1;33m)\u001b[0m\u001b[1;33m\u001b[0m\u001b[1;33m\u001b[0m\u001b[0m\n\u001b[0m",
      "\u001b[1;31mNameError\u001b[0m: name 'a' is not defined"
     ]
    }
   ],
   "source": [
    "# test_df = pd.DataFrame()\n",
    "\n",
    "# movies.head()\n",
    "\n",
    "\n",
    "\n",
    "\n",
    "def recommendation_genres():\n",
    "    count=0\n",
    "    b = input(\"Enter Keyword:\")\n",
    "    a = input('Enter genre: ')\n",
    "    for a in movies.iloc:\n",
    "        if b in i['genres']:\n",
    "            print(i['movie_id'],'     -     ', i['title'])\n",
    "            count+=1 \n",
    "        if count==6:\n",
    "            break\n",
    "            \n",
    "\n",
    "recommendation_genres()"
   ]
  },
  {
   "cell_type": "code",
   "execution_count": 23,
   "id": "ddfd1881",
   "metadata": {},
   "outputs": [
    {
     "name": "stdout",
     "output_type": "stream",
     "text": [
      "Enter genre: ScienceFiction\n"
     ]
    },
    {
     "ename": "TypeError",
     "evalue": "recommendation_genres() takes 0 positional arguments but 1 was given",
     "output_type": "error",
     "traceback": [
      "\u001b[1;31m---------------------------------------------------------------------------\u001b[0m",
      "\u001b[1;31mTypeError\u001b[0m                                 Traceback (most recent call last)",
      "\u001b[1;32m~\\AppData\\Local\\Temp/ipykernel_24152/1370464001.py\u001b[0m in \u001b[0;36m<module>\u001b[1;34m\u001b[0m\n\u001b[0;32m      9\u001b[0m \u001b[1;33m\u001b[0m\u001b[0m\n\u001b[0;32m     10\u001b[0m \u001b[0ma\u001b[0m \u001b[1;33m=\u001b[0m \u001b[0minput\u001b[0m\u001b[1;33m(\u001b[0m\u001b[1;34m'Enter genre: '\u001b[0m\u001b[1;33m)\u001b[0m\u001b[1;33m\u001b[0m\u001b[1;33m\u001b[0m\u001b[0m\n\u001b[1;32m---> 11\u001b[1;33m \u001b[0mrecommendation_genres\u001b[0m\u001b[1;33m(\u001b[0m\u001b[0ma\u001b[0m\u001b[1;33m)\u001b[0m\u001b[1;33m\u001b[0m\u001b[1;33m\u001b[0m\u001b[0m\n\u001b[0m",
      "\u001b[1;31mTypeError\u001b[0m: recommendation_genres() takes 0 positional arguments but 1 was given"
     ]
    }
   ],
   "source": [
    "def recommendation_cast(a):\n",
    "    count=0\n",
    "    for i in movies.iloc:\n",
    "        if 'ScienceFiction' in i['genres']:\n",
    "            print(i['movie_id'],'     -     ', i['title'])\n",
    "            count+=1 \n",
    "        if count==6:\n",
    "            break\n",
    "            \n",
    "a = input('Enter genre: ')\n",
    "recommendation_genres(a)"
   ]
  },
  {
   "cell_type": "code",
   "execution_count": 24,
   "id": "b124c123",
   "metadata": {},
   "outputs": [
    {
     "data": {
      "text/plain": [
       "False"
      ]
     },
     "execution_count": 24,
     "metadata": {},
     "output_type": "execute_result"
    }
   ],
   "source": [
    "a = [1, 2, 3, 4, 5]\n",
    "8 in a"
   ]
  },
  {
   "cell_type": "code",
   "execution_count": 25,
   "id": "6507e5bf",
   "metadata": {},
   "outputs": [
    {
     "data": {
      "text/html": [
       "<div>\n",
       "<style scoped>\n",
       "    .dataframe tbody tr th:only-of-type {\n",
       "        vertical-align: middle;\n",
       "    }\n",
       "\n",
       "    .dataframe tbody tr th {\n",
       "        vertical-align: top;\n",
       "    }\n",
       "\n",
       "    .dataframe thead th {\n",
       "        text-align: right;\n",
       "    }\n",
       "</style>\n",
       "<table border=\"1\" class=\"dataframe\">\n",
       "  <thead>\n",
       "    <tr style=\"text-align: right;\">\n",
       "      <th></th>\n",
       "      <th>movie_id</th>\n",
       "      <th>title</th>\n",
       "      <th>overview</th>\n",
       "      <th>genres</th>\n",
       "      <th>keywords</th>\n",
       "      <th>cast</th>\n",
       "      <th>crew</th>\n",
       "    </tr>\n",
       "  </thead>\n",
       "  <tbody>\n",
       "    <tr>\n",
       "      <th>0</th>\n",
       "      <td>19995</td>\n",
       "      <td>Avatar</td>\n",
       "      <td>In the 22nd century, a paraplegic Marine is di...</td>\n",
       "      <td>[Action, Adventure, Fantasy, Science Fiction]</td>\n",
       "      <td>[culture clash, future, space war, space colon...</td>\n",
       "      <td>[Sam Worthington, Zoe Saldana, Sigourney Weave...</td>\n",
       "      <td>[{\"credit_id\": \"52fe48009251416c750aca23\", \"de...</td>\n",
       "    </tr>\n",
       "  </tbody>\n",
       "</table>\n",
       "</div>"
      ],
      "text/plain": [
       "   movie_id   title                                           overview  \\\n",
       "0     19995  Avatar  In the 22nd century, a paraplegic Marine is di...   \n",
       "\n",
       "                                          genres  \\\n",
       "0  [Action, Adventure, Fantasy, Science Fiction]   \n",
       "\n",
       "                                            keywords  \\\n",
       "0  [culture clash, future, space war, space colon...   \n",
       "\n",
       "                                                cast  \\\n",
       "0  [Sam Worthington, Zoe Saldana, Sigourney Weave...   \n",
       "\n",
       "                                                crew  \n",
       "0  [{\"credit_id\": \"52fe48009251416c750aca23\", \"de...  "
      ]
     },
     "execution_count": 25,
     "metadata": {},
     "output_type": "execute_result"
    }
   ],
   "source": [
    "movies.head(1)"
   ]
  },
  {
   "cell_type": "code",
   "execution_count": 26,
   "id": "7bfe3494",
   "metadata": {},
   "outputs": [],
   "source": [
    "def fetch_director(obj):\n",
    "    L= []\n",
    "    for i in ast.literal_eval(obj):\n",
    "        if i['job'] == 'Director':\n",
    "            L.append(i['name'])\n",
    "            break\n",
    "    return L"
   ]
  },
  {
   "cell_type": "code",
   "execution_count": 27,
   "id": "55cc37ad",
   "metadata": {},
   "outputs": [],
   "source": [
    "movies['crew']=movies['crew'].apply(fetch_director)"
   ]
  },
  {
   "cell_type": "code",
   "execution_count": 28,
   "id": "b9b23d19",
   "metadata": {},
   "outputs": [
    {
     "data": {
      "text/html": [
       "<div>\n",
       "<style scoped>\n",
       "    .dataframe tbody tr th:only-of-type {\n",
       "        vertical-align: middle;\n",
       "    }\n",
       "\n",
       "    .dataframe tbody tr th {\n",
       "        vertical-align: top;\n",
       "    }\n",
       "\n",
       "    .dataframe thead th {\n",
       "        text-align: right;\n",
       "    }\n",
       "</style>\n",
       "<table border=\"1\" class=\"dataframe\">\n",
       "  <thead>\n",
       "    <tr style=\"text-align: right;\">\n",
       "      <th></th>\n",
       "      <th>movie_id</th>\n",
       "      <th>title</th>\n",
       "      <th>overview</th>\n",
       "      <th>genres</th>\n",
       "      <th>keywords</th>\n",
       "      <th>cast</th>\n",
       "      <th>crew</th>\n",
       "    </tr>\n",
       "  </thead>\n",
       "  <tbody>\n",
       "    <tr>\n",
       "      <th>0</th>\n",
       "      <td>19995</td>\n",
       "      <td>Avatar</td>\n",
       "      <td>In the 22nd century, a paraplegic Marine is di...</td>\n",
       "      <td>[Action, Adventure, Fantasy, Science Fiction]</td>\n",
       "      <td>[culture clash, future, space war, space colon...</td>\n",
       "      <td>[Sam Worthington, Zoe Saldana, Sigourney Weave...</td>\n",
       "      <td>[James Cameron]</td>\n",
       "    </tr>\n",
       "  </tbody>\n",
       "</table>\n",
       "</div>"
      ],
      "text/plain": [
       "   movie_id   title                                           overview  \\\n",
       "0     19995  Avatar  In the 22nd century, a paraplegic Marine is di...   \n",
       "\n",
       "                                          genres  \\\n",
       "0  [Action, Adventure, Fantasy, Science Fiction]   \n",
       "\n",
       "                                            keywords  \\\n",
       "0  [culture clash, future, space war, space colon...   \n",
       "\n",
       "                                                cast             crew  \n",
       "0  [Sam Worthington, Zoe Saldana, Sigourney Weave...  [James Cameron]  "
      ]
     },
     "execution_count": 28,
     "metadata": {},
     "output_type": "execute_result"
    }
   ],
   "source": [
    "movies.head(1)"
   ]
  },
  {
   "cell_type": "code",
   "execution_count": 29,
   "id": "851f9e5d",
   "metadata": {},
   "outputs": [],
   "source": [
    "movies['overview']=movies['overview'].apply(lambda x:x.split())"
   ]
  },
  {
   "cell_type": "code",
   "execution_count": 30,
   "id": "6e6ad54e",
   "metadata": {},
   "outputs": [
    {
     "data": {
      "text/html": [
       "<div>\n",
       "<style scoped>\n",
       "    .dataframe tbody tr th:only-of-type {\n",
       "        vertical-align: middle;\n",
       "    }\n",
       "\n",
       "    .dataframe tbody tr th {\n",
       "        vertical-align: top;\n",
       "    }\n",
       "\n",
       "    .dataframe thead th {\n",
       "        text-align: right;\n",
       "    }\n",
       "</style>\n",
       "<table border=\"1\" class=\"dataframe\">\n",
       "  <thead>\n",
       "    <tr style=\"text-align: right;\">\n",
       "      <th></th>\n",
       "      <th>movie_id</th>\n",
       "      <th>title</th>\n",
       "      <th>overview</th>\n",
       "      <th>genres</th>\n",
       "      <th>keywords</th>\n",
       "      <th>cast</th>\n",
       "      <th>crew</th>\n",
       "    </tr>\n",
       "  </thead>\n",
       "  <tbody>\n",
       "    <tr>\n",
       "      <th>0</th>\n",
       "      <td>19995</td>\n",
       "      <td>Avatar</td>\n",
       "      <td>[In, the, 22nd, century,, a, paraplegic, Marin...</td>\n",
       "      <td>[Action, Adventure, Fantasy, Science Fiction]</td>\n",
       "      <td>[culture clash, future, space war, space colon...</td>\n",
       "      <td>[Sam Worthington, Zoe Saldana, Sigourney Weave...</td>\n",
       "      <td>[James Cameron]</td>\n",
       "    </tr>\n",
       "    <tr>\n",
       "      <th>1</th>\n",
       "      <td>285</td>\n",
       "      <td>Pirates of the Caribbean: At World's End</td>\n",
       "      <td>[Captain, Barbossa,, long, believed, to, be, d...</td>\n",
       "      <td>[Adventure, Fantasy, Action]</td>\n",
       "      <td>[ocean, drug abuse, exotic island, east india ...</td>\n",
       "      <td>[Johnny Depp, Orlando Bloom, Keira Knightley, ...</td>\n",
       "      <td>[Gore Verbinski]</td>\n",
       "    </tr>\n",
       "    <tr>\n",
       "      <th>2</th>\n",
       "      <td>206647</td>\n",
       "      <td>Spectre</td>\n",
       "      <td>[A, cryptic, message, from, Bond’s, past, send...</td>\n",
       "      <td>[Action, Adventure, Crime]</td>\n",
       "      <td>[spy, based on novel, secret agent, sequel, mi...</td>\n",
       "      <td>[Daniel Craig, Christoph Waltz, Léa Seydoux, R...</td>\n",
       "      <td>[Sam Mendes]</td>\n",
       "    </tr>\n",
       "    <tr>\n",
       "      <th>3</th>\n",
       "      <td>49026</td>\n",
       "      <td>The Dark Knight Rises</td>\n",
       "      <td>[Following, the, death, of, District, Attorney...</td>\n",
       "      <td>[Action, Crime, Drama, Thriller]</td>\n",
       "      <td>[dc comics, crime fighter, terrorist, secret i...</td>\n",
       "      <td>[Christian Bale, Michael Caine, Gary Oldman, A...</td>\n",
       "      <td>[Christopher Nolan]</td>\n",
       "    </tr>\n",
       "    <tr>\n",
       "      <th>4</th>\n",
       "      <td>49529</td>\n",
       "      <td>John Carter</td>\n",
       "      <td>[John, Carter, is, a, war-weary,, former, mili...</td>\n",
       "      <td>[Action, Adventure, Science Fiction]</td>\n",
       "      <td>[based on novel, mars, medallion, space travel...</td>\n",
       "      <td>[Taylor Kitsch, Lynn Collins, Samantha Morton,...</td>\n",
       "      <td>[Andrew Stanton]</td>\n",
       "    </tr>\n",
       "  </tbody>\n",
       "</table>\n",
       "</div>"
      ],
      "text/plain": [
       "   movie_id                                     title  \\\n",
       "0     19995                                    Avatar   \n",
       "1       285  Pirates of the Caribbean: At World's End   \n",
       "2    206647                                   Spectre   \n",
       "3     49026                     The Dark Knight Rises   \n",
       "4     49529                               John Carter   \n",
       "\n",
       "                                            overview  \\\n",
       "0  [In, the, 22nd, century,, a, paraplegic, Marin...   \n",
       "1  [Captain, Barbossa,, long, believed, to, be, d...   \n",
       "2  [A, cryptic, message, from, Bond’s, past, send...   \n",
       "3  [Following, the, death, of, District, Attorney...   \n",
       "4  [John, Carter, is, a, war-weary,, former, mili...   \n",
       "\n",
       "                                          genres  \\\n",
       "0  [Action, Adventure, Fantasy, Science Fiction]   \n",
       "1                   [Adventure, Fantasy, Action]   \n",
       "2                     [Action, Adventure, Crime]   \n",
       "3               [Action, Crime, Drama, Thriller]   \n",
       "4           [Action, Adventure, Science Fiction]   \n",
       "\n",
       "                                            keywords  \\\n",
       "0  [culture clash, future, space war, space colon...   \n",
       "1  [ocean, drug abuse, exotic island, east india ...   \n",
       "2  [spy, based on novel, secret agent, sequel, mi...   \n",
       "3  [dc comics, crime fighter, terrorist, secret i...   \n",
       "4  [based on novel, mars, medallion, space travel...   \n",
       "\n",
       "                                                cast                 crew  \n",
       "0  [Sam Worthington, Zoe Saldana, Sigourney Weave...      [James Cameron]  \n",
       "1  [Johnny Depp, Orlando Bloom, Keira Knightley, ...     [Gore Verbinski]  \n",
       "2  [Daniel Craig, Christoph Waltz, Léa Seydoux, R...         [Sam Mendes]  \n",
       "3  [Christian Bale, Michael Caine, Gary Oldman, A...  [Christopher Nolan]  \n",
       "4  [Taylor Kitsch, Lynn Collins, Samantha Morton,...     [Andrew Stanton]  "
      ]
     },
     "execution_count": 30,
     "metadata": {},
     "output_type": "execute_result"
    }
   ],
   "source": [
    "movies.head()"
   ]
  },
  {
   "cell_type": "code",
   "execution_count": 31,
   "id": "1a054398",
   "metadata": {},
   "outputs": [],
   "source": [
    "movies['genres']= movies['genres'].apply(lambda x:[i.replace(\" \",\"\") for i in x])\n",
    "movies['keywords']= movies['keywords'].apply(lambda x:[i.replace(\" \",\"\") for i in x])\n",
    "movies['cast']= movies['cast'].apply(lambda x:[i.replace(\" \",\"\") for i in x])\n",
    "movies['crew']= movies['crew'].apply(lambda x:[i.replace(\" \",\"\") for i in x])"
   ]
  },
  {
   "cell_type": "code",
   "execution_count": 32,
   "id": "80e0773a",
   "metadata": {},
   "outputs": [
    {
     "data": {
      "text/html": [
       "<div>\n",
       "<style scoped>\n",
       "    .dataframe tbody tr th:only-of-type {\n",
       "        vertical-align: middle;\n",
       "    }\n",
       "\n",
       "    .dataframe tbody tr th {\n",
       "        vertical-align: top;\n",
       "    }\n",
       "\n",
       "    .dataframe thead th {\n",
       "        text-align: right;\n",
       "    }\n",
       "</style>\n",
       "<table border=\"1\" class=\"dataframe\">\n",
       "  <thead>\n",
       "    <tr style=\"text-align: right;\">\n",
       "      <th></th>\n",
       "      <th>movie_id</th>\n",
       "      <th>title</th>\n",
       "      <th>overview</th>\n",
       "      <th>genres</th>\n",
       "      <th>keywords</th>\n",
       "      <th>cast</th>\n",
       "      <th>crew</th>\n",
       "    </tr>\n",
       "  </thead>\n",
       "  <tbody>\n",
       "    <tr>\n",
       "      <th>0</th>\n",
       "      <td>19995</td>\n",
       "      <td>Avatar</td>\n",
       "      <td>[In, the, 22nd, century,, a, paraplegic, Marin...</td>\n",
       "      <td>[Action, Adventure, Fantasy, ScienceFiction]</td>\n",
       "      <td>[cultureclash, future, spacewar, spacecolony, ...</td>\n",
       "      <td>[SamWorthington, ZoeSaldana, SigourneyWeaver, ...</td>\n",
       "      <td>[JamesCameron]</td>\n",
       "    </tr>\n",
       "  </tbody>\n",
       "</table>\n",
       "</div>"
      ],
      "text/plain": [
       "   movie_id   title                                           overview  \\\n",
       "0     19995  Avatar  [In, the, 22nd, century,, a, paraplegic, Marin...   \n",
       "\n",
       "                                         genres  \\\n",
       "0  [Action, Adventure, Fantasy, ScienceFiction]   \n",
       "\n",
       "                                            keywords  \\\n",
       "0  [cultureclash, future, spacewar, spacecolony, ...   \n",
       "\n",
       "                                                cast            crew  \n",
       "0  [SamWorthington, ZoeSaldana, SigourneyWeaver, ...  [JamesCameron]  "
      ]
     },
     "execution_count": 32,
     "metadata": {},
     "output_type": "execute_result"
    }
   ],
   "source": [
    "movies.head(1)"
   ]
  },
  {
   "cell_type": "code",
   "execution_count": 33,
   "id": "a1a9b911",
   "metadata": {},
   "outputs": [],
   "source": [
    "movies['tags']=movies['overview'] + movies['genres'] + movies['keywords']+movies['cast'] + movies['crew']"
   ]
  },
  {
   "cell_type": "code",
   "execution_count": 34,
   "id": "a221da18",
   "metadata": {},
   "outputs": [],
   "source": [
    "new_df = movies[['movie_id','title','tags']]"
   ]
  },
  {
   "cell_type": "code",
   "execution_count": 35,
   "id": "699e28e4",
   "metadata": {},
   "outputs": [
    {
     "data": {
      "text/html": [
       "<div>\n",
       "<style scoped>\n",
       "    .dataframe tbody tr th:only-of-type {\n",
       "        vertical-align: middle;\n",
       "    }\n",
       "\n",
       "    .dataframe tbody tr th {\n",
       "        vertical-align: top;\n",
       "    }\n",
       "\n",
       "    .dataframe thead th {\n",
       "        text-align: right;\n",
       "    }\n",
       "</style>\n",
       "<table border=\"1\" class=\"dataframe\">\n",
       "  <thead>\n",
       "    <tr style=\"text-align: right;\">\n",
       "      <th></th>\n",
       "      <th>movie_id</th>\n",
       "      <th>title</th>\n",
       "      <th>tags</th>\n",
       "    </tr>\n",
       "  </thead>\n",
       "  <tbody>\n",
       "    <tr>\n",
       "      <th>0</th>\n",
       "      <td>19995</td>\n",
       "      <td>Avatar</td>\n",
       "      <td>[In, the, 22nd, century,, a, paraplegic, Marin...</td>\n",
       "    </tr>\n",
       "  </tbody>\n",
       "</table>\n",
       "</div>"
      ],
      "text/plain": [
       "   movie_id   title                                               tags\n",
       "0     19995  Avatar  [In, the, 22nd, century,, a, paraplegic, Marin..."
      ]
     },
     "execution_count": 35,
     "metadata": {},
     "output_type": "execute_result"
    }
   ],
   "source": [
    "new_df.head(1)"
   ]
  },
  {
   "cell_type": "code",
   "execution_count": 36,
   "id": "d8c0b52a",
   "metadata": {},
   "outputs": [
    {
     "name": "stderr",
     "output_type": "stream",
     "text": [
      "C:\\Users\\Pradnya\\AppData\\Local\\Temp/ipykernel_24152/3089450492.py:1: SettingWithCopyWarning: \n",
      "A value is trying to be set on a copy of a slice from a DataFrame.\n",
      "Try using .loc[row_indexer,col_indexer] = value instead\n",
      "\n",
      "See the caveats in the documentation: https://pandas.pydata.org/pandas-docs/stable/user_guide/indexing.html#returning-a-view-versus-a-copy\n",
      "  new_df['tags'] = new_df['tags'].apply(lambda x:\" \".join(x))\n"
     ]
    }
   ],
   "source": [
    "new_df['tags'] = new_df['tags'].apply(lambda x:\" \".join(x))"
   ]
  },
  {
   "cell_type": "code",
   "execution_count": 37,
   "id": "471cd988",
   "metadata": {},
   "outputs": [
    {
     "data": {
      "text/html": [
       "<div>\n",
       "<style scoped>\n",
       "    .dataframe tbody tr th:only-of-type {\n",
       "        vertical-align: middle;\n",
       "    }\n",
       "\n",
       "    .dataframe tbody tr th {\n",
       "        vertical-align: top;\n",
       "    }\n",
       "\n",
       "    .dataframe thead th {\n",
       "        text-align: right;\n",
       "    }\n",
       "</style>\n",
       "<table border=\"1\" class=\"dataframe\">\n",
       "  <thead>\n",
       "    <tr style=\"text-align: right;\">\n",
       "      <th></th>\n",
       "      <th>movie_id</th>\n",
       "      <th>title</th>\n",
       "      <th>tags</th>\n",
       "    </tr>\n",
       "  </thead>\n",
       "  <tbody>\n",
       "    <tr>\n",
       "      <th>0</th>\n",
       "      <td>19995</td>\n",
       "      <td>Avatar</td>\n",
       "      <td>In the 22nd century, a paraplegic Marine is di...</td>\n",
       "    </tr>\n",
       "  </tbody>\n",
       "</table>\n",
       "</div>"
      ],
      "text/plain": [
       "   movie_id   title                                               tags\n",
       "0     19995  Avatar  In the 22nd century, a paraplegic Marine is di..."
      ]
     },
     "execution_count": 37,
     "metadata": {},
     "output_type": "execute_result"
    }
   ],
   "source": [
    "new_df.head(1)"
   ]
  },
  {
   "cell_type": "code",
   "execution_count": 38,
   "id": "acecaf10",
   "metadata": {},
   "outputs": [
    {
     "name": "stderr",
     "output_type": "stream",
     "text": [
      "C:\\Users\\Pradnya\\AppData\\Local\\Temp/ipykernel_24152/3214958533.py:1: SettingWithCopyWarning: \n",
      "A value is trying to be set on a copy of a slice from a DataFrame.\n",
      "Try using .loc[row_indexer,col_indexer] = value instead\n",
      "\n",
      "See the caveats in the documentation: https://pandas.pydata.org/pandas-docs/stable/user_guide/indexing.html#returning-a-view-versus-a-copy\n",
      "  new_df['tags'] = new_df['tags'].apply(lambda x:x.lower())\n"
     ]
    }
   ],
   "source": [
    "new_df['tags'] = new_df['tags'].apply(lambda x:x.lower())"
   ]
  },
  {
   "cell_type": "code",
   "execution_count": 39,
   "id": "0c384897",
   "metadata": {},
   "outputs": [
    {
     "data": {
      "text/html": [
       "<div>\n",
       "<style scoped>\n",
       "    .dataframe tbody tr th:only-of-type {\n",
       "        vertical-align: middle;\n",
       "    }\n",
       "\n",
       "    .dataframe tbody tr th {\n",
       "        vertical-align: top;\n",
       "    }\n",
       "\n",
       "    .dataframe thead th {\n",
       "        text-align: right;\n",
       "    }\n",
       "</style>\n",
       "<table border=\"1\" class=\"dataframe\">\n",
       "  <thead>\n",
       "    <tr style=\"text-align: right;\">\n",
       "      <th></th>\n",
       "      <th>movie_id</th>\n",
       "      <th>title</th>\n",
       "      <th>tags</th>\n",
       "    </tr>\n",
       "  </thead>\n",
       "  <tbody>\n",
       "    <tr>\n",
       "      <th>0</th>\n",
       "      <td>19995</td>\n",
       "      <td>Avatar</td>\n",
       "      <td>in the 22nd century, a paraplegic marine is di...</td>\n",
       "    </tr>\n",
       "  </tbody>\n",
       "</table>\n",
       "</div>"
      ],
      "text/plain": [
       "   movie_id   title                                               tags\n",
       "0     19995  Avatar  in the 22nd century, a paraplegic marine is di..."
      ]
     },
     "execution_count": 39,
     "metadata": {},
     "output_type": "execute_result"
    }
   ],
   "source": [
    "new_df.head(1)"
   ]
  },
  {
   "cell_type": "code",
   "execution_count": 40,
   "id": "dfd5bf9c",
   "metadata": {},
   "outputs": [],
   "source": [
    "import nltk"
   ]
  },
  {
   "cell_type": "code",
   "execution_count": 41,
   "id": "7a6d9dea",
   "metadata": {},
   "outputs": [],
   "source": [
    "from nltk.stem.porter import PorterStemmer\n",
    "ps = PorterStemmer()"
   ]
  },
  {
   "cell_type": "code",
   "execution_count": 42,
   "id": "ddf4c80e",
   "metadata": {},
   "outputs": [],
   "source": [
    "def stem(text):\n",
    "    y=[]\n",
    "    \n",
    "    for i in text.split():\n",
    "        y.append(ps.stem(i))\n",
    "    return \" \".join(y)"
   ]
  },
  {
   "cell_type": "code",
   "execution_count": 43,
   "id": "4e20d752",
   "metadata": {},
   "outputs": [
    {
     "name": "stderr",
     "output_type": "stream",
     "text": [
      "C:\\Users\\Pradnya\\AppData\\Local\\Temp/ipykernel_24152/3514595201.py:1: SettingWithCopyWarning: \n",
      "A value is trying to be set on a copy of a slice from a DataFrame.\n",
      "Try using .loc[row_indexer,col_indexer] = value instead\n",
      "\n",
      "See the caveats in the documentation: https://pandas.pydata.org/pandas-docs/stable/user_guide/indexing.html#returning-a-view-versus-a-copy\n",
      "  new_df['tags']=new_df['tags'].apply(stem)\n"
     ]
    }
   ],
   "source": [
    "new_df['tags']=new_df['tags'].apply(stem)"
   ]
  },
  {
   "cell_type": "code",
   "execution_count": 44,
   "id": "2992dc76",
   "metadata": {},
   "outputs": [
    {
     "data": {
      "text/html": [
       "<div>\n",
       "<style scoped>\n",
       "    .dataframe tbody tr th:only-of-type {\n",
       "        vertical-align: middle;\n",
       "    }\n",
       "\n",
       "    .dataframe tbody tr th {\n",
       "        vertical-align: top;\n",
       "    }\n",
       "\n",
       "    .dataframe thead th {\n",
       "        text-align: right;\n",
       "    }\n",
       "</style>\n",
       "<table border=\"1\" class=\"dataframe\">\n",
       "  <thead>\n",
       "    <tr style=\"text-align: right;\">\n",
       "      <th></th>\n",
       "      <th>movie_id</th>\n",
       "      <th>title</th>\n",
       "      <th>tags</th>\n",
       "    </tr>\n",
       "  </thead>\n",
       "  <tbody>\n",
       "    <tr>\n",
       "      <th>0</th>\n",
       "      <td>19995</td>\n",
       "      <td>Avatar</td>\n",
       "      <td>in the 22nd century, a parapleg marin is dispa...</td>\n",
       "    </tr>\n",
       "    <tr>\n",
       "      <th>1</th>\n",
       "      <td>285</td>\n",
       "      <td>Pirates of the Caribbean: At World's End</td>\n",
       "      <td>captain barbossa, long believ to be dead, ha c...</td>\n",
       "    </tr>\n",
       "    <tr>\n",
       "      <th>2</th>\n",
       "      <td>206647</td>\n",
       "      <td>Spectre</td>\n",
       "      <td>a cryptic messag from bond’ past send him on a...</td>\n",
       "    </tr>\n",
       "    <tr>\n",
       "      <th>3</th>\n",
       "      <td>49026</td>\n",
       "      <td>The Dark Knight Rises</td>\n",
       "      <td>follow the death of district attorney harvey d...</td>\n",
       "    </tr>\n",
       "    <tr>\n",
       "      <th>4</th>\n",
       "      <td>49529</td>\n",
       "      <td>John Carter</td>\n",
       "      <td>john carter is a war-weary, former militari ca...</td>\n",
       "    </tr>\n",
       "  </tbody>\n",
       "</table>\n",
       "</div>"
      ],
      "text/plain": [
       "   movie_id                                     title  \\\n",
       "0     19995                                    Avatar   \n",
       "1       285  Pirates of the Caribbean: At World's End   \n",
       "2    206647                                   Spectre   \n",
       "3     49026                     The Dark Knight Rises   \n",
       "4     49529                               John Carter   \n",
       "\n",
       "                                                tags  \n",
       "0  in the 22nd century, a parapleg marin is dispa...  \n",
       "1  captain barbossa, long believ to be dead, ha c...  \n",
       "2  a cryptic messag from bond’ past send him on a...  \n",
       "3  follow the death of district attorney harvey d...  \n",
       "4  john carter is a war-weary, former militari ca...  "
      ]
     },
     "execution_count": 44,
     "metadata": {},
     "output_type": "execute_result"
    }
   ],
   "source": [
    "new_df.head()"
   ]
  },
  {
   "cell_type": "code",
   "execution_count": 45,
   "id": "06fcdd8c",
   "metadata": {},
   "outputs": [],
   "source": [
    "from sklearn.feature_extraction.text import CountVectorizer\n",
    "cv = CountVectorizer(max_features= 5000, stop_words='english')"
   ]
  },
  {
   "cell_type": "code",
   "execution_count": 46,
   "id": "a840cfae",
   "metadata": {},
   "outputs": [],
   "source": [
    "vectors =  cv.fit_transform(new_df['tags']).toarray()"
   ]
  },
  {
   "cell_type": "code",
   "execution_count": 47,
   "id": "3f8bb8e9",
   "metadata": {},
   "outputs": [
    {
     "name": "stdout",
     "output_type": "stream",
     "text": [
      "Requirement already satisfied: scikit_learn in c:\\users\\pradnya\\appdata\\local\\programs\\python\\python39\\lib\\site-packages (1.2.1)\n",
      "Requirement already satisfied: scipy>=1.3.2 in c:\\users\\pradnya\\appdata\\local\\programs\\python\\python39\\lib\\site-packages (from scikit_learn) (1.10.1)\n",
      "Requirement already satisfied: threadpoolctl>=2.0.0 in c:\\users\\pradnya\\appdata\\local\\programs\\python\\python39\\lib\\site-packages (from scikit_learn) (3.1.0)\n",
      "Requirement already satisfied: numpy>=1.17.3 in c:\\users\\pradnya\\appdata\\local\\programs\\python\\python39\\lib\\site-packages (from scikit_learn) (1.20.2)\n",
      "Requirement already satisfied: joblib>=1.1.1 in c:\\users\\pradnya\\appdata\\local\\programs\\python\\python39\\lib\\site-packages (from scikit_learn) (1.2.0)\n"
     ]
    },
    {
     "name": "stderr",
     "output_type": "stream",
     "text": [
      "WARNING: You are using pip version 20.2.3; however, version 23.0.1 is available.\n",
      "You should consider upgrading via the 'c:\\users\\pradnya\\appdata\\local\\programs\\python\\python39\\python.exe -m pip install --upgrade pip' command.\n"
     ]
    }
   ],
   "source": [
    "!pip install scikit_learn"
   ]
  },
  {
   "cell_type": "code",
   "execution_count": 48,
   "id": "254fed99",
   "metadata": {},
   "outputs": [
    {
     "data": {
      "text/plain": [
       "array([[0, 0, 0, ..., 0, 0, 0],\n",
       "       [0, 0, 0, ..., 0, 0, 0],\n",
       "       [0, 0, 0, ..., 0, 0, 0],\n",
       "       ...,\n",
       "       [0, 0, 0, ..., 0, 0, 0],\n",
       "       [0, 0, 0, ..., 0, 0, 0],\n",
       "       [0, 0, 0, ..., 0, 0, 0]], dtype=int64)"
      ]
     },
     "execution_count": 48,
     "metadata": {},
     "output_type": "execute_result"
    }
   ],
   "source": [
    "vectors"
   ]
  },
  {
   "cell_type": "code",
   "execution_count": 49,
   "id": "048ec17e",
   "metadata": {},
   "outputs": [
    {
     "data": {
      "text/plain": [
       "array([0, 0, 0, ..., 0, 0, 0], dtype=int64)"
      ]
     },
     "execution_count": 49,
     "metadata": {},
     "output_type": "execute_result"
    }
   ],
   "source": [
    "vectors[0]"
   ]
  },
  {
   "cell_type": "code",
   "execution_count": 50,
   "id": "a6af7189",
   "metadata": {},
   "outputs": [
    {
     "data": {
      "text/plain": [
       "array(['000', '007', '10', ..., 'zoo', 'zooeydeschanel', 'zoëkravitz'],\n",
       "      dtype=object)"
      ]
     },
     "execution_count": 50,
     "metadata": {},
     "output_type": "execute_result"
    }
   ],
   "source": [
    "cv.get_feature_names_out(5)"
   ]
  },
  {
   "cell_type": "code",
   "execution_count": 51,
   "id": "8399155e",
   "metadata": {},
   "outputs": [],
   "source": [
    "from sklearn.metrics.pairwise import cosine_similarity"
   ]
  },
  {
   "cell_type": "code",
   "execution_count": 52,
   "id": "777d4a49",
   "metadata": {},
   "outputs": [],
   "source": [
    "similarity = cosine_similarity(vectors)"
   ]
  },
  {
   "cell_type": "code",
   "execution_count": 53,
   "id": "698ca13b",
   "metadata": {},
   "outputs": [
    {
     "data": {
      "text/plain": [
       "array([1.        , 0.06818182, 0.07644708, ..., 0.04307305, 0.        ,\n",
       "       0.        ])"
      ]
     },
     "execution_count": 53,
     "metadata": {},
     "output_type": "execute_result"
    }
   ],
   "source": [
    "similarity[0]"
   ]
  },
  {
   "cell_type": "code",
   "execution_count": 54,
   "id": "8153f926",
   "metadata": {},
   "outputs": [],
   "source": [
    "def recommend(movie):\n",
    "    movie_index = new_df[new_df['title']== movie].index[0]\n",
    "    distances=similarity[movie_index]\n",
    "    movies_list=sorted(list(enumerate(distances)),reverse=True,key=lambda x:x[1])[1:6]\n",
    "    \n",
    "    for i in movies_list:\n",
    "        print(new_df.iloc[i[0]].title)\n"
   ]
  },
  {
   "cell_type": "code",
   "execution_count": 55,
   "id": "a1d81f0b",
   "metadata": {},
   "outputs": [
    {
     "name": "stdout",
     "output_type": "stream",
     "text": [
      "Aliens vs Predator: Requiem\n",
      "Battle: Los Angeles\n",
      "Predator\n",
      "Falcon Rising\n",
      "Independence Day\n"
     ]
    }
   ],
   "source": [
    "recommend('Avatar')"
   ]
  },
  {
   "cell_type": "code",
   "execution_count": 56,
   "id": "b6294257",
   "metadata": {},
   "outputs": [
    {
     "name": "stdout",
     "output_type": "stream",
     "text": [
      "[['Action', 'Adventure', 'Fantasy', 'ScienceFiction'], ['Adventure', 'Fantasy', 'Action'], ['Action', 'Adventure', 'Crime'], ['Action', 'Crime', 'Drama', 'Thriller'], ['Action', 'Adventure', 'ScienceFiction'], ['Fantasy', 'Action', 'Adventure'], ['Animation', 'Family'], ['Action', 'Adventure', 'ScienceFiction'], ['Adventure', 'Fantasy', 'Family'], ['Action', 'Adventure', 'Fantasy'], ['Adventure', 'Fantasy', 'Action', 'ScienceFiction'], ['Adventure', 'Action', 'Thriller', 'Crime'], ['Adventure', 'Fantasy', 'Action'], ['Action', 'Adventure', 'Western'], ['Action', 'Adventure', 'Fantasy', 'ScienceFiction'], ['Adventure', 'Family', 'Fantasy'], ['ScienceFiction', 'Action', 'Adventure'], ['Adventure', 'Action', 'Fantasy'], ['Action', 'Comedy', 'ScienceFiction'], ['Action', 'Adventure', 'Fantasy'], ['Action', 'Adventure', 'Fantasy'], ['Action', 'Adventure'], ['Adventure', 'Fantasy'], ['Adventure', 'Fantasy'], ['Adventure', 'Drama', 'Action'], ['Drama', 'Romance', 'Thriller'], ['Adventure', 'Action', 'ScienceFiction'], ['Thriller', 'Action', 'Adventure', 'ScienceFiction'], ['Action', 'Adventure', 'ScienceFiction', 'Thriller'], ['Action', 'Adventure', 'Thriller'], ['Action', 'Adventure', 'Fantasy'], ['Action', 'Adventure', 'ScienceFiction'], ['Family', 'Fantasy', 'Adventure'], ['Adventure', 'Action', 'ScienceFiction', 'Thriller'], ['Animation', 'Family'], ['ScienceFiction', 'Action', 'Adventure'], ['ScienceFiction', 'Action', 'Adventure'], ['Fantasy', 'Adventure', 'Family'], ['Action', 'Adventure', 'Fantasy'], ['Adventure', 'Action', 'ScienceFiction'], ['Animation', 'Family', 'Adventure', 'Comedy'], ['Adventure', 'Action', 'Thriller', 'ScienceFiction'], ['Animation', 'Family', 'Comedy'], ['Action', 'ScienceFiction', 'Thriller'], ['Action'], ['Action', 'Drama', 'Horror', 'ScienceFiction', 'Thriller'], ['Action', 'Adventure', 'Fantasy', 'ScienceFiction'], ['Action', 'Adventure', 'ScienceFiction'], ['Action', 'Family', 'Fantasy'], ['Drama', 'Romance'], ['Adventure', 'Fantasy', 'Action', 'Romance'], ['Action', 'ScienceFiction', 'Adventure'], ['Action', 'ScienceFiction', 'Adventure'], ['Adventure', 'Action'], ['Adventure', 'Animation', 'Family'], ['Animation', 'Adventure', 'Comedy', 'Family', 'Action', 'Fantasy'], ['Action', 'Adventure', 'ScienceFiction'], ['Animation', 'Family'], ['Action', 'Comedy', 'Crime', 'Thriller'], ['Action', 'Adventure', 'ScienceFiction'], ['Animation', 'Drama'], ['ScienceFiction', 'Fantasy', 'Action', 'Adventure'], ['Action', 'Adventure'], ['Adventure', 'Family', 'Fantasy'], ['ScienceFiction'], ['Drama', 'Action', 'Crime', 'Thriller'], ['Animation', 'Comedy', 'Family', 'Adventure'], ['Animation', 'Family', 'Adventure', 'ScienceFiction'], ['Action', 'ScienceFiction', 'Adventure'], ['Adventure', 'Drama', 'Family'], ['Action', 'Adventure', 'Comedy', 'ScienceFiction', 'Western'], ['Adventure', 'Action', 'Fantasy'], ['Action', 'Adventure', 'Crime', 'Fantasy', 'ScienceFiction'], ['Fantasy', 'Comedy', 'Family'], ['Action', 'ScienceFiction'], ['Adventure', 'Action'], ['Adventure', 'Action', 'Thriller', 'ScienceFiction'], ['Drama', 'Comedy', 'Animation', 'Family'], ['Family', 'Adventure', 'Drama', 'Fantasy'], ['Adventure', 'Action', 'ScienceFiction'], ['Adventure', 'Fantasy', 'Drama'], ['Fantasy', 'Adventure', 'Action', 'Family', 'Romance'], ['ScienceFiction', 'Action', 'Drama', 'Thriller'], ['Action', 'Adventure', 'ScienceFiction', 'Romance'], ['Drama', 'Action', 'Adventure', 'Fantasy'], ['Action', 'Adventure', 'ScienceFiction'], ['Comedy', 'Adventure', 'Fantasy', 'Animation', 'Family'], ['Adventure', 'Family', 'Mystery', 'ScienceFiction'], ['Adventure', 'Family', 'Animation', 'Action', 'Comedy'], ['Family', 'Animation', 'Comedy', 'Adventure'], ['Adventure', 'Animation', 'Family', 'Fantasy'], ['Action', 'Adventure', 'ScienceFiction'], ['Fantasy', 'Adventure', 'Animation', 'Family'], ['Action', 'Thriller', 'ScienceFiction'], ['Action', 'ScienceFiction', 'Adventure'], ['Adventure', 'Drama', 'ScienceFiction'], ['Action', 'Thriller', 'ScienceFiction', 'Mystery', 'Adventure'], ['Action', 'Adventure', 'Drama', 'Horror', 'ScienceFiction'], ['Adventure', 'Fantasy', 'Action'], ['Action', 'Crime', 'Thriller'], ['Fantasy', 'Drama', 'Thriller', 'Mystery', 'Romance'], ['Action', 'ScienceFiction', 'Adventure'], ['Action', 'Adventure', 'ScienceFiction'], ['Fantasy', 'Adventure', 'Action', 'Comedy', 'Drama'], ['Adventure', 'Action', 'Drama', 'Thriller'], ['Fantasy'], ['Fantasy', 'Adventure', 'Animation', 'Comedy', 'Family'], ['Action', 'Adventure', 'Fantasy'], ['ScienceFiction', 'Action', 'Thriller', 'Adventure'], ['Adventure', 'Family', 'Fantasy'], ['History', 'Romance', 'War'], ['Adventure', 'ScienceFiction', 'Action'], ['War', 'History', 'Action', 'Adventure', 'Drama', 'Romance'], ['Adventure', 'Fantasy', 'Family', 'Mystery'], ['Adventure', 'Fantasy', 'Family'], ['Fantasy', 'Action'], ['Drama', 'Horror', 'Action', 'Thriller', 'ScienceFiction'], ['Adventure', 'Comedy', 'Family', 'Fantasy'], ['Animation', 'Comedy', 'Family', 'Fantasy'], ['Action', 'Crime', 'Drama'], ['Family', 'Animation'], ['Adventure', 'Fantasy', 'Action', 'Comedy', 'Family'], ['Adventure', 'Action', 'Thriller', 'ScienceFiction'], ['Adventure', 'Action', 'Thriller', 'ScienceFiction'], ['Animation', 'Adventure', 'Family'], ['Adventure', 'Action', 'Thriller', 'ScienceFiction'], ['Action', 'Adventure', 'Fantasy'], ['Action', 'Adventure', 'ScienceFiction', 'Thriller'], ['Thriller', 'Mystery'], ['Adventure', 'Fantasy', 'Action'], ['Animation', 'Family', 'Adventure', 'Comedy'], ['Fantasy', 'Action', 'Adventure', 'Family', 'Comedy'], ['Adventure'], ['Comedy', 'Fantasy'], ['Action', 'Adventure', 'Thriller'], ['Drama', 'Horror', 'Thriller'], ['Family', 'Animation', 'Adventure', 'Comedy'], ['Animation', 'Family'], ['Action', 'Adventure', 'Family', 'Fantasy'], ['Adventure', 'Action', 'Thriller'], ['Action', 'Drama', 'Thriller'], ['Adventure', 'Animation', 'Family'], ['Adventure', 'Animation', 'Comedy', 'Family'], ['Adventure', 'Family', 'Fantasy'], ['Animation', 'Adventure', 'Family'], ['Adventure', 'Drama', 'War'], ['Animation', 'Family'], ['Adventure', 'Action', 'Thriller'], ['Action', 'Fantasy', 'Comedy'], ['Action', 'Thriller', 'ScienceFiction', 'Adventure'], ['Action', 'Adventure', 'Comedy', 'ScienceFiction'], ['Adventure', 'Action', 'Animation'], ['Action', 'Adventure', 'Animation', 'Comedy', 'Family'], ['Action', 'Thriller', 'Adventure'], ['Fantasy', 'Animation', 'Family'], ['Comedy'], ['Drama', 'Action', 'War', 'History'], ['Adventure', 'Drama', 'Action'], ['ScienceFiction', 'Action', 'Adventure'], ['Fantasy', 'Action'], ['Fantasy', 'Action', 'Adventure', 'Animation', 'Comedy', 'Family'], ['Fantasy'], ['Action'], ['Action', 'Mystery', 'ScienceFiction'], ['Action', 'Adventure', 'Comedy', 'Crime', 'Thriller'], ['Drama', 'Action', 'ScienceFiction'], ['Adventure', 'Action', 'ScienceFiction', 'Thriller'], ['Action', 'Adventure', 'Comedy', 'Drama', 'Mystery'], ['Adventure', 'Action', 'Animation', 'Fantasy', 'ScienceFiction', 'Thriller'], ['Action', 'Adventure', 'ScienceFiction'], ['Adventure', 'Action', 'Thriller'], ['Adventure'], ['Adventure', 'Fantasy', 'Drama', 'Romance'], ['Animation', 'Comedy', 'Family'], ['ScienceFiction', 'Action', 'Adventure'], ['Adventure', 'Family', 'Fantasy'], ['Western', 'Drama', 'Adventure', 'Thriller'], ['Animation', 'Family'], ['Animation', 'Comedy', 'Family', 'Western', 'Adventure'], ['Family', 'Animation', 'Adventure', 'Comedy'], ['Action', 'Drama', 'Mystery', 'Thriller'], ['Adventure', 'Animation', 'Family', 'Comedy'], ['ScienceFiction', 'Action', 'Adventure'], ['Adventure', 'Action', 'ScienceFiction'], ['Fantasy', 'Comedy', 'Animation', 'ScienceFiction', 'Family'], ['Adventure', 'Thriller', 'ScienceFiction'], ['Adventure', 'Action', 'Comedy', 'Thriller', 'Crime'], ['Action', 'Adventure', 'Animation', 'Family', 'Fantasy'], ['Action', 'Mystery', 'Thriller'], ['Drama', 'Adventure'], ['Adventure', 'Animation', 'Mystery'], ['Adventure', 'Fantasy', 'Family'], ['Drama'], ['ScienceFiction', 'Action', 'Adventure'], ['Animation', 'Family'], ['Adventure', 'Comedy', 'Fantasy', 'Family'], ['Animation', 'Action', 'Comedy', 'Family', 'ScienceFiction'], ['Adventure', 'Fantasy', 'Family'], ['Fantasy', 'Action', 'Comedy', 'Crime'], ['Adventure', 'Fantasy', 'Action'], ['ScienceFiction', 'Adventure', 'Thriller'], ['Thriller', 'Mystery'], ['Animation', 'Adventure', 'Comedy', 'Family'], ['Adventure', 'Action', 'ScienceFiction', 'Thriller'], ['Action', 'Thriller', 'Crime'], ['Adventure', 'Action', 'Crime', 'Mystery'], ['Adventure', 'Fantasy', 'Action'], ['Action', 'Adventure', 'ScienceFiction'], ['Adventure', 'Fantasy', 'Action'], ['Action', 'Thriller'], ['Action', 'Crime', 'Fantasy'], ['Family', 'Comedy', 'Fantasy'], ['Action', 'Adventure', 'ScienceFiction', 'Thriller'], ['Adventure', 'Action', 'Thriller'], ['Drama'], ['Adventure', 'Fantasy', 'Action', 'Thriller'], ['Adventure', 'Drama', 'Action'], ['Thriller', 'Action', 'Fantasy', 'Horror'], ['Action', 'Thriller'], ['Action', 'Adventure', 'Comedy'], ['ScienceFiction', 'Adventure', 'Mystery'], ['Family', 'Adventure', 'Animation', 'Comedy'], ['ScienceFiction', 'Action', 'Drama', 'Thriller'], ['Action', 'ScienceFiction'], ['Action', 'ScienceFiction'], ['Action', 'Family', 'ScienceFiction'], ['Comedy', 'Drama', 'Romance'], ['Action', 'Comedy'], ['Action', 'ScienceFiction', 'Adventure', 'Mystery'], ['ScienceFiction', 'Adventure', 'Action'], ['Adventure', 'Action', 'ScienceFiction'], ['Animation', 'Comedy', 'Family'], ['Action', 'ScienceFiction', 'Adventure', 'Fantasy'], ['Adventure', 'Action', 'ScienceFiction'], ['Adventure', 'Animation', 'Comedy', 'Family', 'Fantasy'], ['Fantasy', 'Adventure', 'Comedy', 'Family'], ['Drama', 'Action', 'History', 'War'], ['Action', 'Adventure', 'Drama'], ['ScienceFiction', 'Action', 'Adventure', 'Fantasy', 'Comedy'], ['ScienceFiction', 'Thriller', 'Drama'], ['Action', 'Adventure', 'Thriller'], ['Fantasy', 'Action', 'Adventure', 'Comedy'], ['Action', 'Adventure', 'ScienceFiction'], ['Action', 'Adventure', 'Comedy', 'Family', 'Fantasy'], ['Action', 'Drama', 'Thriller'], ['Adventure', 'Action', 'Thriller'], ['Drama', 'History', 'War', 'Action'], ['Thriller', 'Crime'], ['Action', 'Comedy', 'Drama', 'Thriller'], ['Adventure', 'ScienceFiction', 'Thriller'], ['Drama'], ['Comedy'], ['Action', 'Crime', 'Comedy'], ['Action', 'War'], ['Animation', 'Family', 'Adventure', 'Comedy', 'Fantasy'], ['Animation', 'Family'], ['Adventure', 'ScienceFiction'], ['Action', 'ScienceFiction', 'Drama'], ['Fantasy', 'Family', 'Comedy', 'Animation'], ['Action', 'Adventure', 'Thriller'], ['ScienceFiction', 'Action', 'Adventure'], ['Action', 'Thriller'], ['Adventure', 'Fantasy', 'Action'], ['Action', 'Adventure', 'Comedy'], ['Drama'], ['Comedy', 'Fantasy', 'Family'], ['Action', 'ScienceFiction'], ['Drama', 'Action', 'Adventure', 'History', 'War'], ['Animation', 'Fantasy', 'Family', 'Comedy'], ['Romance', 'Family', 'Animation', 'Music'], ['Drama', 'Adventure', 'ScienceFiction'], ['Action', 'Thriller', 'ScienceFiction', 'Adventure'], ['Comedy', 'Romance'], ['Action', 'Crime', 'Thriller'], ['Action', 'Drama', 'Adventure'], ['Action', 'Thriller', 'ScienceFiction', 'Mystery'], ['Adventure', 'Fantasy', 'Family'], ['Adventure', 'Action', 'Thriller'], ['Thriller', 'ScienceFiction', 'Action', 'Adventure'], ['Action', 'Thriller', 'ScienceFiction'], ['History', 'Crime', 'Drama'], ['Drama', 'Crime'], ['Action', 'Thriller'], ['Thriller', 'Drama', 'Crime'], ['Comedy', 'Romance'], ['Action', 'Comedy', 'Crime'], ['Action', 'Drama', 'Mystery', 'Thriller'], ['Drama', 'Western'], ['Drama', 'Animation', 'Family'], ['Adventure', 'Animation', 'Comedy', 'Family', 'Fantasy'], ['Action', 'Adventure', 'Thriller'], ['Adventure', 'Action', 'Thriller', 'Mystery'], ['Fantasy', 'Action', 'Adventure', 'Family'], ['Family', 'Fantasy'], ['Animation', 'Adventure', 'Family', 'Fantasy'], ['Action', 'Thriller', 'Romance'], ['Action', 'Fantasy', 'Horror', 'Mystery'], ['Drama', 'Thriller', 'Action'], ['Crime', 'Drama', 'Comedy'], ['Action', 'Crime', 'Fantasy'], ['Adventure', 'Action', 'Thriller', 'ScienceFiction'], ['Drama', 'ScienceFiction'], ['Animation', 'Adventure', 'Family', 'Fantasy'], ['Action', 'Crime'], ['Action', 'Adventure'], ['Adventure', 'Animation', 'Family', 'Fantasy', 'ScienceFiction'], ['Adventure', 'Comedy', 'ScienceFiction'], ['Action', 'Adventure', 'Thriller'], ['Action', 'Crime', 'Thriller'], ['Fantasy', 'Comedy', 'Family', 'Adventure'], ['Thriller', 'Drama', 'Adventure', 'Action', 'History'], ['Action', 'Comedy', 'ScienceFiction'], ['War', 'Action', 'Adventure', 'Drama', 'Thriller'], ['Animation'], ['Crime', 'Drama', 'Mystery', 'Thriller'], ['Adventure', 'Action', 'Fantasy'], ['Drama', 'History', 'Crime'], ['Drama', 'History', 'War'], ['Animation', 'Comedy', 'Family'], ['Action', 'Comedy', 'ScienceFiction'], ['Action', 'History', 'War'], ['Comedy'], ['Adventure', 'Fantasy', 'Action', 'Thriller', 'ScienceFiction'], ['Comedy', 'Drama', 'Romance'], ['Adventure', 'Animation', 'Comedy', 'Family'], ['Animation', 'Comedy', 'Adventure', 'Family'], ['Romance', 'Fantasy', 'Family', 'Drama'], ['Fantasy', 'Drama'], ['Animation', 'Family'], ['Adventure', 'Fantasy', 'Action'], ['Adventure', 'Fantasy', 'Action'], ['Adventure', 'Fantasy'], ['Adventure', 'Fantasy', 'Action', 'Thriller'], ['Thriller', 'ScienceFiction', 'Drama', 'Mystery'], ['Adventure', 'Action', 'Thriller', 'ScienceFiction'], ['Thriller', 'Action', 'Drama', 'ScienceFiction'], ['Adventure', 'Family', 'Fantasy'], ['Action', 'Thriller'], ['Western', 'History', 'War'], ['Action', 'Adventure', 'Animation', 'Family'], ['Action', 'Adventure'], ['Adventure', 'Fantasy', 'Family'], ['Action', 'Adventure', 'Comedy', 'ScienceFiction'], ['Animation', 'Comedy', 'Family'], ['Action', 'Thriller'], ['Action', 'Comedy', 'Crime', 'Thriller'], ['Drama', 'Horror', 'Mystery', 'Thriller'], ['Animation', 'Comedy', 'Family'], ['Animation', 'Comedy', 'Family', 'Adventure'], ['Adventure', 'Comedy', 'Drama', 'Fantasy'], ['Action', 'Adventure', 'Comedy', 'Crime', 'Thriller'], ['Drama', 'Thriller', 'Crime'], ['Animation', 'Family', 'Adventure'], ['Action', 'Comedy'], ['Thriller', 'Crime', 'Mystery', 'Drama'], ['Action', 'Thriller'], ['Action', 'Adventure', 'Crime', 'Mystery'], ['Drama'], ['Animation', 'Family', 'Adventure', 'ScienceFiction'], ['Adventure', 'Animation', 'Comedy', 'Family'], ['Drama', 'Thriller', 'History', 'War'], ['Comedy', 'Action'], ['Action', 'Comedy', 'ScienceFiction'], ['Drama', 'ScienceFiction', 'Adventure'], ['Thriller', 'Fantasy', 'Comedy', 'Family', 'Mystery'], ['Drama', 'ScienceFiction', 'Mystery'], ['Action', 'ScienceFiction', 'Thriller'], ['Crime', 'Thriller'], ['Adventure', 'Family', 'Fantasy'], ['Action', 'Adventure', 'Fantasy', 'Thriller'], ['Action', 'Adventure', 'Comedy', 'Crime', 'Mystery', 'Thriller'], ['Thriller', 'Action', 'Romance', 'ScienceFiction', 'Adventure'], ['Action', 'Crime', 'Thriller'], ['ScienceFiction'], ['Animation', 'Adventure', 'Comedy', 'Family'], ['Comedy', 'ScienceFiction'], ['ScienceFiction', 'Action', 'Drama', 'Thriller'], ['Crime', 'Thriller', 'Drama'], ['Drama', 'History', 'Thriller'], ['Adventure', 'Fantasy', 'Action'], ['Romance', 'Drama', 'History'], ['Fantasy', 'Action', 'Family'], ['Drama', 'History'], ['Action', 'Adventure', 'Drama'], ['Adventure', 'Drama'], ['Animation', 'Comedy'], ['Action', 'Drama', 'Thriller'], ['Action', 'Thriller'], ['Thriller', 'Crime'], ['Adventure', 'Action', 'Thriller'], ['Animation', 'Comedy', 'Family', 'Fantasy'], ['Comedy', 'Family', 'Fantasy', 'Romance'], ['Action', 'Thriller'], ['Comedy', 'Family'], ['Action', 'Comedy'], ['Comedy', 'Romance'], ['Action', 'Drama', 'Thriller'], ['Comedy', 'Romance'], ['Crime', 'Thriller'], ['Adventure', 'Animation', 'Family'], ['Adventure', 'Action', 'ScienceFiction'], ['War'], ['Adventure', 'Action', 'Comedy', 'Thriller'], ['Adventure', 'Fantasy', 'Action', 'Comedy', 'Family'], ['Drama', 'History', 'Romance'], ['Action', 'Crime', 'Drama', 'Thriller'], ['Drama', 'Animation', 'Family', 'Comedy'], ['Fantasy', 'Drama', 'Mystery'], ['Action', 'Thriller', 'Drama'], ['Drama', 'Music'], ['Adventure', 'Fantasy', 'Drama', 'Comedy', 'ScienceFiction', 'Family'], ['Action', 'Adventure', 'Comedy'], ['Action', 'Thriller', 'Adventure', 'ScienceFiction'], ['Fantasy', 'Comedy', 'Romance', 'ScienceFiction'], ['Mystery', 'Adventure', 'Comedy'], ['Action', 'ScienceFiction'], ['Comedy', 'Drama', 'Fantasy', 'Romance'], ['Horror', 'Comedy', 'Fantasy'], ['Comedy', 'Family'], ['Adventure', 'Fantasy', 'ScienceFiction'], ['Adventure', 'Fantasy', 'ScienceFiction'], ['Crime', 'Drama', 'Mystery', 'Thriller'], ['ScienceFiction'], ['Fantasy', 'Comedy'], ['Thriller', 'Adventure', 'Action'], ['Adventure', 'Action', 'Thriller'], ['ScienceFiction', 'Adventure', 'Fantasy'], ['Comedy'], ['Action', 'Fantasy'], ['Comedy', 'Animation', 'Family'], ['Animation', 'Family'], ['Comedy', 'Family', 'Fantasy'], ['Action', 'Drama', 'Romance'], ['Action', 'Comedy', 'Crime', 'Thriller'], ['Comedy', 'Drama'], ['Comedy', 'Fantasy', 'Family', 'Music', 'Animation'], ['Comedy'], ['Action', 'Comedy', 'Thriller'], ['Drama', 'Comedy', 'Romance'], ['Drama', 'Thriller', 'Mystery'], ['Comedy', 'Romance', 'Drama'], ['Animation', 'Comedy', 'Family', 'ScienceFiction'], ['Action', 'Crime', 'ScienceFiction', 'Thriller'], ['Fantasy', 'Comedy', 'Family', 'Romance'], ['Thriller', 'Crime', 'Drama'], ['Romance', 'Comedy'], ['Action', 'Thriller', 'Crime'], ['Mystery', 'Thriller', 'Action'], ['Drama'], ['Action', 'Thriller', 'ScienceFiction'], ['Comedy', 'Family', 'ScienceFiction'], ['Horror', 'Thriller', 'Fantasy', 'Mystery'], ['Animation', 'Comedy', 'Drama', 'Family', 'Fantasy'], ['Action', 'Comedy', 'Crime', 'Mystery', 'Family'], ['Drama', 'ScienceFiction', 'Thriller'], ['Action', 'Drama', 'Mystery', 'Thriller'], ['War', 'Drama', 'Action'], ['Action', 'Adventure', 'Comedy', 'Romance'], ['Comedy', 'Family', 'Animation', 'Adventure'], ['Western', 'Animation', 'Adventure', 'Comedy', 'Family'], ['Comedy', 'Romance', 'Family'], ['Adventure', 'Family', 'ScienceFiction'], ['Drama', 'Thriller', 'Mystery'], ['Romance', 'Drama'], ['Animation', 'Comedy', 'Family'], ['Animation', 'Family', 'Music'], ['ScienceFiction', 'Adventure', 'Action'], ['Action', 'Adventure', 'Family', 'Fantasy'], ['Action', 'Crime', 'Thriller'], ['Action', 'Adventure'], ['Drama', 'Fantasy', 'Romance'], ['Comedy', 'Fantasy', 'Romance'], ['Adventure', 'Fantasy', 'Action', 'Comedy', 'Thriller'], ['Comedy', 'Fantasy', 'ScienceFiction'], ['Mystery', 'Drama', 'Horror'], ['Action', 'Adventure', 'Drama'], ['Action', 'ScienceFiction', 'Thriller'], ['Drama', 'Thriller'], ['Action', 'Adventure', 'Thriller'], ['Animation', 'Family', 'Adventure'], ['Action', 'ScienceFiction', 'War'], ['Animation', 'Comedy', 'Family'], ['Drama', 'Music', 'Romance'], ['Action', 'Adventure', 'ScienceFiction'], ['Drama', 'Adventure'], ['Adventure', 'Comedy', 'Drama', 'Family', 'Fantasy'], ['Fantasy', 'Action', 'Adventure'], ['Thriller', 'Action', 'ScienceFiction'], ['Adventure', 'Fantasy', 'Animation', 'Family'], ['Documentary', 'Family'], ['Thriller', 'ScienceFiction', 'Adventure', 'Action'], ['Action', 'Adventure', 'History', 'Romance', 'Drama'], ['Comedy', 'Animation'], ['Drama', 'Romance'], ['Family', 'Animation', 'Drama'], ['Adventure', 'Action', 'ScienceFiction'], ['Animation', 'Family', 'Comedy'], ['Crime', 'Thriller', 'Horror'], ['Western', 'Adventure'], ['Comedy'], ['Action', 'Crime', 'Thriller'], ['Adventure', 'Animation', 'Fantasy'], ['ScienceFiction', 'Thriller'], ['Action', 'Adventure', 'Animation', 'Comedy', 'Family'], ['Animation', 'Family'], ['Fantasy', 'Action', 'Thriller', 'ScienceFiction'], ['Animation', 'Comedy', 'Family'], ['Action', 'Adventure', 'ScienceFiction'], ['Adventure', 'Action', 'ScienceFiction'], ['Family', 'Animation'], ['Drama', 'Action', 'Thriller', 'ScienceFiction'], ['Adventure', 'Action', 'ScienceFiction'], ['Action', 'Thriller', 'Crime'], ['Action', 'Adventure', 'Thriller'], ['Animation', 'Family', 'Comedy', 'Adventure'], ['Comedy', 'Romance'], ['Family', 'Comedy', 'Music', 'Romance'], ['Horror', 'Mystery', 'Thriller'], ['Action', 'Adventure', 'Comedy', 'Family'], ['Thriller', 'Crime'], ['Comedy'], ['Comedy', 'Drama'], ['Comedy', 'Family'], ['Action', 'Adventure', 'Thriller'], ['Comedy', 'Drama', 'History'], ['Animation', 'Action', 'Comedy', 'Family'], ['Drama'], ['Comedy', 'Crime'], ['Drama', 'Action', 'History', 'Thriller'], ['Action', 'Drama', 'War'], ['Action', 'Comedy', 'Thriller', 'Romance'], ['Comedy', 'Action', 'Adventure'], ['Comedy'], ['Animation', 'Comedy', 'Family', 'Fantasy'], ['Action', 'Comedy', 'Crime', 'Romance'], ['Action', 'Adventure', 'Drama', 'Romance'], ['Drama', 'History', 'Romance'], ['Fantasy', 'Action', 'Drama'], ['Mystery', 'Drama', 'Thriller', 'Crime'], ['Animation', 'Action', 'ScienceFiction', 'Family', 'Adventure'], ['Action', 'Adventure', 'Comedy', 'Thriller'], ['Action', 'War', 'ScienceFiction'], ['Action', 'Drama', 'Horror', 'ScienceFiction', 'Thriller'], ['Adventure', 'Fantasy', 'Animation', 'Action', 'Comedy'], ['Action', 'Adventure', 'Drama', 'Thriller'], ['ScienceFiction', 'Thriller', 'Drama'], ['Family', 'Animation', 'Adventure', 'Comedy'], ['Action', 'Fantasy', 'Thriller'], ['Crime', 'Mystery'], ['ScienceFiction'], ['Family', 'Animation'], ['Romance', 'Comedy', 'Adventure'], ['Comedy', 'Drama'], ['Thriller', 'Action', 'Drama'], ['Comedy'], ['Comedy', 'Family', 'Romance', 'Fantasy'], ['Action', 'Drama', 'History', 'War'], ['Drama', 'War'], ['Animation', 'Comedy', 'Family'], ['Drama', 'Romance'], ['Action'], ['Adventure', 'Drama', 'Family'], ['Drama', 'Mystery', 'Thriller'], ['Comedy', 'Family', 'Fantasy'], ['Drama', 'Thriller', 'ScienceFiction', 'Mystery'], ['Adventure', 'Animation', 'Comedy', 'Family', 'Fantasy'], ['Animation', 'Adventure', 'Comedy', 'Family'], ['Comedy', 'Romance'], ['Action', 'Adventure', 'Thriller'], ['Animation', 'Adventure', 'Comedy', 'Family'], ['Action', 'Thriller'], ['Drama', 'Action', 'Thriller', 'War'], ['Adventure', 'Fantasy', 'Comedy', 'Family'], ['Action', 'Thriller'], ['Action', 'Thriller', 'Crime'], ['Drama', 'Mystery', 'Romance', 'ScienceFiction', 'Thriller'], ['Drama', 'Thriller', 'Fantasy', 'Mystery'], ['Adventure', 'ScienceFiction', 'Action'], ['Comedy', 'Family', 'Animation', 'Fantasy', 'Music'], ['Action', 'History', 'War'], ['Action', 'Thriller'], ['ScienceFiction', 'Action', 'Adventure', 'Thriller'], ['Action', 'ScienceFiction'], ['Adventure', 'Fantasy', 'Drama'], ['Fantasy'], ['Drama', 'War'], ['War', 'Drama', 'History', 'Action'], ['Adventure', 'Action', 'Thriller', 'ScienceFiction'], ['Drama', 'Crime'], ['Horror', 'Action', 'Drama', 'Fantasy', 'War'], ['Drama', 'Action', 'Thriller', 'Crime'], ['Adventure', 'Fantasy', 'Romance', 'Family'], ['Adventure', 'Drama', 'History'], ['Comedy', 'Drama'], ['Action', 'Adventure', 'Comedy', 'Thriller'], ['Adventure', 'Action', 'Horror'], ['Action', 'Adventure', 'Comedy', 'Thriller'], ['Fantasy', 'Action', 'Horror'], ['Comedy', 'Drama', 'Music', 'Romance'], ['Drama', 'War'], ['Action', 'Adventure', 'Thriller'], ['Action', 'ScienceFiction', 'Thriller'], ['Action', 'Adventure', 'Thriller'], ['Thriller'], ['Adventure', 'Animation', 'Action', 'Comedy', 'Family'], ['Animation', 'Music', 'Family'], ['Crime', 'Drama', 'Mystery'], ['Mystery', 'Action', 'Thriller', 'ScienceFiction', 'Adventure'], ['Crime', 'Mystery', 'Thriller'], ['Action', 'Thriller'], ['Action', 'Adventure'], ['Thriller', 'Action', 'Drama'], ['Adventure', 'Fantasy', 'Drama', 'Romance'], ['Action', 'Crime', 'Thriller'], ['Animation', 'Family'], ['Action', 'Comedy', 'Crime'], ['Comedy'], ['Adventure', 'Drama', 'History'], ['Adventure', 'Fantasy', 'Action', 'Comedy', 'ScienceFiction'], ['Comedy'], ['Drama', 'Thriller'], ['Action', 'Drama', 'History', 'Thriller'], ['Action', 'Drama', 'Thriller'], ['Comedy'], ['Action', 'Fantasy', 'Horror'], ['Romance', 'Drama', 'Mystery'], ['Mystery', 'ScienceFiction', 'Thriller'], ['Action', 'Adventure', 'Fantasy', 'War'], ['Drama', 'History', 'War'], ['Action', 'Crime', 'Drama', 'Thriller'], ['Comedy', 'Romance'], ['Animation', 'Comedy', 'Family', 'Adventure'], ['Drama', 'Horror', 'ScienceFiction', 'Thriller'], ['History', 'Drama'], ['Action', 'ScienceFiction'], ['Drama'], ['Fantasy', 'Comedy', 'Family'], ['Drama', 'Music', 'Romance'], ['Comedy', 'Romance'], ['Comedy'], ['Action', 'Adventure'], ['Comedy', 'Drama'], ['Drama', 'War'], ['Action', 'Adventure', 'Thriller'], ['Action', 'Adventure', 'Thriller'], ['Action', 'Adventure', 'Drama', 'Thriller'], ['Fantasy', 'Comedy', 'Family'], ['Drama', 'History', 'Thriller'], ['Drama', 'Romance'], ['Comedy'], ['Mystery', 'Drama'], ['Comedy', 'Drama', 'Family'], ['Romance', 'Comedy', 'Crime', 'Drama'], ['Action', 'Comedy', 'Romance'], ['ScienceFiction', 'Action', 'Horror', 'Thriller', 'Adventure', 'Fantasy'], ['Action', 'Thriller'], ['Comedy', 'Drama'], ['Action', 'Horror', 'ScienceFiction'], ['Action', 'Thriller', 'ScienceFiction'], ['Crime', 'Action', 'Mystery', 'Thriller'], ['Action', 'Adventure', 'Drama', 'Romance', 'Thriller'], ['Family', 'Fantasy', 'ScienceFiction', 'Adventure'], ['Drama'], ['Drama'], ['Action', 'Adventure', 'Comedy'], ['Action', 'Adventure', 'Comedy', 'Crime', 'Romance', 'Thriller'], ['Horror', 'Thriller'], ['Crime', 'Drama', 'Family'], ['Action', 'Fantasy'], ['Crime', 'Thriller'], ['Drama', 'Romance'], ['Adventure', 'Drama'], ['Crime', 'Fantasy', 'Drama'], ['Comedy', 'Crime', 'ScienceFiction'], ['Animation', 'Action', 'Family', 'ScienceFiction'], ['Adventure', 'ScienceFiction'], ['Drama', 'Action', 'Western'], ['Action', 'Drama', 'Thriller'], ['Action', 'Drama', 'Adventure'], ['Comedy', 'Crime'], ['Action', 'Drama', 'Thriller', 'War'], ['Comedy', 'Drama', 'Romance'], ['Comedy', 'Romance'], ['Action', 'Adventure', 'Comedy', 'Thriller', 'Crime'], ['Crime', 'Drama', 'Mystery', 'Western'], ['Action', 'Comedy', 'Drama'], ['Animation', 'Comedy', 'Family'], ['Action', 'Adventure', 'War'], ['Comedy', 'Romance'], ['Comedy', 'Family'], ['Fantasy', 'Drama', 'Crime'], ['Action', 'Adventure', 'Comedy'], ['Animation', 'Family', 'Comedy'], ['Mystery', 'Thriller', 'Drama'], ['Action', 'Drama', 'Mystery', 'Thriller'], ['Adventure', 'Action', 'Thriller'], ['Crime', 'Drama', 'Mystery', 'Thriller'], ['Comedy', 'Drama'], ['Adventure', 'Animation', 'Drama', 'Family', 'Music'], ['Comedy', 'Family'], ['Action', 'Comedy', 'Crime'], ['Comedy', 'Family'], ['Action', 'Crime'], ['Romance', 'Comedy'], ['Adventure', 'Animation', 'Comedy', 'Family'], ['Comedy', 'Romance'], ['Adventure'], ['Comedy'], ['Action'], ['Drama'], ['Comedy', 'Drama', 'Romance', 'Fantasy'], ['Action', 'Adventure', 'Comedy', 'Crime', 'Thriller'], ['Drama'], ['Drama', 'Romance'], ['Drama', 'Crime', 'Thriller'], ['Action', 'Fantasy', 'Adventure'], ['Drama', 'Action', 'Thriller'], ['Crime', 'Drama', 'Thriller'], ['Action', 'ScienceFiction', 'Thriller'], ['Music', 'Documentary'], ['Drama', 'Thriller', 'ScienceFiction'], ['Comedy', 'Adventure', 'Crime'], ['Animation', 'Family'], ['Thriller', 'ScienceFiction'], ['Action', 'Drama', 'Thriller', 'Crime'], ['Comedy', 'Family'], ['Comedy', 'Crime'], ['Family', 'Comedy'], ['Fantasy', 'Action', 'ScienceFiction'], ['Drama'], ['Family', 'Animation', 'Adventure', 'Comedy'], ['Action', 'Thriller', 'Adventure', 'Crime'], ['Action', 'Adventure', 'Mystery', 'ScienceFiction', 'Thriller'], ['Drama', 'Romance'], ['Adventure', 'Animation', 'Family'], ['Thriller', 'Action', 'Comedy', 'ScienceFiction'], ['Action', 'Thriller'], ['Action', 'Drama', 'Thriller'], ['Drama', 'Comedy'], ['Action', 'Crime', 'Thriller'], ['ScienceFiction', 'Horror', 'Action'], ['Action', 'Drama', 'Mystery', 'Thriller', 'Crime'], ['Animation', 'Comedy', 'Family', 'Fantasy'], ['Drama', 'Fantasy', 'Comedy'], ['Adventure', 'Animation', 'Comedy', 'Family', 'Fantasy'], ['Action', 'Comedy'], ['Adventure', 'Action', 'Fantasy'], ['Crime', 'Drama', 'Action', 'Thriller'], ['Comedy', 'Adventure'], ['Drama', 'History'], ['Action'], ['Romance', 'Comedy', 'Crime'], ['Comedy', 'Drama', 'Family', 'ScienceFiction'], ['Action', 'Thriller', 'Crime'], ['ScienceFiction', 'Animation', 'Family', 'Comedy', 'Adventure'], ['ScienceFiction', 'Action', 'Adventure', 'Thriller'], ['Crime', 'Comedy', 'Romance'], ['Drama', 'Romance'], ['Crime', 'Drama', 'Mystery', 'Thriller'], ['Horror', 'Mystery', 'Thriller'], ['Comedy', 'Crime'], ['Action', 'Crime', 'Drama', 'Thriller'], ['Action', 'Crime', 'Drama', 'Thriller'], ['Drama'], ['Fantasy', 'Drama'], ['Drama', 'Music'], ['Animation', 'Comedy', 'Family'], ['Action', 'Adventure', 'Crime', 'Drama', 'Mystery', 'Thriller'], ['Action', 'ScienceFiction', 'Fantasy', 'Thriller', 'Horror'], ['Family', 'Animation', 'Adventure'], ['Horror', 'ScienceFiction', 'Mystery'], ['Drama'], ['Drama'], ['Action', 'Adventure', 'Drama', 'History', 'Romance', 'War'], ['Action', 'Drama', 'Thriller'], ['Horror', 'ScienceFiction', 'Thriller'], ['Drama', 'Fantasy', 'Mystery', 'Romance'], ['Action', 'Adventure', 'Drama', 'Mystery', 'Romance', 'Fantasy'], ['Comedy', 'ScienceFiction', 'Adventure', 'Family'], ['Drama', 'Horror', 'Thriller'], ['Comedy'], ['Adventure', 'Family', 'Fantasy'], ['Action', 'Comedy', 'Thriller', 'Crime', 'ScienceFiction'], ['Comedy', 'Adventure'], ['Adventure', 'Fantasy', 'Action', 'Drama'], ['Drama', 'Romance', 'Adventure', 'War'], ['Action', 'Adventure', 'Fantasy'], ['Action', 'History', 'War'], ['Action', 'Adventure', 'Comedy'], ['Drama', 'Comedy'], ['War', 'Action'], ['Adventure', 'Horror', 'Comedy'], ['Comedy', 'Fantasy', 'Romance'], ['ScienceFiction', 'Comedy', 'Family', 'Romance'], ['Action', 'Adventure', 'Thriller', 'War'], ['Comedy', 'Romance', 'Drama'], ['Comedy', 'Western'], ['Comedy'], ['Comedy'], ['Action', 'Adventure', 'Horror', 'ScienceFiction'], ['Drama', 'Action', 'Adventure', 'History', 'War'], ['Drama', 'Horror', 'Mystery', 'Thriller'], ['Comedy'], ['Fantasy'], ['Action', 'Comedy', 'Crime', 'Drama'], ['Action', 'Fantasy', 'Thriller'], ['Drama', 'History', 'Romance'], ['Action', 'Comedy', 'Drama', 'Family', 'Thriller'], ['Adventure', 'Drama', 'Action', 'Thriller'], ['Comedy', 'Drama', 'Romance'], ['Comedy', 'Music', 'Family', 'Fantasy', 'Animation'], ['Comedy', 'Romance'], ['Adventure', 'Animation', 'Drama', 'Family'], ['Action', 'Adventure', 'Fantasy', 'ScienceFiction'], ['Fantasy', 'Comedy', 'Romance', 'ScienceFiction'], ['Comedy', 'Drama', 'Romance'], ['Adventure', 'Comedy', 'Family', 'Romance'], ['Comedy', 'Romance'], ['Action', 'Drama', 'Thriller'], ['Comedy'], ['Fantasy', 'Comedy', 'Family'], ['Thriller', 'Action', 'Crime'], ['Comedy', 'Drama', 'Romance'], ['Action', 'Thriller', 'Drama'], ['Drama'], ['Thriller', 'Drama', 'Mystery'], ['Drama', 'Thriller', 'Crime', 'Mystery', 'Romance'], ['Drama', 'Fantasy', 'Romance'], ['Action', 'Crime'], ['Comedy'], ['Action', 'Crime', 'Thriller'], ['Action', 'Adventure', 'Comedy'], ['Fantasy', 'Comedy'], ['Adventure', 'Action', 'Comedy', 'Western'], ['Action', 'Adventure', 'Drama', 'Thriller'], ['Comedy', 'Family'], ['Action', 'Adventure', 'Fantasy'], ['Animation', 'Comedy', 'Family'], ['ScienceFiction', 'Action', 'Horror'], ['History', 'Drama', 'Music'], ['Action', 'Thriller', 'Crime', 'Adventure'], ['Adventure'], ['Family', 'Comedy'], ['Comedy'], ['Drama', 'Action', 'Thriller', 'Crime'], ['Drama', 'Mystery', 'Thriller'], ['Comedy'], ['Comedy'], ['Animation', 'Adventure', 'Family', 'Comedy'], ['Crime', 'Drama', 'Mystery'], ['Action', 'Drama', 'ScienceFiction', 'Thriller'], ['Drama', 'Mystery', 'Thriller'], ['Thriller', 'Drama', 'Romance'], ['Drama', 'History', 'Romance'], ['Action', 'ScienceFiction'], ['Drama', 'History', 'War'], ['Action', 'Thriller', 'Crime'], ['Comedy'], ['Comedy', 'Adventure', 'Crime', 'Family'], ['Action', 'Adventure', 'Comedy', 'Family', 'Fantasy', 'ScienceFiction'], ['Drama', 'Romance'], ['Drama'], ['Drama', 'Romance'], ['Action', 'Thriller'], ['Fantasy', 'Horror', 'Action', 'Thriller'], ['Drama'], ['Action', 'Crime', 'Thriller'], ['Crime', 'Drama', 'Thriller'], ['Comedy', 'Drama', 'Romance'], ['Comedy', 'Romance'], ['Action', 'Adventure', 'Fantasy', 'ScienceFiction'], ['Drama'], ['Drama', 'Thriller'], ['Action', 'Adventure', 'Crime', 'Thriller'], ['Animation', 'Family'], ['Drama', 'Music', 'Romance'], ['Mystery', 'Thriller', 'Crime'], ['Crime', 'Drama'], ['War', 'Drama', 'History'], ['Drama', 'Crime', 'Thriller'], ['Thriller', 'Action', 'Horror'], ['Drama', 'Thriller'], ['Drama', 'Romance'], ['Drama', 'Crime'], ['Thriller', 'Drama', 'History'], ['Romance', 'Comedy'], ['Comedy', 'Romance'], ['Comedy', 'Romance'], ['Action', 'Adventure', 'Comedy'], ['Drama', 'History', 'War'], ['Comedy'], ['Comedy', 'Drama', 'Romance'], ['Drama', 'Crime'], ['Action', 'Crime', 'Thriller'], ['Action', 'Comedy', 'Fantasy'], ['Comedy'], ['Animation', 'Comedy', 'Family'], ['Comedy', 'Family'], ['Adventure', 'Fantasy', 'Drama', 'Romance'], ['Adventure', 'Animation', 'Comedy', 'Family', 'Fantasy'], ['ScienceFiction', 'Thriller', 'Romance'], ['Adventure'], ['Comedy', 'Drama', 'Romance'], ['Comedy', 'Fantasy'], ['Comedy', 'Romance'], ['Comedy', 'Drama'], ['Comedy'], ['Comedy', 'Romance'], ['Thriller', 'ScienceFiction', 'Mystery'], ['Drama'], ['Comedy', 'Romance'], ['Crime', 'Comedy', 'Action'], ['Horror', 'Romance'], ['Comedy'], ['Action', 'Comedy'], ['Drama', 'Romance'], ['Comedy'], ['Fantasy', 'Comedy', 'Music'], ['Crime', 'Drama', 'Thriller'], ['Drama', 'Action', 'Thriller', 'Crime'], ['Action', 'Adventure', 'Drama', 'Mystery', 'ScienceFiction', 'Thriller'], ['Drama', 'Comedy', 'Family'], ['Action', 'Adventure', 'Drama', 'Mystery', 'ScienceFiction', 'Thriller'], ['Comedy'], ['Drama', 'Horror', 'Thriller'], ['Comedy', 'Drama', 'Romance'], ['Animation', 'Comedy', 'Family'], ['Comedy', 'Family'], ['Drama'], ['Action', 'Drama', 'ScienceFiction', 'Thriller'], ['Action', 'Thriller', 'Mystery'], ['Adventure', 'Family', 'Fantasy', 'ScienceFiction', 'Thriller', 'Action'], ['Action', 'Thriller', 'Fantasy'], ['Action', 'Adventure', 'Comedy', 'Western'], ['Adventure', 'Animation', 'Comedy', 'Family'], ['Comedy', 'Family', 'Adventure', 'Fantasy', 'Romance'], ['Thriller'], ['Fantasy', 'Horror', 'Action'], ['Thriller', 'Drama'], ['Action', 'Thriller', 'ScienceFiction', 'Adventure'], ['Drama', 'Thriller'], ['Action', 'Drama', 'History', 'Thriller', 'War'], ['Romance', 'Animation', 'Adventure', 'Comedy', 'Family', 'Fantasy'], ['Thriller'], ['Crime', 'Drama', 'Thriller'], ['Action', 'Drama'], ['Drama', 'Thriller', 'Mystery'], ['Horror', 'Mystery'], ['Comedy'], ['Comedy'], ['Action', 'Adventure', 'Crime', 'Drama', 'Mystery', 'Thriller'], ['Action', 'Thriller'], ['Action', 'Comedy', 'Crime'], ['Comedy', 'Horror', 'Fantasy'], ['Drama'], ['Action', 'Thriller'], ['Horror', 'Action', 'ScienceFiction'], ['Comedy', 'Romance'], ['Thriller', 'Crime', 'Drama'], ['Action', 'Thriller'], ['Adventure', 'Family', 'ScienceFiction'], ['Drama', 'Adventure', 'Romance', 'Thriller'], ['Drama', 'Comedy', 'Romance'], ['Action', 'Crime', 'Thriller'], ['Drama', 'Romance'], ['Drama', 'Thriller', 'Crime'], ['Family', 'Comedy'], ['Drama', 'Fantasy'], ['Crime', 'Drama', 'Thriller'], ['Action', 'Adventure', 'Crime', 'Thriller'], ['Crime', 'Drama', 'Thriller'], ['Comedy', 'Drama', 'Romance'], ['Action', 'Adventure', 'Romance', 'ScienceFiction', 'Thriller'], ['Action', 'Adventure', 'Romance', 'ScienceFiction', 'Thriller'], ['Horror', 'Drama', 'ScienceFiction'], ['Horror', 'Drama', 'ScienceFiction'], ['Action', 'Drama', 'Mystery', 'Thriller', 'Crime'], ['Crime', 'Drama', 'Mystery', 'Thriller'], ['Drama', 'Thriller', 'Crime'], ['Action', 'Adventure', 'ScienceFiction', 'Thriller'], ['Adventure', 'Animation', 'Family', 'Fantasy', 'ScienceFiction'], ['Adventure', 'Comedy', 'Drama'], ['War', 'Action', 'Drama', 'History', 'Thriller'], ['Drama', 'Thriller', 'Crime'], ['Comedy', 'Action'], ['Action', 'Crime', 'Drama', 'Mystery', 'Thriller'], ['Thriller', 'Crime', 'Mystery'], ['Action', 'Thriller', 'Adventure', 'Crime'], ['Adventure', 'Drama', 'Action', 'History', 'War'], ['Comedy'], ['Drama', 'Thriller', 'Mystery'], ['Action', 'Drama', 'Thriller'], ['Action', 'Adventure', 'Comedy', 'Family'], ['Drama', 'History', 'Romance'], ['Drama', 'Thriller'], ['Action', 'Crime'], ['Action', 'Thriller', 'Mystery', 'Romance'], ['Action', 'Thriller', 'ScienceFiction'], ['Fantasy', 'Drama', 'Romance'], ['Comedy', 'Crime', 'Drama', 'Thriller'], ['Comedy'], ['Comedy', 'Crime'], ['Comedy', 'Drama', 'Romance', 'ScienceFiction'], ['Fantasy', 'Thriller', 'Action', 'Crime'], ['Action', 'Adventure', 'ScienceFiction', 'Thriller'], ['Action', 'ScienceFiction', 'Thriller'], ['Action', 'Comedy', 'Thriller', 'Crime', 'Mystery'], ['Drama', 'Comedy'], ['Thriller', 'Drama', 'Crime'], ['Adventure', 'Action'], ['Drama', 'Romance'], ['Crime', 'Action', 'ScienceFiction'], ['Drama', 'Mystery', 'Thriller', 'Crime'], ['Crime', 'Drama', 'Thriller'], ['Horror'], ['Action', 'Adventure', 'Comedy'], ['Crime', 'Thriller'], ['Adventure', 'Comedy'], ['Drama', 'ScienceFiction'], ['Comedy', 'Fantasy', 'Romance', 'ScienceFiction'], ['Fantasy', 'Comedy', 'Romance'], ['Music', 'Drama', 'Crime', 'Romance'], ['Western'], ['Thriller', 'Action'], ['Romance', 'Comedy', 'Crime'], ['Comedy', 'Drama', 'Thriller'], ['Drama'], ['Adventure', 'Action', 'Comedy', 'Thriller', 'Crime'], ['Drama', 'Crime', 'Romance'], ['Comedy', 'Drama', 'Romance'], ['Action', 'Adventure', 'Thriller', 'War'], ['Drama', 'ScienceFiction', 'Adventure', 'Mystery'], ['Animation', 'Comedy', 'Family', 'Fantasy', 'ScienceFiction'], ['Drama', 'Horror', 'Thriller', 'Romance'], ['Comedy', 'Romance'], ['Comedy', 'Romance'], ['Crime', 'Mystery', 'Thriller'], ['ScienceFiction', 'Action', 'Adventure', 'Thriller'], ['Action', 'Western', 'Drama', 'Fantasy', 'Thriller'], ['Drama', 'Thriller', 'Mystery', 'War'], ['Comedy'], ['Crime', 'Drama', 'Thriller'], ['Drama', 'History', 'War'], ['Fantasy', 'Comedy', 'Family'], ['Action', 'Crime', 'Thriller'], ['Comedy'], ['Comedy', 'Crime', 'Action'], ['Action', 'ScienceFiction', 'Adventure', 'Comedy', 'Family'], ['Comedy', 'Drama', 'Family', 'Romance'], ['Drama', 'Mystery', 'Thriller', 'Crime'], ['Drama', 'Thriller', 'Crime', 'Mystery'], ['Drama', 'Comedy'], ['Drama', 'Action', 'Thriller', 'Crime'], ['Romance', 'Comedy'], ['Drama', 'Thriller', 'Crime'], ['Action', 'Crime', 'Drama', 'Thriller'], ['Comedy', 'Family', 'ScienceFiction'], ['Comedy'], ['Comedy', 'Family', 'Music'], ['Horror', 'Action'], ['Drama'], ['Action', 'Adventure', 'Crime', 'Thriller'], ['Adventure', 'Horror', 'Thriller'], ['Comedy'], ['Comedy', 'Romance', 'Drama'], ['Adventure', 'Animation', 'Comedy', 'Family'], ['Horror', 'Mystery', 'Thriller'], ['Action', 'Thriller'], ['Comedy', 'Drama', 'Romance'], ['Comedy', 'Drama', 'Family'], ['Romance', 'Comedy', 'Family'], ['Adventure', 'Comedy', 'Family', 'ScienceFiction'], ['Comedy', 'Drama', 'Family'], ['Horror', 'Action', 'ScienceFiction'], ['Comedy'], ['Adventure', 'Comedy', 'Drama'], ['Action', 'Adventure', 'Crime', 'Thriller'], ['Adventure', 'Family', 'Fantasy'], ['Crime', 'Drama', 'Thriller'], ['Action', 'Adventure', 'Crime', 'Thriller'], ['Adventure', 'Action', 'Comedy'], ['Fantasy', 'Adventure', 'Animation', 'Comedy', 'Family'], ['Action', 'ScienceFiction', 'Adventure'], ['Adventure', 'Drama', 'Music', 'Romance'], ['Drama', 'Romance'], ['Action', 'Adventure', 'Crime', 'Thriller'], ['Action', 'Adventure', 'ScienceFiction', 'Thriller'], ['Action', 'Adventure', 'Crime', 'Drama', 'Thriller'], ['Comedy', 'Fantasy', 'ScienceFiction'], ['Adventure', 'Comedy', 'Family', 'Fantasy', 'ScienceFiction'], ['Crime', 'Drama', 'Mystery', 'Thriller'], ['Comedy', 'Music'], ['Adventure', 'Action'], ['Drama', 'Romance', 'Western'], ['History', 'Drama'], ['Thriller', 'Mystery'], ['Adventure', 'Action', 'Horror', 'ScienceFiction'], ['Drama', 'War'], ['Action', 'Drama', 'Fantasy'], ['Action', 'Crime', 'Thriller'], ['Action', 'Comedy', 'Thriller'], ['Drama', 'Romance'], ['Action', 'Thriller'], ['Crime', 'Adventure', 'Action', 'Comedy', 'Thriller'], ['Animation', 'Action', 'Comedy', 'Family'], ['Drama', 'Thriller'], ['Adventure', 'Action', 'Thriller', 'Crime', 'Mystery'], ['Action'], ['Crime', 'Drama', 'Thriller'], ['Action', 'Adventure', 'Thriller', 'War'], ['Drama', 'Thriller'], ['Animation', 'Family'], ['Action', 'Drama', 'History', 'Western'], ['Fantasy', 'Action', 'ScienceFiction', 'Thriller'], ['Drama', 'ScienceFiction', 'Thriller'], ['Drama'], ['Comedy', 'Drama'], ['Action', 'Crime'], ['Romance', 'Comedy'], ['Drama', 'Mystery', 'Thriller'], ['Drama'], ['Action', 'Thriller', 'Crime'], ['Action', 'Comedy', 'Crime'], ['Romance', 'Comedy', 'Drama'], ['Animation', 'Comedy', 'Family'], ['Comedy', 'Romance'], ['Comedy', 'Romance'], ['Action', 'Comedy', 'Crime'], ['Drama', 'History', 'Romance'], ['Comedy'], ['Drama', 'Mystery', 'Thriller', 'Crime'], ['Comedy', 'Drama', 'Romance'], ['Drama', 'Horror', 'Mystery'], ['Comedy'], ['Adventure', 'Action', 'Thriller'], ['Fantasy', 'Thriller', 'Horror'], ['Action', 'Crime', 'Thriller'], ['Adventure', 'Comedy', 'Family', 'Fantasy'], ['Crime', 'Drama', 'Thriller'], ['Drama', 'Adventure', 'Action', 'History'], ['Action', 'Comedy', 'Crime'], ['Action', 'Comedy'], ['Adventure', 'Fantasy', 'Action', 'Western', 'Thriller'], ['Action', 'Comedy', 'Crime'], ['Drama'], ['Adventure', 'Comedy', 'Animation'], ['Adventure', 'Drama', 'Romance', 'Action'], ['Thriller', 'Fantasy', 'Action', 'Comedy'], ['Mystery', 'Thriller', 'Drama'], ['Action', 'Thriller', 'Crime'], ['Comedy'], ['Drama'], ['Drama', 'Crime'], ['Comedy', 'Romance', 'Drama'], ['Crime', 'Drama', 'Mystery', 'Thriller'], ['Adventure', 'Comedy', 'Family', 'ScienceFiction'], ['Action', 'ScienceFiction'], ['Drama', 'Romance', 'Thriller'], ['Action', 'Adventure', 'Comedy', 'Family', 'ScienceFiction'], ['Crime', 'Drama', 'Thriller'], ['Comedy'], ['Action', 'Drama', 'Thriller', 'War'], ['Comedy'], ['Horror'], ['Drama'], ['Comedy', 'Romance', 'Drama'], ['Comedy'], ['Horror', 'Mystery'], ['Adventure', 'Comedy', 'Family', 'ScienceFiction'], ['Comedy'], ['Romance', 'Horror'], ['Romance', 'Drama'], ['Drama'], ['Thriller', 'Crime', 'Drama'], ['Comedy'], ['Adventure', 'Drama', 'Family'], ['Comedy'], ['Action', 'Comedy'], ['Action', 'Adventure', 'Drama', 'History', 'Romance', 'War'], ['Drama', 'Music'], ['Action', 'Thriller', 'Crime'], ['Drama', 'Action', 'Thriller', 'Crime'], ['Comedy'], ['Comedy', 'Romance'], ['Drama', 'Thriller', 'History'], ['Comedy', 'Crime'], ['Action', 'Comedy', 'Crime', 'Romance'], ['Comedy'], ['Comedy', 'Romance'], ['Horror', 'Mystery'], ['Thriller', 'Drama'], ['Action', 'Drama', 'Thriller', 'War'], ['Comedy'], ['Drama', 'Romance', 'Comedy'], ['Comedy', 'Adventure', 'Fantasy', 'ScienceFiction', 'Action'], ['Action', 'Adventure', 'Fantasy', 'Horror', 'ScienceFiction', 'Thriller'], ['Action', 'Adventure', 'Drama', 'Thriller'], ['Crime', 'Drama', 'Thriller'], ['Action', 'Mystery', 'Thriller'], ['Drama', 'Mystery', 'Thriller'], ['Comedy'], ['Animation', 'Comedy', 'Adventure', 'Family', 'ScienceFiction'], ['Action', 'Adventure', 'Drama', 'Thriller'], ['Action', 'Adventure', 'Thriller'], ['Action', 'ScienceFiction', 'Adventure', 'Thriller'], ['Comedy', 'Crime', 'Drama', 'Romance', 'Thriller'], ['Thriller', 'Mystery'], ['Romance', 'Drama', 'Mystery'], ['Drama', 'Horror', 'Mystery', 'Thriller'], ['Fantasy', 'Drama', 'Comedy', 'Family'], ['Comedy', 'Romance'], ['Music', 'Drama'], ['Drama', 'Crime', 'Thriller'], ['Horror', 'Thriller'], ['Drama', 'History', 'Mystery'], ['Adventure'], ['Fantasy', 'Action', 'ScienceFiction', 'Thriller', 'Horror'], ['Comedy', 'Family'], ['Drama', 'Romance'], ['Comedy', 'Music', 'Romance'], ['Adventure', 'Comedy', 'ScienceFiction'], ['Comedy'], ['Horror', 'Mystery'], ['Thriller', 'Crime', 'Mystery'], ['Drama', 'Music'], ['Comedy'], ['Comedy', 'Drama'], ['Horror', 'Mystery'], ['Comedy', 'Crime', 'Romance'], ['Drama', 'Romance'], ['Comedy', 'Drama', 'Romance'], ['Comedy'], ['Comedy', 'Western'], ['Adventure', 'Fantasy', 'Action', 'Thriller', 'ScienceFiction'], ['Drama'], ['Comedy', 'Drama', 'Romance'], ['Drama'], ['Crime', 'Action', 'Adventure'], ['Drama', 'Romance'], ['Drama', 'Horror', 'Thriller', 'Crime'], ['Comedy'], ['Fantasy', 'Horror', 'ScienceFiction'], ['Action', 'Adventure', 'Drama'], ['Drama'], ['Drama', 'Romance'], ['Horror'], ['Drama', 'Crime'], ['Comedy', 'War'], ['Action', 'Thriller', 'Crime', 'Drama'], ['Fantasy', 'Animation', 'Drama', 'Romance', 'Family'], ['Crime', 'Drama', 'Mystery'], ['Drama', 'Romance'], ['Action'], ['Drama', 'Thriller'], ['Drama'], ['Drama', 'History'], ['Action', 'Crime', 'Drama', 'Thriller'], ['Action', 'Drama', 'Thriller', 'Crime'], ['Thriller', 'Drama'], ['Action', 'Adventure', 'Comedy'], ['Adventure', 'Animation', 'Comedy', 'Family'], ['Comedy', 'Drama', 'Romance'], ['Comedy', 'Fantasy', 'ScienceFiction'], ['Comedy', 'Romance'], ['Comedy'], ['Comedy'], ['Adventure', 'Drama', 'Romance'], ['Drama', 'Mystery'], ['Horror', 'Thriller'], ['Adventure', 'Fantasy', 'Action', 'Thriller'], ['Action', 'Comedy', 'Thriller'], ['Comedy', 'Music'], ['Action', 'Drama', 'Thriller'], ['Action', 'ScienceFiction'], ['Action', 'Horror', 'Mystery', 'ScienceFiction', 'Thriller'], ['Action', 'ScienceFiction', 'Thriller'], ['Action', 'Adventure', 'Drama', 'Thriller'], ['Comedy', 'Fantasy', 'ScienceFiction'], ['ScienceFiction', 'Thriller'], ['Drama', 'Comedy'], ['Adventure', 'Fantasy', 'Animation', 'Comedy', 'ScienceFiction', 'Family'], ['Action', 'Drama', 'Crime'], ['Adventure', 'Action', 'Family'], ['Thriller', 'Drama', 'Mystery'], ['Action', 'Crime', 'Thriller', 'Drama'], ['Action', 'Adventure', 'Thriller', 'Drama'], ['Comedy', 'Drama'], ['Action', 'Drama', 'History'], ['Action', 'History', 'War'], ['Action', 'ScienceFiction', 'Drama'], ['Adventure', 'Animation', 'Comedy', 'Family', 'Fantasy'], ['Action', 'Comedy'], ['Fantasy', 'Action', 'Thriller'], ['Action', 'Adventure', 'War', 'History'], ['Drama', 'Romance', 'Fantasy'], ['Comedy'], ['Animation', 'Comedy', 'Family'], ['ScienceFiction', 'Action', 'Adventure', 'Thriller'], ['Romance', 'Drama'], ['Comedy', 'Action', 'Adventure', 'Fantasy', 'ScienceFiction'], ['Comedy'], ['Adventure', 'Drama', 'Action'], ['Comedy', 'Romance'], ['Comedy', 'Romance'], ['Comedy', 'Family'], ['Action', 'Adventure', 'Family'], ['ScienceFiction', 'Action', 'Adventure', 'Thriller'], ['Action', 'Drama', 'History'], ['Drama', 'Romance'], ['Adventure', 'Family', 'Fantasy', 'Animation'], ['Drama'], ['Drama', 'Thriller'], ['Crime', 'Comedy', 'Romance'], ['Action', 'Comedy', 'Family'], ['Drama', 'Romance', 'Thriller'], ['Comedy'], ['Horror', 'Mystery', 'Thriller'], ['Drama', 'Thriller'], ['Music', 'Drama', 'Comedy'], ['Drama'], ['Action', 'Drama'], ['Horror', 'Mystery', 'ScienceFiction'], ['ScienceFiction', 'Action', 'Thriller'], ['Action', 'Adventure', 'Mystery', 'Thriller'], ['Action', 'Western'], ['Adventure', 'Family', 'Fantasy'], ['Drama'], ['Adventure', 'Action', 'Comedy', 'Romance'], ['Drama'], ['Adventure', 'ScienceFiction'], ['Drama'], ['Crime', 'Drama', 'Thriller'], ['Romance', 'Comedy', 'Drama'], ['Comedy', 'Drama'], ['Adventure', 'Comedy', 'Family', 'Fantasy'], ['Drama', 'Action'], ['Drama'], ['Action', 'Comedy', 'Crime'], ['Comedy', 'Romance'], ['Drama', 'Family'], ['Adventure', 'Fantasy', 'Drama', 'Romance'], ['Drama', 'Thriller', 'Crime'], ['Action', 'Comedy', 'Crime'], ['Comedy', 'Crime'], ['Action', 'Fantasy', 'ScienceFiction', 'Thriller'], ['Drama', 'Action', 'Thriller'], ['Adventure', 'Action', 'Thriller'], ['ScienceFiction', 'Comedy', 'Adventure'], ['Family', 'Drama'], ['Thriller'], ['Action', 'Drama'], ['Drama', 'Comedy', 'Romance'], ['History', 'Drama'], ['Drama', 'Romance'], ['Drama', 'Thriller', 'Horror'], ['Thriller', 'ScienceFiction', 'Mystery', 'Romance'], ['Drama', 'Comedy'], ['Animation', 'Family'], ['Comedy'], ['Comedy'], ['Action', 'Drama', 'History'], ['Adventure', 'Comedy', 'Crime', 'ScienceFiction'], ['Fantasy', 'Action'], ['Fantasy', 'Action'], ['Family', 'Adventure', 'Comedy', 'ScienceFiction', 'Crime'], ['Family', 'Adventure', 'Comedy', 'ScienceFiction', 'Crime'], ['Drama'], ['Adventure', 'Action', 'Comedy', 'Thriller', 'Crime'], ['Drama'], ['Action', 'Comedy', 'Family', 'Adventure'], ['Comedy', 'Crime'], ['Drama', 'Adventure', 'Western'], ['Comedy', 'Drama', 'Romance'], ['ScienceFiction', 'Adventure', 'Mystery'], ['Comedy', 'Crime'], ['Crime', 'Thriller'], ['Drama', 'Crime'], ['Comedy'], ['Comedy', 'Romance'], ['Drama', 'Romance', 'War'], ['Crime', 'Drama', 'Mystery', 'Thriller'], ['Adventure', 'Comedy', 'Family'], ['Comedy', 'Romance'], ['ScienceFiction', 'Horror', 'Action'], ['Horror'], ['Horror', 'ScienceFiction', 'Thriller'], ['Action', 'Adventure', 'Drama'], ['Drama'], ['Adventure', 'Animation', 'Comedy', 'Family'], ['Drama'], ['Romance', 'Comedy'], ['Comedy'], ['Comedy', 'Drama', 'History'], ['Drama', 'History'], ['Comedy'], ['Comedy', 'Family'], ['Fantasy', 'Action', 'Adventure', 'ScienceFiction', 'Thriller'], ['Comedy'], ['Comedy'], ['Comedy', 'Romance'], ['Crime', 'Drama', 'Thriller'], ['Horror', 'Action', 'ScienceFiction'], ['Horror'], ['Comedy', 'Crime', 'Thriller'], ['Action'], ['Action', 'Thriller', 'ScienceFiction'], ['Comedy', 'Romance'], ['Comedy', 'Drama', 'Romance'], ['Adventure', 'Comedy', 'Fantasy'], ['Comedy', 'Family'], ['Action', 'Adventure', 'Thriller'], ['Drama', 'War'], ['Drama', 'History'], ['Horror'], ['Drama', 'Romance'], ['Drama', 'Crime', 'History'], ['Horror', 'Mystery', 'Thriller'], ['Drama', 'Fantasy', 'Horror'], ['ScienceFiction', 'Action', 'Thriller'], ['Drama'], ['Comedy', 'Romance'], ['ScienceFiction'], ['Comedy', 'Romance'], ['Action', 'Thriller', 'Crime', 'Mystery'], ['Crime', 'Drama', 'Mystery', 'Thriller'], ['Crime', 'Action', 'Thriller'], ['Comedy', 'Fantasy'], ['Crime', 'History'], ['Drama', 'Mystery', 'ScienceFiction', 'Thriller'], ['Family', 'Fantasy', 'Comedy'], ['Drama'], ['Thriller', 'Action', 'Mystery'], ['Animation', 'Family', 'Adventure'], ['Comedy', 'Drama'], ['Action', 'Comedy', 'ScienceFiction'], ['Thriller', 'Crime', 'Drama'], ['Horror', 'Comedy'], ['Crime', 'Action', 'Thriller'], ['Action', 'Comedy', 'Crime'], ['War', 'Adventure', 'Drama', 'Romance'], ['Action', 'Crime'], ['Comedy', 'Romance'], ['Comedy'], ['Action', 'Horror', 'Thriller'], ['Fantasy', 'Action', 'Adventure'], ['Action', 'Adventure', 'Drama', 'History'], ['Action', 'Adventure', 'Drama', 'Thriller'], ['Comedy', 'Music'], ['Drama', 'Romance'], ['Action', 'Western'], ['Drama', 'History', 'Romance'], ['Action', 'Crime', 'Mystery', 'Thriller'], ['Drama', 'Fantasy'], ['Action', 'Adventure', 'Thriller'], ['Action', 'Drama', 'Thriller', 'Crime'], ['Drama', 'Fantasy', 'Horror', 'Mystery', 'Romance', 'Thriller'], ['Action', 'Crime'], ['Family', 'Fantasy', 'Comedy'], ['Adventure', 'Drama', 'Thriller'], ['Fantasy', 'Family', 'Action'], ['Comedy', 'Drama', 'Romance'], ['Drama'], ['Action', 'Crime', 'Drama', 'Thriller'], ['Action', 'Crime', 'Drama', 'Mystery', 'Thriller'], ['Thriller', 'Crime', 'Romance'], ['Action', 'History', 'War'], ['War', 'Adventure', 'Drama', 'Romance'], ['Drama', 'War', 'Romance', 'Western'], ['Drama'], ['Action', 'Comedy', 'Western', 'Crime'], ['Drama', 'Crime'], ['Action', 'Mystery', 'ScienceFiction', 'Thriller'], ['Comedy'], ['Drama', 'Romance'], ['Drama', 'Adventure', 'ScienceFiction', 'Romance'], ['Action', 'Comedy', 'Thriller'], ['Action', 'Crime', 'Drama', 'Thriller'], ['Animation', 'Family'], ['Drama', 'Romance'], ['Drama', 'ScienceFiction', 'Thriller'], ['Romance', 'Drama', 'Adventure'], ['Comedy', 'Romance'], ['Drama', 'History'], ['Drama', 'History'], ['Drama'], ['Action', 'Crime', 'Thriller'], ['Crime', 'Comedy'], ['Family', 'Fantasy', 'Animation', 'Adventure'], ['Horror', 'Action', 'Thriller', 'ScienceFiction'], ['Music', 'Drama', 'Romance'], ['Action', 'Crime', 'Horror', 'Thriller'], ['Mystery', 'Thriller'], ['Action', 'Crime', 'Drama'], ['Drama'], ['Action', 'Crime', 'Thriller'], ['Comedy', 'Drama'], ['Adventure', 'Action', 'ScienceFiction'], ['Action', 'Thriller', 'ScienceFiction'], ['Drama', 'Romance'], ['Comedy'], ['Comedy', 'Family', 'Fantasy'], ['Drama', 'Fantasy', 'Romance', 'ScienceFiction'], ['Adventure', 'Comedy', 'Family'], ['Fantasy', 'Comedy', 'Drama'], ['Comedy', 'Family'], ['Comedy', 'Romance'], ['Action', 'Comedy'], ['Horror'], ['Drama'], ['Action', 'Crime', 'Drama', 'Thriller'], ['Comedy'], ['Crime', 'Comedy', 'Action'], ['Thriller', 'ScienceFiction', 'Mystery'], ['Action', 'Adventure', 'Drama', 'Thriller'], ['Thriller', 'Drama', 'Mystery'], ['Adventure', 'Drama', 'Family'], ['Action', 'Comedy'], ['Drama', 'Family'], ['Drama', 'Thriller', 'Crime'], ['Action', 'Thriller', 'Crime'], ['Action', 'Western'], ['Action', 'Comedy', 'Romance', 'Thriller'], ['Drama'], ['Action', 'ScienceFiction', 'Thriller', 'Crime'], ['Fantasy', 'Drama', 'Horror', 'Action', 'Thriller', 'ScienceFiction'], ['Fantasy', 'Comedy', 'Family'], ['Comedy'], ['Animation', 'Comedy', 'Family', 'Music'], ['Drama'], ['War', 'Crime', 'Drama', 'Mystery', 'Romance', 'Thriller'], ['Adventure'], ['Drama', 'War'], ['Comedy', 'Drama', 'Romance'], ['Music', 'Drama', 'Family'], ['Action'], ['Drama'], ['Drama'], ['Action', 'Adventure', 'Thriller', 'ScienceFiction'], ['Comedy', 'Drama'], ['Drama', 'Mystery'], ['Comedy', 'Horror'], ['Crime', 'Drama', 'ScienceFiction', 'Thriller'], ['Comedy'], ['Comedy', 'Thriller', 'Crime'], ['Action', 'Comedy', 'Crime', 'Drama', 'Music'], ['Comedy', 'Drama'], ['Comedy', 'Romance'], ['Animation', 'Comedy', 'Family'], ['Action', 'Adventure', 'Crime'], ['Drama', 'Romance'], ['Drama'], ['Drama'], ['Action', 'Adventure', 'Thriller'], ['Drama'], ['Comedy'], ['Horror', 'Comedy', 'Fantasy'], ['Crime', 'Comedy', 'Adventure'], ['Comedy', 'Family', 'Romance'], ['Comedy'], ['Crime', 'Mystery', 'Thriller'], ['ScienceFiction'], ['Animation', 'Comedy', 'Family'], ['Thriller', 'Crime', 'Drama', 'Mystery'], ['Drama'], ['Comedy', 'Crime'], ['Romance', 'Drama'], ['Comedy', 'Romance'], ['Comedy', 'Drama', 'Family', 'Music', 'Romance'], ['Adventure', 'Animation', 'Comedy', 'Family'], ['Drama', 'Romance'], ['Adventure', 'Drama', 'Romance', 'War'], ['Drama', 'Romance'], ['Drama', 'Comedy'], ['Horror', 'Comedy', 'Romance'], ['Action', 'Thriller', 'ScienceFiction'], ['Fantasy', 'Comedy', 'ScienceFiction', 'Romance'], ['Fantasy', 'Drama', 'Comedy', 'Family'], ['Drama', 'Comedy', 'Romance'], ['Comedy', 'Romance', 'Drama'], ['Action', 'Crime'], ['Comedy'], ['Drama', 'Romance'], ['Comedy'], ['Action', 'Adventure', 'Comedy', 'Thriller'], ['Comedy', 'Fantasy', 'Romance'], ['Fantasy', 'Comedy', 'Romance'], ['Animation', 'Comedy', 'Family', 'Adventure'], ['Crime', 'Drama'], ['Romance', 'Drama'], ['ScienceFiction', 'Action', 'Adventure', 'Thriller'], ['Comedy', 'Drama', 'Family', 'Fantasy'], ['Comedy', 'Crime'], ['Adventure', 'Action', 'Thriller'], ['Adventure', 'Animation', 'Comedy', 'Family'], ['Drama', 'Romance'], ['Comedy'], ['Drama', 'Romance'], ['Comedy', 'Drama', 'Romance'], ['Action', 'Thriller', 'Crime'], ['Comedy'], ['Romance', 'Fantasy', 'Animation', 'Music'], ['Drama'], ['Action', 'Crime', 'Drama', 'Mystery', 'Thriller'], ['Action', 'Drama'], ['Horror', 'Thriller'], ['Fantasy', 'Drama', 'Romance'], ['Comedy', 'Drama', 'Family'], ['Drama', 'Romance'], ['Adventure'], ['Comedy', 'Drama', 'Fantasy', 'Romance'], ['Horror', 'Thriller'], ['Horror', 'Thriller'], ['Comedy'], ['Adventure', 'Comedy', 'Crime'], ['Action', 'ScienceFiction'], ['Horror', 'Comedy', 'Music'], ['Action', 'Thriller', 'Adventure'], ['Action', 'Fantasy', 'ScienceFiction'], ['Comedy', 'Romance', 'Drama'], ['Drama', 'Horror'], ['Music'], ['Action', 'Adventure', 'Crime', 'Drama'], ['Action', 'Comedy'], ['Action', 'Adventure', 'Animation', 'ScienceFiction', 'Thriller'], ['Thriller', 'Crime', 'Drama'], ['Comedy', 'Romance'], ['Animation', 'Family'], ['Comedy'], ['Comedy', 'Drama'], ['Drama', 'Music'], ['Drama', 'Romance'], ['Action', 'Crime', 'ScienceFiction', 'Thriller'], ['Fantasy', 'Drama', 'Action', 'Comedy', 'Crime', 'ScienceFiction'], ['Thriller', 'Crime', 'Horror'], ['Action', 'Thriller'], ['Comedy', 'Romance', 'Drama'], ['Comedy'], ['Comedy', 'Drama'], ['Romance', 'Drama', 'Thriller', 'Crime'], ['ScienceFiction', 'Action', 'Thriller'], ['Thriller'], ['Action', 'Drama', 'Crime', 'Thriller'], ['Action', 'Comedy', 'Thriller'], ['Action', 'Comedy', 'Horror', 'Thriller'], ['Drama', 'Comedy', 'Romance'], ['Crime', 'Mystery', 'Thriller'], ['Drama'], ['Comedy', 'Thriller', 'Crime'], ['Horror', 'Thriller', 'ScienceFiction'], ['Comedy', 'Fantasy', 'ScienceFiction'], ['Thriller', 'Crime', 'Drama'], ['Action', 'Adventure', 'Horror', 'Thriller'], ['Comedy', 'Romance'], ['Drama', 'Mystery', 'Romance', 'Thriller'], ['Horror', 'Comedy'], ['Drama', 'History', 'Romance'], ['Action', 'ScienceFiction'], ['Drama', 'Thriller'], ['Action', 'Adventure', 'Fantasy', 'ScienceFiction', 'Thriller'], ['Action', 'Crime', 'Thriller'], ['Drama', 'Horror', 'ScienceFiction', 'Thriller'], ['Comedy', 'Romance'], ['Comedy', 'Animation', 'Family'], ['Drama'], ['Adventure', 'Fantasy', 'Mystery'], ['Comedy', 'Drama'], ['Crime', 'Thriller', 'Drama'], ['Action', 'Crime', 'Drama'], ['War'], ['Drama', 'Crime'], ['Thriller', 'Action', 'Crime', 'Drama'], ['Drama', 'Romance'], ['Crime', 'Drama', 'Thriller'], ['Action', 'Adventure', 'Drama', 'Romance'], ['Drama', 'Family', 'Romance'], ['Fantasy', 'Drama', 'Action', 'Thriller', 'Romance'], ['Adventure', 'Action', 'Thriller'], ['Action', 'Drama', 'Western'], ['Adventure', 'Drama', 'Action', 'History', 'War'], ['Comedy'], ['Thriller', 'Crime', 'Drama'], ['Action', 'Thriller', 'Crime'], ['Animation', 'Family', 'Comedy'], ['History', 'Drama'], ['Drama'], ['Romance', 'Drama'], ['Fantasy', 'Adventure', 'Animation'], ['Crime', 'Thriller'], ['Adventure', 'Animation', 'Comedy', 'Fantasy'], ['Comedy', 'Music'], ['Drama', 'Music', 'Romance'], ['Comedy'], ['Adventure', 'Fantasy', 'Action', 'Comedy', 'Family'], ['Drama', 'History'], ['Comedy', 'Crime', 'Drama', 'Romance', 'Thriller'], ['Comedy', 'Romance'], ['Comedy'], ['Drama'], ['Comedy', 'Drama', 'Romance'], ['Drama', 'Horror', 'Comedy'], ['Drama', 'Mystery', 'Thriller', 'Fantasy'], ['Animation', 'Family', 'Comedy', 'Adventure', 'Fantasy', 'Romance'], ['Drama', 'Music'], ['Adventure', 'Action'], ['Animation', 'Family'], ['Crime', 'Mystery', 'Thriller', 'Action'], ['Comedy', 'Drama'], ['Action'], ['Action', 'Thriller'], ['Comedy'], ['Comedy', 'Drama'], ['Music', 'Comedy', 'Drama'], ['Drama', 'History'], ['Fantasy', 'Horror', 'Action'], ['Comedy'], ['Animation', 'ScienceFiction'], ['Comedy', 'Drama'], ['Mystery', 'Thriller'], ['Comedy'], ['Adventure', 'Action', 'Thriller'], ['Comedy', 'Romance'], ['Thriller', 'ScienceFiction', 'Action', 'Crime'], ['Comedy'], ['Romance'], ['Comedy', 'Family', 'Fantasy'], ['Comedy'], ['Action', 'Crime'], ['Action', 'Adventure', 'Comedy'], ['Thriller', 'Horror'], ['Family', 'Comedy'], ['Drama', 'Romance'], ['ScienceFiction', 'Drama', 'Thriller'], ['Adventure'], ['Action', 'Drama', 'Thriller', 'Crime'], ['Drama', 'Crime', 'Thriller'], ['Horror', 'Thriller'], ['Documentary'], ['Comedy', 'Drama', 'Family', 'Fantasy', 'Romance'], ['Drama', 'Comedy'], ['Action', 'Comedy', 'Family'], ['Adventure', 'Comedy', 'Family', 'Fantasy'], ['Action', 'Horror', 'ScienceFiction'], ['Comedy', 'Drama'], ['Romance', 'Horror', 'Comedy', 'Thriller'], ['Drama'], ['Comedy', 'Romance', 'Drama'], ['Action', 'Adventure', 'Crime'], ['Action'], ['Action', 'Crime', 'Drama'], ['Adventure', 'Action', 'Thriller'], ['Comedy', 'Romance', 'Drama'], ['Drama'], ['Comedy', 'Drama'], ['Drama', 'Adventure', 'History'], ['Drama', 'Romance'], ['Drama', 'Thriller'], ['ScienceFiction', 'Action', 'Adventure', 'Thriller'], ['Comedy', 'Drama', 'Romance'], ['Drama', 'Mystery', 'Thriller', 'Crime'], ['Music', 'Comedy', 'Action', 'Crime'], ['Adventure', 'Comedy', 'Drama', 'Family'], ['Comedy', 'Music'], ['Drama', 'Comedy', 'Romance'], ['Horror', 'Comedy', 'Action', 'ScienceFiction', 'Thriller'], ['Drama', 'Thriller', 'Crime', 'Mystery'], ['Drama', 'History'], ['Drama', 'History', 'Thriller'], ['Drama', 'Family', 'Fantasy', 'Adventure'], ['Mystery', 'ScienceFiction'], ['Drama', 'History', 'Romance'], ['Adventure', 'Family', 'Fantasy'], ['Crime', 'Action', 'Drama'], ['Horror', 'Mystery', 'Thriller'], ['Crime', 'Thriller'], ['Drama'], ['Family', 'Comedy', 'Action'], ['Thriller'], ['Thriller', 'Action', 'Comedy', 'Crime'], ['Comedy', 'Drama'], ['Mystery', 'Thriller', 'Crime'], ['Comedy', 'Drama'], ['Drama', 'Thriller'], ['Comedy', 'Drama', 'Music'], ['Action', 'Adventure', 'Comedy', 'Family'], ['Comedy'], ['Comedy', 'Romance'], ['Romance', 'History'], ['Crime', 'Drama', 'Mystery', 'Thriller'], ['Comedy'], ['Action', 'Comedy'], ['Drama', 'Romance', 'Comedy'], ['Western'], ['Drama', 'Horror', 'ScienceFiction', 'Thriller'], ['Drama', 'History', 'War'], ['Horror', 'Thriller'], ['Horror', 'Mystery'], ['Action', 'Adventure', 'Comedy'], ['Horror'], ['Thriller', 'Crime', 'Action'], ['Comedy', 'Drama', 'Romance'], ['Adventure', 'Family', 'ScienceFiction', 'Thriller'], ['Action', 'Crime', 'Drama', 'Western'], ['Drama', 'Thriller', 'War'], ['Comedy'], ['Comedy', 'Romance'], ['Drama', 'Thriller', 'Mystery', 'Romance'], ['Crime', 'Thriller', 'Mystery'], ['Comedy'], ['Action', 'Fantasy', 'ScienceFiction'], ['Crime', 'Drama', 'Thriller'], ['Fantasy', 'Horror'], ['Comedy', 'Crime', 'Mystery', 'Romance', 'Thriller'], ['Romance', 'Comedy'], ['Adventure', 'Family'], ['ScienceFiction', 'Mystery', 'Thriller'], ['Drama', 'Mystery', 'Thriller'], ['Drama'], ['Comedy', 'Drama', 'Family'], ['Drama'], ['Drama'], ['Drama', 'History'], ['Action', 'Thriller'], ['Drama', 'Romance'], ['Thriller', 'Action', 'Drama', 'Music', 'Romance'], ['Drama', 'History', 'War'], ['Drama'], ['Drama', 'Thriller'], ['Mystery', 'Fantasy', 'Adventure', 'Comedy'], ['Thriller', 'Adventure', 'Mystery', 'Fantasy'], ['Horror'], ['Thriller', 'Drama'], ['Action', 'Adventure', 'Animation', 'Comedy', 'Family', 'Fantasy', 'ScienceFiction'], ['Action', 'Thriller', 'ScienceFiction'], ['ScienceFiction', 'Adventure', 'Action', 'Comedy', 'Family'], ['Crime', 'Drama', 'History', 'Thriller'], ['Crime', 'Drama', 'Thriller'], ['Action', 'Comedy'], ['Comedy', 'Romance', 'Drama'], ['Comedy', 'Drama', 'Romance'], ['Comedy'], ['Comedy'], ['Comedy', 'Romance'], ['Action', 'Adventure', 'Drama', 'History', 'Western'], ['Action', 'Crime', 'Thriller'], ['Horror', 'Thriller'], ['Horror', 'Mystery'], ['Drama', 'Romance'], ['Adventure', 'Drama', 'Family'], ['Drama'], ['Comedy', 'Drama'], ['Action', 'Drama', 'Thriller'], ['Horror', 'Mystery', 'Thriller'], ['Comedy'], ['Drama', 'Crime'], ['Action'], ['Fantasy', 'Comedy', 'Family'], ['Action', 'Crime', 'Drama', 'Thriller'], ['Action', 'Adventure', 'Comedy'], ['Drama', 'History'], ['Thriller', 'Action', 'Drama', 'Crime'], ['Action', 'Adventure', 'Comedy'], ['Drama'], ['Animation', 'Adventure', 'Family'], ['Animation', 'Family'], ['Action', 'Comedy'], ['Drama', 'Comedy'], ['Action', 'Crime', 'Thriller'], ['Romance', 'Comedy'], ['Comedy', 'Romance'], ['Drama'], ['Drama', 'ScienceFiction'], ['Comedy'], ['Horror', 'Thriller'], ['Comedy', 'Drama', 'Romance'], ['Action', 'Crime', 'Drama'], ['Drama'], ['Comedy', 'Drama', 'Family', 'Romance'], ['Family', 'Comedy'], ['Adventure', 'Action', 'Horror', 'ScienceFiction', 'Thriller'], ['Thriller', 'Crime', 'Drama'], ['Drama'], ['Drama', 'History'], ['Horror', 'Comedy'], ['History', 'Action', 'Drama', 'Adventure', 'War'], ['Adventure', 'Fantasy', 'Drama', 'Comedy', 'Music'], ['Comedy'], ['Action', 'Comedy', 'Music'], ['Drama', 'Crime'], ['Adventure', 'Comedy'], ['Comedy'], ['Thriller', 'Crime', 'Drama'], ['Comedy', 'Drama'], ['Drama', 'Comedy', 'Family'], ['Comedy'], ['Comedy', 'Drama', 'History'], ['Drama'], ['Romance', 'Drama', 'Comedy'], ['Drama', 'Romance', 'War'], ['Action', 'Adventure', 'Crime', 'Mystery', 'Thriller'], ['Fantasy', 'Horror', 'Thriller'], ['Action', 'Thriller', 'Crime'], ['Comedy', 'Drama', 'Romance'], ['Comedy'], ['Crime', 'Action', 'Thriller'], ['Comedy', 'Family'], ['Drama'], ['Animation', 'Family', 'Fantasy'], ['Drama', 'Family'], ['Thriller', 'ScienceFiction'], ['Drama', 'Horror'], ['Comedy'], ['Drama', 'Horror', 'Mystery', 'Thriller'], ['Comedy'], ['Action', 'Adventure', 'Thriller'], ['Action', 'Comedy', 'Drama'], ['Crime', 'Thriller'], ['Action', 'Comedy'], ['Horror', 'Thriller'], ['Drama'], ['Drama'], ['Fantasy', 'Horror', 'ScienceFiction', 'Thriller'], ['Crime', 'Drama', 'History'], ['Drama'], ['Drama', 'History'], ['Action', 'Adventure', 'Comedy', 'Fantasy'], ['Comedy', 'Romance'], ['Action', 'Drama'], ['Drama', 'Thriller'], ['War', 'Drama', 'History'], ['Drama', 'War'], ['Drama', 'Mystery', 'Thriller'], ['Drama', 'Thriller'], ['Horror', 'Thriller'], ['Comedy', 'Romance', 'Drama'], ['Drama', 'Thriller'], ['Comedy', 'Drama'], ['Action', 'Crime', 'Thriller'], ['Adventure', 'Drama'], ['Action', 'Adventure', 'Comedy', 'Fantasy', 'ScienceFiction'], ['Action', 'Comedy'], ['Comedy', 'Romance'], ['Drama'], ['Action', 'Comedy', 'Fantasy', 'ScienceFiction'], ['Comedy', 'Crime'], ['Drama', 'Mystery', 'ScienceFiction', 'Thriller'], ['Action', 'Adventure', 'Fantasy', 'Horror'], ['Comedy', 'Drama'], ['Drama', 'Mystery', 'Thriller'], ['Fantasy', 'Family'], ['Drama'], ['Comedy', 'Drama', 'Romance'], ['Drama', 'Romance', 'Crime', 'Mystery'], ['Drama', 'Crime'], ['Animation', 'Family'], ['Comedy', 'Drama'], ['Drama'], ['Family', 'Adventure', 'Animation'], ['Family', 'Animation'], ['Thriller', 'Crime', 'Drama'], ['Romance', 'Adventure', 'Action', 'History'], ['History', 'Action', 'Drama'], ['Crime', 'Action', 'Thriller'], ['Action', 'Thriller'], ['Drama', 'Romance'], ['Adventure', 'Drama'], ['ScienceFiction', 'Adventure'], ['Drama'], ['Horror', 'Mystery'], ['Action', 'Drama', 'Western'], ['Comedy', 'Romance'], ['Comedy', 'Crime'], ['Drama', 'Family', 'Music', 'Romance'], ['Comedy'], ['Comedy', 'Drama'], ['Horror', 'Mystery', 'Thriller'], ['Romance', 'Comedy', 'Drama'], ['Comedy'], ['Comedy', 'Crime', 'Thriller'], ['Comedy', 'War'], ['Adventure', 'Drama', 'Action', 'Comedy', 'Romance'], ['Drama'], ['Comedy', 'Romance'], ['Fantasy', 'Comedy', 'ScienceFiction', 'Family'], ['Adventure', 'Family', 'Fantasy', 'Music'], ['Action', 'Comedy', 'Drama'], ['Comedy', 'Drama'], ['Romance', 'Comedy'], ['Comedy', 'Horror'], ['Drama', 'Music'], ['Animation', 'Comedy', 'Family'], ['Adventure', 'Fantasy', 'Animation', 'ScienceFiction', 'Family'], ['Romance', 'Drama'], ['Crime', 'Drama', 'Action', 'Thriller'], ['Fantasy', 'Animation', 'Adventure'], ['Comedy', 'Horror'], ['Comedy'], ['Adventure', 'Action', 'ScienceFiction'], ['Action', 'Comedy', 'Crime', 'Thriller'], ['Comedy', 'Crime'], ['Horror'], ['Drama'], ['Thriller', 'ScienceFiction', 'Action'], ['Comedy', 'Romance'], ['Romance', 'ScienceFiction', 'Drama'], ['Mystery', 'Thriller', 'Drama'], ['Fantasy', 'Adventure', 'Family'], ['Drama', 'Comedy', 'Romance'], ['Action', 'Comedy'], ['Action', 'Thriller'], ['Adventure', 'Thriller'], ['Drama'], ['Drama', 'Family'], ['Drama'], ['Action', 'Thriller'], ['History', 'Drama', 'Thriller', 'Crime', 'Mystery'], ['Drama', 'History'], ['Western', 'Drama'], ['Drama', 'Comedy', 'Romance'], ['Drama', 'Romance'], ['Drama', 'Action', 'History'], ['Horror', 'Thriller'], ['Comedy', 'ScienceFiction'], ['War', 'Drama'], ['Fantasy', 'Drama', 'Thriller', 'Mystery', 'Romance'], ['Romance', 'Comedy'], ['Fantasy', 'Drama', 'Comedy', 'Family'], ['Drama', 'Family'], ['Comedy', 'Family'], ['Drama', 'Romance'], ['Action', 'Comedy'], ['Drama', 'History'], ['Drama'], ['Crime', 'Drama', 'Mystery', 'Thriller', 'Action'], ['Drama'], ['Drama'], ['Fantasy', 'Action', 'Thriller'], ['Drama', 'Thriller'], ['Drama', 'Comedy', 'Crime'], ['Drama', 'Romance'], ['Comedy'], ['Comedy'], ['Thriller'], ['Comedy', 'Crime', 'Romance'], ['Comedy', 'Family'], ['Thriller', 'Drama', 'Crime', 'Romance'], ['Comedy'], ['Drama', 'Thriller'], ['Comedy', 'Drama', 'Mystery'], ['Comedy', 'Music'], ['Action', 'Thriller'], ['Family', 'Horror'], ['Comedy', 'Romance'], ['Action', 'Adventure', 'Crime', 'ScienceFiction', 'Thriller'], ['Action', 'ScienceFiction', 'Thriller'], ['Drama', 'Comedy', 'Thriller', 'Music', 'Romance'], ['Comedy', 'Family', 'Romance'], ['Thriller', 'Action', 'Crime'], ['Drama', 'Romance'], ['Drama', 'Thriller', 'War'], ['Romance', 'Drama', 'History', 'War', 'Music'], ['Action', 'Comedy', 'Romance'], ['Action', 'Comedy', 'Crime'], ['Mystery', 'Thriller'], ['Action', 'Thriller', 'Adventure'], ['Drama'], ['Romance', 'Drama', 'Comedy'], ['Thriller', 'Drama', 'Crime'], ['Drama', 'Mystery', 'Crime'], ['Comedy', 'Drama'], ['Drama', 'Thriller', 'Mystery'], ['Animation', 'Adventure', 'Romance'], ['Romance', 'Comedy'], ['ScienceFiction', 'Action', 'Adventure', 'Thriller'], ['Animation', 'Comedy', 'Music'], ['Comedy', 'Drama'], ['Action', 'Adventure', 'Comedy', 'Family', 'Fantasy', 'ScienceFiction'], ['Comedy', 'Romance'], ['Drama', 'Comedy', 'Romance'], ['Crime', 'Drama'], ['Drama'], ['Action', 'Crime', 'Thriller'], ['Drama', 'Action'], ['Horror', 'Thriller', 'ScienceFiction'], ['Drama', 'Comedy', 'Romance'], ['Drama', 'Comedy'], ['Romance', 'Drama'], ['Drama', 'Thriller', 'Mystery'], ['Drama', 'Comedy', 'Romance'], ['Drama'], ['Comedy'], ['Action', 'Thriller', 'ScienceFiction', 'Horror'], ['Adventure', 'Action'], ['Comedy', 'Family', 'Adventure', 'Crime'], ['ScienceFiction', 'Drama'], ['Horror', 'Thriller'], ['Action', 'Comedy', 'Crime'], ['Comedy'], ['Crime', 'Drama', 'Thriller'], ['Music', 'Comedy'], ['Comedy', 'Documentary', 'Action'], ['Horror', 'Thriller'], ['Adventure', 'Comedy', 'Family'], ['Horror', 'Thriller'], ['Adventure', 'Comedy', 'Family', 'Romance'], ['Comedy'], ['Comedy', 'Music'], ['Action', 'Fantasy'], ['Comedy'], ['Comedy', 'Drama'], ['Adventure', 'Family', 'Drama', 'Comedy'], ['Drama', 'Family', 'Romance'], ['Drama', 'History'], ['Drama', 'Romance', 'Comedy', 'Music'], ['Comedy', 'Romance'], ['Fantasy', 'Drama', 'Romance'], ['Drama', 'Romance'], ['Drama', 'Comedy', 'Crime'], ['Action', 'Crime', 'Thriller'], ['Comedy'], ['Comedy'], ['Adventure', 'Fantasy', 'Animation', 'Family'], ['History', 'Drama'], ['Family', 'Animation', 'Adventure'], ['Thriller', 'Horror', 'Drama', 'Mystery'], ['Thriller', 'Drama', 'Mystery'], ['Animation', 'Family'], ['Horror', 'Thriller', 'Mystery'], ['Adventure', 'Drama', 'Family'], ['Action', 'Adventure', 'Comedy'], ['Drama', 'Thriller', 'History'], ['Drama', 'Crime', 'Thriller'], ['Horror', 'Thriller'], ['Comedy', 'Drama', 'Romance'], ['Adventure', 'Comedy', 'Family', 'Fantasy', 'ScienceFiction'], ['Comedy', 'Drama', 'Romance', 'Thriller'], ['Adventure', 'Family', 'ScienceFiction', 'Action'], ['Crime', 'Drama', 'Thriller'], ['Drama'], ['Horror', 'Comedy'], ['Drama'], ['Drama', 'Comedy'], ['Drama', 'Mystery'], ['Music', 'Adventure', 'Animation', 'Action', 'Comedy'], ['Horror', 'Thriller'], ['Drama', 'Thriller'], ['Comedy'], ['Drama', 'Action', 'Comedy', 'Western', 'Music'], ['History', 'Drama'], ['Action'], ['Horror', 'Mystery', 'Thriller'], ['Comedy'], ['Crime', 'Drama', 'Mystery'], ['Horror', 'Thriller', 'Mystery'], ['Drama', 'Thriller'], ['Comedy', 'Drama', 'Romance', 'Music'], ['Horror', 'Mystery', 'Thriller'], ['Drama', 'Thriller'], ['Thriller', 'Crime', 'Drama'], ['ScienceFiction', 'Drama', 'Romance'], ['Comedy', 'Romance'], ['Action', 'Crime', 'Drama', 'Thriller'], ['Comedy', 'Action', 'ScienceFiction'], ['Action', 'Adventure', 'Crime', 'Family', 'Mystery', 'Thriller'], ['Fantasy', 'Horror', 'Action', 'Thriller', 'ScienceFiction'], ['Comedy', 'Romance'], ['Adventure', 'Comedy', 'Romance'], ['Horror', 'Thriller'], ['Romance', 'Action', 'Adventure', 'Western', 'Drama'], ['Family', 'Animation'], ['Action', 'Adventure', 'Fantasy', 'Horror', 'ScienceFiction', 'Thriller'], ['Comedy', 'Drama'], ['Comedy', 'Family'], ['Fantasy', 'Drama', 'Comedy', 'Thriller'], ['Mystery', 'Adventure', 'Crime'], ['Drama', 'Western', 'Crime'], ['Action', 'Drama', 'Fantasy', 'Horror', 'Thriller'], ['Drama', 'Horror', 'Thriller'], ['Romance', 'Comedy'], ['Drama', 'Romance'], ['Comedy', 'Drama', 'Romance'], ['Comedy'], ['Adventure', 'Drama', 'Fantasy', 'Romance'], ['Comedy', 'Drama', 'Family'], ['Drama'], ['Adventure', 'Drama'], ['Comedy', 'Drama', 'Romance'], ['Thriller', 'Horror', 'Mystery'], ['Horror', 'Action', 'Thriller', 'Crime'], ['Animation', 'Family'], ['Comedy', 'Drama', 'Romance'], ['Action', 'Comedy', 'Crime', 'Fantasy'], ['Adventure', 'Comedy', 'Family'], ['Drama'], ['Drama', 'Crime', 'Thriller'], ['Action', 'Drama', 'Thriller'], ['Comedy', 'Romance'], ['Drama', 'Comedy', 'Romance', 'Family'], ['Documentary'], ['Drama', 'History'], ['Crime', 'Drama', 'Mystery'], ['Action', 'Comedy'], ['Action', 'Crime', 'Drama', 'Thriller'], ['Comedy', 'Thriller', 'Crime', 'Action'], ['Comedy', 'Romance'], ['Action', 'Thriller', 'ScienceFiction'], ['Comedy'], ['Action', 'Thriller', 'Crime'], ['Action', 'Comedy', 'Thriller'], ['Drama'], ['Drama', 'Action', 'Thriller', 'Romance'], ['Comedy', 'Drama'], ['Action', 'Adventure', 'Drama', 'Thriller'], ['Comedy', 'Fantasy', 'Romance'], ['Action', 'Adventure', 'Drama', 'Thriller'], ['Drama', 'Horror', 'Mystery'], ['Adventure', 'Action', 'Comedy', 'Family'], ['Drama', 'Comedy'], ['Comedy', 'Drama'], ['Action', 'Thriller'], ['Comedy', 'Drama'], ['Comedy', 'Romance'], ['Drama'], ['Comedy', 'Crime', 'Drama'], ['Music', 'Comedy', 'Romance'], ['Action', 'Crime', 'Drama', 'Thriller'], ['Drama'], ['Comedy', 'Family'], ['Action', 'Comedy', 'Crime'], ['Action', 'Comedy', 'Crime'], ['Comedy'], ['Comedy', 'Drama', 'Music', 'Romance'], ['Comedy', 'Romance', 'Crime', 'Drama', 'Mystery'], ['Family'], ['Music', 'Drama'], ['Comedy', 'Fantasy'], ['Action', 'Crime', 'Thriller'], ['Horror'], ['Comedy'], ['Comedy', 'Drama', 'Music'], ['Comedy', 'Drama', 'War'], ['Drama', 'Thriller'], ['Animation', 'ScienceFiction', 'Thriller'], ['Drama'], ['Action', 'Fantasy', 'Horror', 'Thriller'], ['Comedy', 'Drama', 'Family', 'Music'], ['Drama', 'Mystery', 'Thriller'], ['Crime', 'Drama', 'Thriller'], ['Drama', 'Romance', 'War', 'History'], ['Drama'], ['Drama', 'Music'], ['Action', 'Thriller'], ['Adventure', 'Comedy', 'Drama', 'Romance'], ['Drama'], ['Adventure', 'Fantasy', 'Animation'], ['Comedy', 'Drama', 'Foreign'], ['Comedy', 'Music'], ['Action', 'Adventure', 'Crime', 'Drama', 'Thriller', 'Western'], ['Drama'], ['Comedy'], ['Action', 'ScienceFiction', 'Thriller'], ['Drama', 'War'], ['Drama', 'Action', 'Thriller', 'Crime'], ['Family'], ['Drama', 'Romance'], ['Animation', 'Fantasy', 'ScienceFiction'], ['Drama'], ['Drama', 'Mystery', 'Thriller', 'Crime', 'Romance'], ['Adventure'], ['Comedy', 'Drama', 'Family', 'Fantasy', 'ScienceFiction'], ['Comedy', 'Fantasy'], ['Action', 'Comedy', 'Horror', 'Mystery', 'ScienceFiction', 'Thriller'], ['Drama', 'Thriller'], ['Drama', 'Fantasy'], ['Horror', 'Mystery', 'Thriller'], ['Action', 'History', 'Drama'], ['Crime', 'Drama', 'Thriller'], ['Comedy', 'Animation', 'Adventure', 'Family'], ['Drama', 'History'], ['Animation'], ['Drama'], ['Thriller'], ['Thriller', 'Crime'], ['Drama', 'Romance'], ['Action', 'Crime', 'Drama', 'History', 'Thriller'], ['Adventure', 'Drama', 'Western'], ['Comedy'], ['Drama', 'Crime', 'Mystery'], ['Comedy'], ['Crime', 'Horror', 'Mystery'], ['Horror', 'Thriller'], ['Horror', 'Thriller'], ['Adventure', 'Comedy', 'ScienceFiction', 'Family'], ['Horror', 'Mystery', 'Thriller'], ['Drama', 'Comedy'], ['Action', 'Drama'], ['Comedy', 'Romance', 'Drama'], ['Comedy'], ['Drama', 'Action', 'Thriller', 'Crime', 'War'], ['Animation', 'Drama', 'Family', 'ScienceFiction'], ['Mystery', 'Horror', 'Action'], ['Fantasy', 'Adventure', 'Animation', 'Family'], ['Action', 'Crime'], ['Action', 'Drama', 'History'], ['Drama'], ['Comedy', 'Adventure', 'Romance'], ['Romance', 'Comedy'], ['Drama', 'History'], ['Comedy', 'Drama', 'Romance'], ['Drama'], ['Family', 'Fantasy', 'Music'], ['Thriller', 'Drama', 'Music', 'Crime'], ['Drama'], ['Horror', 'Thriller', 'Drama'], ['Comedy', 'Crime', 'Drama'], ['Horror'], ['Action'], ['Adventure', 'Drama', 'Comedy'], ['Comedy', 'Romance', 'Fantasy'], ['Comedy'], ['Romance', 'Comedy', 'Crime', 'Fantasy'], ['Fantasy', 'Drama', 'Comedy', 'Romance', 'Family'], ['Comedy'], ['Comedy'], ['ScienceFiction', 'Action', 'Adventure', 'Thriller'], ['Crime', 'Drama', 'Horror', 'Thriller'], ['Comedy'], ['Thriller', 'Action', 'ScienceFiction'], ['Comedy', 'Drama', 'Romance'], ['Comedy', 'Drama'], ['Drama', 'Comedy', 'Crime'], ['ScienceFiction', 'Comedy', 'Crime'], ['Romance', 'Comedy', 'Family'], ['Family', 'Comedy'], ['ScienceFiction', 'Action', 'Adventure', 'Thriller'], ['Drama', 'History', 'Music'], ['Crime', 'Horror'], ['Comedy'], ['Comedy', 'Drama', 'Romance'], ['Drama', 'Mystery', 'Thriller'], ['Comedy', 'Drama', 'Fantasy', 'Romance'], ['Drama', 'Comedy'], ['Comedy', 'Drama'], ['Drama', 'History', 'Crime', 'Thriller', 'Action'], ['Romance', 'Music', 'Family'], ['Action', 'Comedy'], ['Horror'], ['Action', 'Drama'], ['War', 'Comedy', 'Drama'], ['Comedy', 'Crime', 'Drama'], ['Adventure', 'Fantasy', 'Action'], ['Drama'], ['Drama', 'Romance'], ['Action', 'Adventure', 'Crime', 'Drama', 'Family', 'Mystery', 'Thriller'], ['Music', 'Comedy', 'Drama', 'Romance'], ['Adventure', 'Drama', 'Thriller'], ['Action', 'Comedy', 'Crime'], ['Drama', 'Music'], ['Comedy', 'Family'], ['Family', 'Action', 'Adventure'], ['Drama'], ['Drama', 'History'], ['Comedy', 'Romance'], ['Drama', 'Comedy', 'Romance'], ['Action', 'Adventure', 'Romance', 'Western'], ['Drama', 'Thriller'], ['Drama', 'Mystery', 'Thriller'], ['Action', 'Crime'], ['Drama'], ['Comedy', 'Drama', 'Romance'], ['Adventure', 'Comedy', 'Family'], ['Comedy', 'Drama', 'Romance'], ['Drama', 'Romance'], ['Fantasy'], ['Drama', 'Romance'], ['Comedy', 'Drama', 'History'], ['Drama'], ['History'], ['Action', 'Crime', 'Thriller'], ['Adventure', 'Action', 'ScienceFiction'], ['Drama'], ['Drama', 'Romance'], ['Adventure', 'Drama', 'ScienceFiction'], ['Comedy', 'Romance'], ['Drama', 'History'], ['Crime', 'Drama', 'Mystery'], ['Horror'], ['Romance', 'ScienceFiction', 'Horror', 'Action', 'Crime'], ['Drama', 'Mystery', 'Thriller'], ['Music'], ['Drama'], ['Crime', 'Drama', 'Thriller', 'History'], ['Thriller', 'Drama'], ['Western', 'Action', 'Drama', 'History'], ['Horror', 'ScienceFiction'], ['Action', 'Crime', 'Drama', 'Thriller'], ['Action', 'Animation', 'ScienceFiction'], ['Adventure', 'Fantasy', 'Action'], ['Thriller'], ['Comedy'], ['Comedy', 'Crime', 'Drama'], ['Horror', 'Action'], ['Music', 'Drama', 'Romance'], ['Animation', 'Comedy', 'Family'], ['Drama', 'History', 'War'], ['Action', 'Crime', 'Drama', 'Thriller'], ['Drama', 'Music'], ['Thriller', 'Action'], ['Thriller'], ['Horror', 'Drama', 'Mystery', 'Thriller'], ['Horror', 'Action', 'Thriller', 'ScienceFiction'], ['Drama', 'Family', 'Music', 'Romance'], ['Horror', 'Thriller', 'Mystery'], ['Comedy'], ['Comedy', 'Drama', 'Romance'], ['Comedy'], ['Horror', 'Thriller'], ['Comedy', 'Family', 'ScienceFiction'], ['Comedy'], ['Action', 'Comedy', 'Crime', 'Thriller'], ['Horror', 'Crime'], ['Comedy', 'Romance'], ['Comedy'], ['Drama', 'Fantasy', 'Romance'], ['Horror', 'Thriller'], ['Comedy'], ['Drama'], ['Comedy'], ['Drama'], ['Comedy', 'Music', 'Romance'], ['Drama', 'Comedy', 'Romance'], ['Drama', 'Crime', 'Thriller'], ['Horror', 'Thriller'], ['Comedy'], ['Family'], ['Crime', 'Drama', 'Thriller'], ['Action', 'Drama', 'History'], ['Horror'], ['Comedy', 'Romance'], ['Comedy', 'Drama', 'Family'], ['Action', 'Adventure', 'ScienceFiction'], ['Drama'], ['Action', 'Crime', 'Drama', 'Thriller'], ['Drama'], ['Adventure'], ['Fantasy', 'Drama', 'Thriller', 'Romance'], ['Adventure', 'Thriller'], ['Drama', 'Crime', 'Thriller'], ['Thriller', 'Romance'], ['Action', 'Adventure', 'Comedy', 'Drama', 'ScienceFiction', 'Thriller'], ['Animation', 'Family'], ['Action', 'Adventure', 'ScienceFiction'], ['Horror', 'Thriller'], ['Comedy', 'Drama', 'Family'], ['Drama', 'Mystery', 'Romance'], ['Crime', 'Drama'], ['Drama', 'Romance'], ['Drama', 'Romance'], ['Comedy'], ['Drama'], ['Drama'], ['Comedy'], ['Comedy', 'Romance', 'Drama'], ['Drama'], ['Comedy', 'Adventure'], ['Comedy', 'Drama', 'Romance'], ['Drama', 'Comedy', 'Romance'], ['Horror', 'Thriller', 'Mystery'], ['Comedy', 'Drama', 'Romance'], ['Horror'], ['Drama'], ['Comedy', 'Family'], ['Fantasy', 'Drama', 'War'], ['Action', 'Comedy', 'Family'], ['Crime', 'Drama', 'Romance'], ['Thriller', 'Drama', 'Horror'], ['Mystery', 'Adventure', 'Comedy', 'Romance', 'Drama'], ['Thriller', 'Action', 'Crime', 'Drama'], ['Crime', 'Action', 'Comedy'], ['Comedy', 'Drama', 'Romance'], ['Drama', 'Romance'], ['Action', 'Adventure', 'Drama', 'Romance'], ['Comedy', 'Drama', 'Romance'], ['Drama'], ['Comedy', 'Horror'], ['Comedy', 'Crime', 'Mystery'], ['Comedy', 'Drama'], ['Drama', 'Romance'], ['Drama', 'Comedy', 'Romance'], ['Comedy', 'ScienceFiction'], ['Drama'], ['Thriller', 'ScienceFiction', 'Mystery'], ['Comedy', 'Drama'], ['Action', 'ScienceFiction', 'Thriller'], ['Comedy', 'Drama', 'Music'], ['Comedy', 'Drama'], ['Comedy', 'Music'], ['Adventure', 'Action', 'Fantasy'], ['Drama'], ['ScienceFiction', 'Action', 'Adventure'], ['Drama', 'Romance'], ['Drama', 'History', 'Family', 'Romance'], ['Thriller', 'Crime', 'Drama', 'Mystery'], ['Romance', 'Comedy'], ['Comedy'], ['Drama'], ['Fantasy', 'Drama'], ['Comedy', 'Romance', 'Horror'], ['Drama', 'Family'], ['Crime', 'Drama', 'Thriller'], ['Western', 'Drama'], ['Comedy', 'Drama'], ['War', 'Drama'], ['Action', 'Adventure', 'Drama'], ['Mystery', 'Crime', 'Drama', 'Thriller'], ['Drama', 'Action', 'Comedy'], ['Comedy', 'Horror', 'ScienceFiction'], ['Action', 'Comedy', 'Crime'], ['Comedy', 'Family'], ['Family', 'Comedy', 'Drama'], ['Comedy', 'Romance'], ['Action', 'Romance', 'War'], ['Adventure', 'Drama', 'Action', 'Romance'], ['Drama'], ['Drama', 'History'], ['Comedy'], ['Drama', 'Romance'], ['Drama'], ['Action', 'Adventure', 'Drama', 'Thriller'], ['History', 'Drama', 'Thriller', 'War'], ['Comedy'], ['Drama', 'Music'], ['Comedy', 'Family'], ['Horror'], ['Comedy', 'Adventure', 'Romance'], ['Comedy'], ['Drama'], ['Fantasy', 'Comedy'], ['Comedy', 'Drama'], ['Drama', 'Romance'], ['Drama', 'Horror', 'Thriller'], ['Horror', 'Thriller'], ['Comedy', 'Family'], ['Drama', 'War'], ['Comedy', 'Drama'], ['Family', 'Comedy'], ['Thriller', 'Drama'], ['Horror', 'Comedy', 'Fantasy'], ['Horror', 'Mystery', 'ScienceFiction'], ['Drama', 'Music'], ['Action', 'Crime', 'Drama'], ['Comedy'], ['Crime', 'Drama', 'Thriller'], ['Crime', 'Drama', 'Thriller'], ['Drama', 'Romance'], ['Comedy', 'Crime'], ['Comedy', 'Drama', 'Romance'], ['Adventure', 'Drama', 'History', 'War'], ['Horror'], ['Drama'], ['Crime', 'Thriller', 'Horror', 'Drama'], ['Comedy', 'Romance'], ['Horror', 'Thriller'], ['Adventure', 'Family', 'Fantasy', 'Comedy', 'Romance'], ['Drama'], ['Drama', 'Action', 'Thriller', 'Crime'], ['Comedy'], ['Comedy', 'Drama', 'Romance'], ['Horror', 'Thriller', 'ScienceFiction'], ['Drama'], ['Comedy', 'Drama', 'Family'], ['Action', 'Comedy', 'Drama', 'Romance'], ['Action', 'Comedy', 'Thriller', 'Romance'], ['Comedy'], ['Mystery', 'Thriller', 'Horror'], ['Drama', 'Fantasy', 'Horror', 'Thriller'], ['Drama', 'Thriller', 'Crime', 'Romance'], ['Comedy', 'Family'], ['Drama', 'Romance'], ['Drama'], ['Action', 'Adventure', 'Drama', 'Thriller'], ['Drama'], ['Horror', 'Thriller'], ['Horror'], ['Fantasy', 'Drama', 'ScienceFiction', 'Romance', 'Family'], ['Action', 'Adventure', 'Drama', 'Thriller'], ['Action', 'Comedy'], ['Drama', 'Romance'], ['Mystery', 'Horror', 'ScienceFiction'], ['Drama', 'Crime'], ['Crime', 'Action', 'Thriller'], ['Drama', 'Mystery', 'Thriller'], ['Drama', 'Thriller', 'War'], ['Fantasy', 'Drama', 'Horror', 'Action', 'Thriller'], ['Crime', 'Thriller'], ['Thriller'], ['Comedy'], ['Adventure', 'Animation', 'Comedy', 'ScienceFiction', 'Family'], ['Music', 'Documentary'], ['Action', 'Fantasy', 'ScienceFiction'], ['Crime', 'Drama', 'Music'], ['Drama', 'Romance'], ['Drama'], ['Crime', 'Thriller'], ['Action', 'Comedy', 'Thriller', 'Crime'], ['Fantasy', 'Comedy'], ['Drama', 'Music'], ['Comedy', 'Drama', 'Romance'], ['Family'], ['Action'], ['Drama', 'Comedy', 'Romance'], ['Romance'], ['Comedy', 'ScienceFiction'], ['Music', 'Drama', 'Romance'], ['Comedy', 'Crime'], ['Drama'], ['Action', 'Crime', 'Drama', 'Thriller'], ['Drama', 'Thriller'], ['Drama', 'Comedy', 'Romance'], ['Comedy'], ['Comedy', 'Drama', 'History', 'Romance'], ['Comedy', 'Drama', 'Fantasy', 'Romance'], ['Drama', 'Family'], ['Comedy', 'Drama', 'Crime'], ['Comedy'], ['Comedy', 'Music'], ['Comedy'], ['Drama'], ['Comedy', 'Romance'], ['Thriller'], ['Adventure', 'Crime', 'Drama', 'Mystery', 'Western'], ['Comedy', 'Drama', 'History'], ['Action', 'Comedy', 'Crime', 'Mystery'], ['Thriller', 'Comedy', 'Horror'], ['Thriller', 'Drama', 'Mystery'], ['Drama', 'Fantasy', 'Horror', 'Romance'], ['Comedy', 'Drama', 'Romance'], ['Drama', 'Romance', 'ScienceFiction'], ['Drama'], ['Thriller', 'Crime', 'Mystery'], ['Adventure', 'Drama'], ['Comedy', 'Drama'], ['Horror', 'Thriller', 'Crime'], ['Drama', 'Thriller', 'ScienceFiction'], ['Drama'], ['Drama', 'ScienceFiction'], ['Action', 'Thriller', 'ScienceFiction'], ['Drama', 'Crime'], ['Action', 'Drama', 'History'], ['Drama', 'Comedy', 'War', 'Crime', 'Thriller'], ['Thriller', 'Drama', 'Mystery'], ['Adventure', 'Action', 'Thriller'], ['Adventure', 'Action', 'Drama'], ['Drama', 'Action', 'Thriller'], ['Mystery', 'Drama', 'Crime', 'Thriller', 'Horror'], ['Drama'], ['Drama', 'Thriller', 'Crime'], ['Action', 'Comedy', 'Drama', 'History'], ['Comedy', 'Drama', 'Romance', 'Fantasy', 'Music'], ['Drama', 'Fantasy'], ['Animation', 'Adventure', 'Family'], ['Thriller', 'ScienceFiction'], ['Action', 'Adventure', 'Fantasy'], ['Drama', 'Action', 'Thriller', 'Crime'], ['Drama', 'Foreign'], ['Romance', 'Fantasy', 'Drama', 'Comedy'], ['Comedy', 'Drama', 'Music'], ['Drama', 'Romance'], ['Drama', 'War'], ['Drama'], ['Western'], ['Drama'], ['Drama', 'Romance'], ['Drama', 'Romance', 'Thriller'], ['Romance', 'Comedy'], ['Adventure', 'Comedy'], ['Thriller', 'Mystery', 'Drama', 'Crime'], ['Drama', 'War'], ['Comedy'], ['Mystery', 'Horror'], ['Drama', 'Music'], ['Adventure', 'Action', 'Thriller'], ['Horror', 'Thriller'], ['Comedy', 'Drama', 'Romance'], ['Action', 'Adventure', 'Drama', 'Family'], ['Comedy', 'Family'], ['History', 'Drama'], ['Action', 'Adventure', 'Animation', 'Comedy', 'Family', 'Fantasy', 'Romance'], ['Drama', 'Romance'], ['Action', 'Adventure', 'Comedy'], ['Comedy', 'Horror', 'Romance'], ['Horror', 'Thriller', 'Fantasy'], ['Horror', 'Thriller'], ['Comedy', 'Romance'], ['Thriller', 'Mystery', 'Adventure'], ['Comedy'], ['Comedy'], ['Comedy', 'Drama', 'War'], ['Horror', 'Thriller'], ['Drama', 'Music', 'Romance'], ['Comedy', 'Drama'], ['Comedy', 'Romance'], ['Horror', 'ScienceFiction'], ['History', 'Drama'], ['Comedy', 'Romance'], ['Comedy'], ['Drama'], ['Romance', 'Drama'], ['Drama', 'Mystery', 'Thriller'], ['Drama', 'Romance'], ['Action', 'Drama', 'Thriller'], ['Horror', 'Mystery', 'Thriller'], ['Drama', 'Romance'], ['Comedy', 'Romance'], ['Action', 'Adventure', 'Drama', 'Romance'], ['History', 'Drama'], ['Drama', 'Romance'], ['Drama', 'History'], ['History', 'Action'], ['Comedy', 'Drama', 'History'], ['Drama'], ['Comedy', 'Horror'], ['Romance', 'Drama'], ['Drama', 'Romance'], ['Comedy', 'Drama', 'Romance'], ['Drama', 'Romance'], ['Comedy'], ['Drama'], ['Comedy', 'Crime'], ['Drama', 'Mystery', 'Thriller'], ['Drama', 'History', 'War'], ['Drama'], ['Thriller', 'ScienceFiction', 'Drama'], ['Comedy', 'Drama', 'War'], ['Action', 'Comedy', 'Thriller'], ['Documentary', 'Music', 'Family'], ['Drama', 'Thriller'], ['Drama', 'Crime'], ['Drama', 'Family', 'Romance', 'Music'], ['Horror', 'Thriller'], ['Drama'], ['Comedy'], ['Crime', 'Action', 'Adventure', 'Drama', 'Western'], ['Comedy'], ['Comedy', 'Romance'], ['Comedy', 'Romance', 'Drama'], ['Comedy', 'Family'], ['Comedy'], ['Horror', 'Drama', 'Thriller'], ['ScienceFiction', 'Thriller'], ['Comedy', 'Family'], ['Comedy', 'Drama'], ['ScienceFiction', 'Comedy', 'Family'], ['Action', 'Adventure', 'Comedy', 'Thriller'], ['Comedy', 'Drama', 'Family'], ['Drama', 'Horror'], ['Crime', 'Thriller'], ['ScienceFiction', 'Horror', 'Thriller'], ['Drama', 'ScienceFiction'], ['Fantasy', 'Drama', 'Comedy'], ['Comedy', 'Romance'], ['Family', 'Adventure', 'ScienceFiction'], ['Drama', 'Romance'], ['Action', 'Adventure', 'Drama', 'War'], ['Adventure', 'Comedy', 'Drama', 'ScienceFiction'], ['Comedy', 'Romance'], ['Drama', 'Thriller'], ['Comedy'], ['Comedy', 'Crime', 'Horror', 'Thriller'], ['Comedy'], ['Drama', 'Thriller'], ['Music', 'Drama'], ['Adventure', 'Comedy', 'Drama', 'Romance'], ['Comedy', 'Crime', 'Thriller'], ['Comedy'], ['Drama', 'Romance'], ['Drama'], ['Comedy', 'Drama', 'Romance'], ['Romance', 'Drama'], ['Drama', 'Thriller', 'Mystery'], ['Comedy', 'Crime', 'Drama'], ['Drama', 'Action', 'Comedy', 'Crime'], ['Drama', 'Romance'], ['Action'], ['Drama'], ['Drama', 'Romance', 'Western'], ['Thriller', 'Horror'], ['Action', 'Comedy', 'ScienceFiction'], ['Drama', 'Romance', 'War'], ['Crime', 'Thriller'], ['History', 'Drama', 'War', 'Action'], ['Family', 'Action', 'Adventure'], ['Comedy', 'Drama', 'Romance'], ['Adventure', 'Drama'], ['Drama', 'Romance'], ['Drama', 'Romance'], ['Action', 'Thriller', 'Crime', 'Romance'], ['Romance', 'ScienceFiction'], ['Crime', 'Drama', 'Mystery'], ['Crime', 'Drama', 'Thriller'], ['Drama', 'Fantasy', 'Horror', 'Thriller'], ['Horror', 'Mystery', 'Thriller'], ['Adventure', 'Drama', 'Romance'], ['Comedy', 'Romance', 'Drama'], ['War', 'Drama'], ['Drama', 'Crime', 'Music'], ['Drama', 'Romance'], ['Crime', 'Drama'], ['Comedy', 'Drama', 'Romance'], ['Action', 'Comedy', 'Thriller'], ['Crime', 'Comedy', 'Drama'], ['Animation', 'Adventure', 'Family'], ['Action', 'Adventure', 'Drama', 'History', 'War'], ['Drama', 'Family'], ['Drama', 'Horror', 'Thriller'], ['Horror', 'Thriller', 'Adventure'], ['Comedy', 'Romance'], ['Animation', 'Comedy', 'Drama', 'Family'], ['Action', 'Adventure', 'Comedy'], ['Comedy', 'Romance'], ['Comedy', 'Drama'], ['Action', 'Adventure', 'ScienceFiction', 'Thriller'], ['Comedy', 'Mystery'], ['Thriller', 'ScienceFiction'], ['Crime', 'Drama', 'Romance', 'Thriller'], ['Action', 'Thriller', 'War'], ['Music', 'Drama', 'Romance', 'Crime'], ['Animation', 'Comedy'], ['Comedy', 'Crime', 'Romance'], ['Comedy', 'Adventure'], ['ScienceFiction', 'Drama', 'Thriller'], ['Music', 'Drama', 'Romance'], ['Family', 'Fantasy', 'ScienceFiction', 'Adventure', 'Comedy'], ['Action', 'Adventure', 'Comedy', 'Drama', 'Family', 'Music', 'Romance'], ['Comedy', 'Crime'], ['Drama', 'History', 'War'], ['Horror', 'Thriller'], ['Horror', 'ScienceFiction', 'Thriller'], ['Drama', 'Horror', 'Thriller'], ['Comedy', 'Family'], ['Comedy'], ['Comedy', 'Family', 'Fantasy', 'Drama'], ['Drama', 'Romance'], ['Documentary', 'Music'], ['Romance', 'Drama'], ['Drama', 'Crime'], ['Drama', 'Comedy'], ['Horror', 'ScienceFiction'], ['Horror', 'Mystery', 'Thriller'], ['Drama'], ['Comedy', 'Drama'], ['Horror', 'Drama', 'Thriller', 'ScienceFiction'], ['Fantasy', 'Romance', 'Family', 'Comedy'], ['Drama', 'Mystery', 'Romance'], ['Comedy'], ['Drama', 'Adventure'], ['Horror', 'Comedy', 'Thriller'], ['Comedy', 'Family', 'Fantasy', 'ScienceFiction'], ['Comedy', 'Drama'], ['Action', 'Thriller', 'Crime'], ['Comedy', 'Romance'], ['Comedy', 'Drama', 'Romance'], ['Comedy', 'Drama', 'Romance'], ['Drama'], ['Romance', 'Crime', 'Drama'], ['Drama', 'Romance'], ['Action', 'Drama', 'History', 'War', 'Adventure'], ['Comedy'], ['Comedy', 'Drama', 'ScienceFiction'], ['Adventure', 'Drama', 'Action', 'Romance'], ['Drama', 'Thriller'], ['ScienceFiction', 'Thriller'], ['Drama', 'History', 'Music'], ['Action', 'Comedy'], ['Action', 'Thriller', 'ScienceFiction'], ['Comedy', 'Drama'], ['Drama', 'Comedy'], ['Drama', 'Comedy'], ['Comedy', 'Romance'], ['Comedy'], ['Mystery', 'Thriller'], ['Drama', 'Romance'], ['Comedy', 'Drama'], ['Adventure', 'Crime', 'Thriller'], ['Comedy', 'Horror', 'Thriller', 'Western'], ['Comedy', 'Drama'], ['Comedy', 'Drama'], ['Comedy', 'Drama'], ['Drama', 'Horror', 'Thriller'], ['Fantasy', 'Drama', 'ScienceFiction', 'Romance'], ['Crime', 'Drama', 'Romance'], ['Adventure', 'Drama', 'Family'], ['Drama', 'Romance'], ['Crime', 'Drama', 'Thriller'], ['Comedy'], ['Comedy', 'Drama'], ['Thriller', 'Drama', 'Mystery'], ['Drama', 'Romance'], ['Drama', 'Thriller'], ['War', 'Drama'], ['Comedy'], ['Comedy', 'Drama', 'Thriller'], ['Thriller', 'ScienceFiction', 'Mystery'], ['Drama', 'History', 'War'], ['Animation', 'Family', 'Action', 'Adventure', 'Comedy'], ['ScienceFiction'], ['War', 'Drama'], ['Horror'], ['Drama'], ['Drama'], ['Thriller', 'Crime'], ['Drama', 'Romance'], ['Drama', 'Horror'], ['Drama'], ['Drama'], ['Drama', 'History', 'Romance'], ['Fantasy', 'Horror', 'Comedy'], ['Adventure', 'Action', 'ScienceFiction'], ['Comedy'], ['Drama', 'Romance', 'War'], ['Adventure', 'Crime', 'Drama', 'Thriller'], ['Comedy', 'Drama', 'Family', 'Music', 'Romance'], ['Drama'], ['Action', 'Comedy', 'Documentary'], ['Comedy', 'Drama'], ['Drama'], ['Action', 'Comedy', 'Crime'], ['Comedy'], ['Comedy', 'Family', 'ScienceFiction'], ['Thriller', 'Drama'], ['Drama', 'Romance'], ['Drama'], ['Drama', 'Romance', 'Thriller'], ['Horror', 'Mystery'], ['Comedy'], ['Adventure'], ['Action', 'Comedy', 'Crime'], ['Drama', 'Horror', 'Thriller', 'Crime'], ['Drama', 'Action'], ['ScienceFiction'], ['Drama', 'Romance'], ['Drama', 'Romance', 'War'], ['Comedy'], ['Comedy'], ['Drama', 'Comedy', 'Romance'], ['Comedy', 'Romance'], ['Drama', 'Thriller', 'Crime'], ['Drama'], ['Drama'], ['Fantasy', 'Horror', 'Comedy'], ['Comedy', 'Romance'], ['Romance', 'Drama'], ['Drama', 'History'], ['Crime', 'Drama'], ['Comedy', 'Romance'], ['Comedy', 'Drama', 'Romance'], ['Drama', 'Music'], ['Drama', 'Romance', 'Thriller'], ['Drama', 'Adventure', 'Romance'], ['Drama', 'History'], ['Comedy', 'Music', 'Romance'], ['Drama'], ['Drama', 'Thriller', 'Crime'], ['Horror', 'Thriller', 'Crime'], ['Drama', 'Action', 'Thriller', 'Crime', 'Foreign'], ['Drama', 'Comedy', 'Romance'], ['Crime', 'Drama', 'Mystery', 'Thriller'], ['Drama', 'Romance'], ['Drama', 'Comedy', 'Romance'], ['ScienceFiction', 'Thriller', 'Horror'], ['Horror'], ['ScienceFiction', 'Mystery', 'Adventure'], ['ScienceFiction', 'Adventure', 'Family', 'Fantasy'], ['Romance', 'Comedy', 'Drama'], ['Adventure', 'Drama', 'Family'], ['Drama', 'Comedy'], ['Drama', 'Comedy', 'Romance', 'Foreign'], ['Drama', 'Action', 'History', 'Western', 'Romance'], ['History', 'Drama'], ['Comedy', 'Drama', 'Music'], ['Drama'], ['Drama', 'Thriller'], ['Horror', 'Thriller', 'Crime'], ['Action', 'Comedy'], ['Comedy'], ['Action', 'Horror', 'Thriller'], ['Comedy', 'Romance'], ['Horror', 'Thriller', 'Crime'], ['Drama', 'Horror', 'Thriller'], ['Drama', 'Comedy', 'Romance'], ['Drama'], ['Action', 'Drama', 'History', 'War'], ['Comedy', 'Family'], ['Horror', 'Mystery', 'Thriller'], ['Comedy'], ['Horror', 'Thriller'], ['Adventure', 'Comedy', 'ScienceFiction'], ['Drama', 'Family', 'Music'], ['Drama', 'Comedy'], ['ScienceFiction', 'Animation', 'Comedy', 'Family'], ['Action', 'Adventure', 'ScienceFiction'], ['Action', 'Adventure', 'Thriller'], ['Horror', 'Mystery', 'Thriller'], ['Horror', 'Mystery', 'Thriller'], ['Comedy'], ['Drama', 'Horror', 'Thriller'], ['Action', 'Adventure', 'Comedy'], ['Horror', 'Thriller', 'ScienceFiction'], ['Comedy', 'Music', 'Romance'], ['Fantasy', 'Comedy', 'Adventure'], ['Comedy', 'Drama'], ['Drama', 'Fantasy', 'Horror', 'ScienceFiction', 'Thriller'], ['Action', 'Thriller'], ['Action', 'Comedy', 'Crime'], ['Drama', 'Thriller'], ['Comedy', 'Romance'], ['Comedy', 'Drama', 'Romance'], ['Crime', 'Drama'], ['Adventure', 'Family', 'Fantasy'], ['Horror', 'ScienceFiction', 'Thriller'], ['Horror'], ['Drama', 'Music'], ['Horror', 'Thriller'], ['Mystery', 'ScienceFiction', 'Thriller'], ['Drama', 'Comedy', 'Music'], ['Drama', 'Action', 'Thriller'], ['Action', 'Thriller'], ['Comedy', 'Drama', 'Family'], ['Comedy', 'Drama'], ['ScienceFiction'], ['Drama', 'Comedy'], ['Comedy', 'Drama', 'Family'], ['Comedy', 'Drama', 'Family', 'Romance'], ['Drama', 'Romance'], ['Action', 'Comedy'], ['Action', 'Horror'], ['Horror', 'Thriller'], ['Western', 'History'], ['Action', 'Crime', 'Mystery', 'Thriller'], ['Drama'], ['Action', 'Adventure', 'Comedy', 'Crime'], ['Documentary', 'Music'], ['Comedy'], ['Animation', 'Family'], ['Drama'], ['Action', 'Comedy', 'Crime', 'Drama', 'Thriller'], ['Comedy', 'Drama', 'Romance'], ['Thriller', 'Mystery'], ['Adventure', 'Drama'], ['Comedy', 'Romance'], ['Comedy', 'Crime'], ['Comedy'], ['Drama'], ['Comedy', 'Crime', 'Thriller'], ['Comedy', 'Family'], ['Crime', 'Mystery', 'Horror', 'Thriller'], ['Action', 'Adventure', 'Comedy'], ['Crime', 'Drama', 'Thriller'], ['Comedy'], ['Comedy'], ['Comedy', 'Drama', 'Romance', 'ScienceFiction'], ['Comedy'], ['Drama'], ['Horror', 'Thriller'], ['Animation', 'Drama', 'Family', 'Music'], ['Drama', 'Thriller', 'Mystery', 'Music', 'Romance'], ['Drama'], ['Action', 'Crime', 'Drama', 'Romance'], ['Comedy'], ['Comedy', 'Romance'], ['Comedy', 'Romance', 'Family'], ['Drama'], ['Comedy', 'Family', 'Romance'], ['Adventure', 'Drama', 'War'], ['Comedy', 'Drama', 'Music'], ['Drama', 'Comedy'], ['Drama', 'Romance'], ['Drama', 'ScienceFiction', 'Mystery'], ['Action', 'Crime', 'Drama', 'Thriller'], ['Action', 'Crime', 'Drama', 'Mystery', 'Thriller'], ['Drama'], ['Drama', 'Romance'], ['Action', 'Thriller'], ['Drama', 'Romance'], ['Comedy'], ['Comedy', 'Drama'], ['Horror', 'Thriller'], ['Adventure', 'Mystery', 'Thriller'], ['Comedy', 'Drama', 'Mystery'], ['Drama'], ['Drama', 'Mystery', 'Thriller'], ['Action', 'Comedy', 'Romance', 'Thriller'], ['Adventure', 'Drama', 'Action', 'Family'], ['Thriller', 'Crime', 'Drama'], ['Action', 'ScienceFiction'], ['Thriller', 'Comedy', 'Crime'], ['Crime', 'Drama', 'Thriller'], ['Comedy', 'Drama'], ['Crime', 'Drama', 'Thriller'], ['Comedy'], ['Drama', 'Romance'], ['Drama'], ['Comedy', 'Romance'], ['Action', 'Adventure', 'Comedy', 'Thriller'], ['Action', 'Comedy'], ['Drama'], ['Comedy', 'Crime', 'Thriller'], ['Drama'], ['Drama'], ['Drama', 'Thriller'], ['Comedy', 'Drama'], ['Action', 'Crime', 'Comedy'], ['Comedy', 'Romance'], ['Horror', 'Comedy', 'Thriller'], ['Drama', 'Thriller'], ['Drama'], ['Comedy', 'Crime'], ['Drama', 'Crime'], ['War', 'History', 'Drama'], ['Comedy', 'Family', 'Romance'], ['Comedy'], ['Comedy', 'Drama', 'Romance'], ['Comedy', 'Romance'], ['Comedy', 'Drama'], ['Drama', 'Family'], ['Drama', 'Thriller'], ['Comedy'], ['Comedy', 'Romance'], ['Crime', 'Mystery', 'Thriller'], ['Drama', 'Horror', 'Thriller'], ['Comedy', 'Drama'], ['Thriller', 'Drama', 'Horror', 'Fantasy'], ['Music', 'Drama'], ['Action', 'Thriller'], ['Family', 'Animation', 'Adventure'], ['Drama', 'War'], ['Drama', 'Romance', 'Comedy'], ['Comedy', 'Romance'], ['Action', 'Horror', 'Thriller', 'ScienceFiction'], ['Drama', 'Foreign', 'Romance'], ['Comedy'], ['Action', 'Adventure', 'Comedy', 'Western'], ['Horror', 'Thriller'], ['Drama', 'Action', 'Comedy', 'Western'], ['Comedy'], ['Drama', 'Romance'], ['Comedy'], ['Action'], ['Action', 'Thriller', 'Adventure'], ['Drama', 'Action', 'Comedy', 'Crime'], ['Drama', 'Romance'], ['Horror', 'Thriller'], ['Horror', 'ScienceFiction'], ['Action', 'Adventure', 'Comedy', 'Crime'], ['Comedy', 'Drama', 'Romance'], ['Animation', 'ScienceFiction'], ['Action', 'Comedy', 'Thriller'], ['Drama', 'War'], ['Action', 'Horror', 'Thriller'], ['Drama', 'Action', 'Romance'], ['Drama', 'ScienceFiction'], ['Drama', 'Comedy', 'Family'], ['Drama', 'Romance'], ['Horror', 'Action', 'Thriller', 'ScienceFiction'], ['Horror'], ['Drama', 'Music'], ['Drama', 'Romance'], ['Adventure', 'Action', 'Thriller'], ['Horror', 'Comedy', 'ScienceFiction'], ['Comedy', 'Drama', 'Romance'], ['Drama', 'Action', 'Crime'], ['Drama', 'Comedy'], ['Horror', 'Thriller'], ['Documentary'], ['Horror', 'Thriller'], ['Comedy', 'Drama', 'Family', 'Romance'], ['Comedy', 'Adventure'], ['Drama', 'Thriller'], ['Crime', 'Drama', 'Thriller'], ['Comedy'], ['Horror', 'Thriller'], ['Comedy', 'Romance'], ['War', 'Drama', 'History', 'Action', 'Romance'], ['Drama'], ['Comedy', 'Romance'], ['Action', 'Crime', 'Drama', 'Thriller'], ['Comedy', 'Drama'], ['Comedy'], ['Romance', 'Drama', 'Family'], ['Action', 'ScienceFiction', 'Comedy'], ['Drama'], ['Comedy', 'Drama', 'Romance'], ['Comedy', 'Music'], ['Drama', 'Music'], ['Horror', 'Mystery'], ['Documentary', 'Music', 'Family'], ['Drama', 'Foreign', 'History', 'War'], ['Horror', 'Thriller'], ['Comedy'], ['Comedy', 'Drama'], ['Drama'], ['Drama', 'Family', 'Foreign'], ['Crime', 'Drama', 'History', 'War'], ['Comedy', 'Romance'], ['Thriller', 'Mystery', 'Crime', 'Drama'], ['Drama', 'Romance'], ['Drama', 'Romance'], ['Adventure', 'Comedy'], ['Animation', 'ScienceFiction'], ['Thriller', 'Mystery', 'ScienceFiction'], ['Drama', 'History', 'War'], ['Drama'], ['Thriller', 'Crime', 'Mystery'], ['Action', 'Adventure', 'Animation', 'Fantasy', 'ScienceFiction'], ['Thriller', 'Action', 'Drama'], ['Horror', 'Comedy'], ['Drama', 'Music', 'Romance'], ['Drama', 'Music', 'Romance'], ['Comedy'], ['ScienceFiction'], ['Adventure', 'Family'], ['Comedy'], ['Drama'], ['Romance', 'Comedy'], ['Drama', 'Romance'], ['Horror', 'Drama', 'Thriller'], ['Action', 'Drama', 'History'], ['Drama', 'Romance'], ['Drama', 'Romance'], ['Action', 'Adventure', 'Drama'], ['Adventure', 'Drama', 'Thriller'], ['Drama', 'Foreign', 'Romance'], ['Drama', 'History', 'War'], ['Romance'], ['Drama', 'History', 'Romance'], ['Horror', 'Comedy', 'Music', 'ScienceFiction'], ['Adventure', 'Drama', 'Action'], ['Thriller', 'Crime'], ['Adventure', 'Comedy', 'Family'], ['Crime', 'Drama', 'Thriller'], ['Comedy', 'Horror'], ['Drama', 'Family', 'Music', 'Romance'], ['Comedy', 'Fantasy', 'Romance'], ['Comedy', 'Drama'], ['Crime', 'Drama'], ['Horror', 'Thriller', 'ScienceFiction'], ['Drama'], ['Crime', 'Drama'], ['Comedy', 'Romance'], ['Comedy', 'Thriller', 'Crime', 'Romance'], ['Comedy', 'Drama'], ['Horror', 'Mystery', 'Thriller'], ['Comedy', 'Romance'], ['Comedy'], ['Adventure'], ['Drama', 'Comedy', 'Romance'], ['Adventure', 'Action', 'Thriller'], ['Horror', 'Thriller', 'Mystery', 'Fantasy'], ['Drama', 'Comedy', 'Romance', 'Family'], ['Drama'], ['Comedy', 'Crime'], ['Comedy'], ['Thriller', 'Drama', 'Crime'], ['Drama', 'Comedy', 'Romance'], ['Action', 'Comedy', 'Crime'], ['Action', 'Thriller', 'Crime'], ['Drama'], ['Comedy', 'Drama', 'Romance'], ['Comedy'], ['Comedy', 'Drama', 'Romance'], ['Drama', 'Horror'], ['Comedy'], ['Comedy', 'Romance'], ['Comedy'], ['Comedy', 'Drama', 'Romance'], ['Drama', 'Romance'], ['Animation', 'Comedy', 'Drama', 'Romance'], ['Comedy', 'Drama'], ['Comedy', 'Thriller', 'Music', 'Crime', 'Mystery'], ['Action', 'Thriller'], ['Comedy', 'Crime', 'Drama', 'Thriller'], ['Comedy', 'Drama'], ['Comedy', 'Drama', 'History'], ['Drama'], ['Drama', 'Romance'], ['Drama', 'Adventure'], ['Animation', 'Family', 'Fantasy'], ['Comedy', 'Music', 'Romance', 'Drama'], ['Drama', 'Romance'], ['Drama', 'Action', 'Thriller'], ['TVMovie', 'Romance', 'Drama'], ['Comedy', 'Music', 'Mystery', 'Crime'], ['Drama', 'Romance', 'War'], ['Romance', 'Comedy', 'Drama', 'Horror'], ['Comedy', 'Drama', 'Romance'], ['Action', 'Comedy'], ['Crime', 'Horror', 'Thriller'], ['Drama'], ['Action', 'Crime', 'Drama', 'Mystery', 'Thriller'], ['Comedy', 'Crime', 'Drama', 'Romance'], ['Drama'], ['ScienceFiction', 'Animation'], ['Drama', 'Action', 'Thriller', 'Crime'], ['Drama'], ['Action', 'Drama', 'Thriller'], ['Comedy', 'Romance'], ['Drama', 'Comedy', 'Romance'], ['Drama'], ['Thriller', 'Crime'], ['Action', 'Drama'], ['Action', 'Adventure', 'ScienceFiction'], ['Action', 'Crime', 'Thriller'], ['Comedy', 'Drama'], ['Comedy', 'Drama'], ['Crime', 'Action', 'Comedy', 'Thriller'], ['Drama', 'War'], ['Comedy', 'Drama'], ['Horror'], ['Drama', 'Romance'], ['Comedy', 'Drama', 'Romance'], ['Comedy', 'Drama'], ['Action', 'Crime', 'Drama', 'Thriller'], ['Comedy'], ['Action', 'Adventure', 'Comedy', 'Crime'], ['Drama', 'Romance'], ['Comedy'], ['Drama', 'Music'], ['Drama', 'Thriller', 'Crime', 'Foreign'], ['Drama', 'Romance', 'ScienceFiction', 'Thriller'], ['Comedy'], ['Drama'], ['Drama', 'Action', 'Crime'], ['Family', 'Comedy', 'Romance'], ['Animation', 'Drama'], ['Thriller', 'Adventure', 'Fantasy'], ['Drama', 'Thriller'], ['Thriller', 'Horror'], ['Thriller', 'Crime', 'Drama', 'Action'], ['Horror', 'Thriller'], ['Comedy', 'Drama', 'Romance'], ['Action'], ['Adventure', 'Action', 'Thriller'], ['Drama', 'Crime'], ['Drama', 'Music', 'Romance'], ['Comedy', 'Drama', 'Romance'], ['Drama', 'Romance'], ['Drama', 'Comedy'], ['Thriller', 'Horror'], ['Adventure', 'Action', 'Thriller'], ['Comedy', 'Drama', 'Family'], ['Comedy', 'Romance'], ['Comedy'], ['Drama', 'History'], ['Crime', 'Drama'], ['Thriller', 'Action', 'Crime'], ['Adventure', 'Action', 'Romance', 'ScienceFiction'], ['Adventure', 'Action', 'Thriller'], ['Action', 'Adventure', 'Comedy', 'Crime', 'Drama'], ['Adventure', 'Horror'], ['Documentary'], ['Horror'], ['Comedy', 'Romance'], ['Drama', 'Horror', 'Crime'], ['Crime', 'Drama', 'Comedy'], ['Drama', 'Action', 'Thriller', 'Crime'], ['Horror'], ['Horror', 'Action', 'Thriller', 'ScienceFiction'], ['Comedy', 'Drama'], ['Comedy', 'Drama', 'Mystery'], ['Adventure', 'Comedy', 'Fantasy', 'Horror'], ['Romance', 'Drama'], ['Drama', 'Romance'], ['Drama'], ['Romance', 'Comedy', 'Drama'], ['Drama', 'Comedy', 'Music', 'Romance'], ['Adventure', 'Drama', 'Action', 'History'], ['Comedy'], ['Thriller', 'Action', 'Horror', 'ScienceFiction', 'Crime'], ['Action', 'Adventure', 'Drama', 'Family'], ['Drama', 'Romance'], ['Drama'], ['Comedy', 'Drama', 'Romance'], ['Drama', 'Family'], ['Drama', 'Crime'], ['Drama'], ['Drama', 'Thriller'], ['Drama', 'Family'], ['Action', 'Drama'], ['Comedy'], ['Drama', 'Romance'], ['Action', 'Adventure', 'Drama', 'War'], ['Fantasy', 'Comedy', 'ScienceFiction'], ['Comedy', 'Drama'], ['Comedy', 'Drama'], ['Comedy'], ['Drama'], ['Comedy', 'Crime', 'Drama'], ['Mystery', 'Drama', 'Adventure'], ['Drama', 'Romance'], ['Romance', 'Drama'], ['Comedy'], ['Drama', 'ScienceFiction'], ['Crime', 'Thriller', 'Comedy'], ['Drama'], ['Action', 'Thriller', 'Crime'], ['Crime', 'Thriller'], ['Horror', 'Thriller'], ['Animation', 'Fantasy'], ['Family', 'Animation', 'Comedy', 'Adventure'], ['Romance', 'Western'], ['Adventure', 'ScienceFiction'], ['Comedy', 'Drama'], ['Comedy', 'Drama', 'Family', 'Music'], ['Drama', 'Romance'], ['Thriller', 'Crime', 'Drama'], ['Drama', 'History', 'Romance'], ['Comedy', 'Drama'], ['Action', 'Thriller', 'Crime'], ['Horror', 'Thriller'], ['Drama', 'War', 'Mystery'], ['Drama', 'Comedy', 'Romance'], ['Action', 'Comedy', 'Crime', 'Drama'], ['Drama', 'Action', 'Crime'], ['Horror'], ['Comedy', 'Drama', 'Foreign', 'Romance'], ['Crime', 'Drama'], ['Drama', 'Music'], ['Comedy', 'Drama', 'Romance'], ['Horror', 'Mystery', 'Thriller'], ['Action', 'Adventure', 'Drama', 'Family'], ['Crime', 'Comedy', 'Thriller'], ['Comedy', 'Drama', 'Romance'], ['ScienceFiction', 'Thriller'], ['Horror', 'Thriller'], ['Drama'], ['Drama'], ['Drama', 'Thriller', 'Crime'], ['Drama'], ['Drama', 'Thriller'], ['Romance', 'Drama'], ['Drama', 'Comedy', 'Foreign'], ['Drama', 'History'], ['Action', 'Drama', 'Thriller', 'Adventure'], ['Drama'], ['Action', 'Thriller', 'ScienceFiction'], ['Comedy', 'Drama', 'Romance'], ['Drama'], ['Comedy', 'Horror'], ['Romance', 'Comedy'], ['Romance'], ['Drama', 'War', 'Action'], ['Documentary'], ['History', 'Drama', 'Western', 'Crime'], ['Comedy', 'Family', 'Fantasy'], ['Drama'], ['Crime', 'Drama', 'Music'], ['Comedy'], ['Comedy', 'Drama', 'Romance'], ['Comedy', 'Drama', 'Romance'], ['Drama', 'Crime', 'Thriller'], ['Horror', 'Thriller'], ['Comedy', 'Romance'], ['Drama', 'Romance'], ['Western'], ['Comedy'], ['ScienceFiction', 'Action'], ['Comedy', 'Drama'], ['Comedy', 'Family'], ['Crime', 'Action', 'Comedy'], ['Comedy', 'Music'], ['Comedy', 'Drama', 'Romance'], ['Comedy', 'Drama', 'Fantasy', 'Romance'], ['Crime', 'Horror', 'Thriller'], ['Drama'], ['Horror', 'Thriller'], ['Comedy', 'Crime', 'Drama'], ['Documentary'], ['Drama', 'Romance'], ['Comedy', 'Drama', 'Romance'], ['Drama', 'Thriller'], ['Comedy', 'Western'], ['Drama', 'Comedy'], ['Action', 'Comedy', 'Thriller', 'Crime'], ['Comedy'], ['Drama', 'Romance'], ['Comedy', 'Drama'], ['Comedy', 'Romance'], ['Drama', 'Comedy'], ['Comedy'], ['Comedy', 'Music'], ['Action'], ['Mystery', 'Drama', 'Thriller', 'Horror'], ['Drama', 'History'], ['Comedy', 'Crime', 'Thriller'], ['Drama', 'Thriller'], ['Adventure', 'Western'], ['Drama'], ['Thriller', 'Adventure', 'Drama', 'Crime'], ['Drama'], ['Action', 'Adventure', 'Fantasy', 'ScienceFiction'], ['Drama'], ['Drama'], ['Drama'], ['Drama', 'History'], ['Drama', 'Romance'], ['Action', 'Comedy'], ['Drama'], ['Comedy'], ['Documentary'], ['Crime', 'Drama', 'Thriller'], ['Action', 'Thriller'], ['Crime', 'Mystery', 'Thriller'], ['Crime', 'Drama', 'Thriller'], ['Drama', 'Family'], ['Action', 'Thriller'], ['Romance', 'Comedy', 'Drama'], ['Horror', 'Mystery', 'ScienceFiction'], ['Drama', 'Comedy', 'Romance'], ['Drama'], ['Drama', 'History', 'War'], ['Comedy'], ['Action', 'Drama', 'Thriller', 'War'], ['Drama', 'Thriller'], ['Action', 'Crime', 'Drama', 'Thriller'], ['Comedy'], ['Comedy', 'Drama', 'Romance'], ['Drama'], ['Action', 'Adventure', 'Drama'], ['Action', 'Comedy'], ['Thriller', 'Horror'], ['Comedy', 'Music', 'Family'], ['Comedy', 'Crime', 'Drama'], ['Drama', 'History'], ['Comedy', 'Drama', 'Romance'], ['Drama'], ['Romance', 'Comedy', 'Drama'], ['Western'], ['Comedy', 'Drama'], ['Drama', 'Romance'], ['Comedy', 'ScienceFiction'], ['Drama'], ['Comedy', 'Romance'], ['Crime', 'Drama', 'Mystery', 'Thriller'], ['Drama'], ['Drama'], ['Drama', 'Comedy'], ['Drama', 'Thriller', 'Crime', 'Mystery'], ['Comedy', 'Drama'], ['Drama'], ['Drama'], ['Comedy', 'Thriller', 'Action', 'Drama'], ['Comedy'], ['Drama', 'Comedy', 'Foreign'], ['Thriller', 'Crime'], ['ScienceFiction', 'Comedy', 'Thriller', 'Horror'], ['Comedy', 'Drama'], ['Drama'], ['ScienceFiction', 'Drama', 'Fantasy', 'Romance'], ['Drama', 'Action', 'Crime', 'Foreign'], ['Horror', 'Thriller'], ['Horror'], ['Thriller', 'ScienceFiction', 'Drama'], ['Documentary', 'Comedy'], ['Horror', 'Thriller'], ['Horror'], ['Horror'], ['Horror', 'Thriller'], ['Comedy', 'Drama'], ['Horror'], ['Drama'], ['Comedy'], ['Horror', 'Thriller', 'Comedy'], ['Crime', 'Drama'], ['Adventure', 'Drama', 'ScienceFiction'], ['Horror', 'Thriller'], ['Drama', 'History'], ['Drama', 'History'], ['Thriller', 'Horror'], ['Mystery', 'Thriller'], ['Horror'], ['Comedy'], ['Drama', 'Comedy', 'Music'], ['Comedy', 'Drama'], ['Comedy'], ['Family', 'Drama', 'Action', 'Western', 'Romance'], ['Animation', 'Family', 'Comedy'], ['Drama'], ['Drama'], ['Comedy', 'Drama'], ['Action', 'Drama'], ['Drama'], ['Horror', 'Thriller'], ['Drama', 'Thriller'], ['Drama'], ['Drama'], ['History', 'Drama'], ['Action', 'Crime', 'Thriller'], ['Horror', 'Thriller'], ['Comedy', 'Drama', 'Romance'], ['Drama', 'Crime'], ['Horror', 'Thriller'], ['Drama', 'Romance'], ['Horror', 'Comedy'], ['Drama', 'Horror'], ['Drama', 'Mystery', 'Romance'], ['Horror', 'Thriller'], ['Horror', 'Mystery'], ['Comedy', 'Drama'], ['Action', 'Crime', 'Drama', 'Romance', 'Thriller', 'Western'], ['Horror', 'Thriller', 'ScienceFiction'], ['Comedy', 'Drama'], ['Action', 'Thriller'], ['Action', 'Fantasy'], ['Drama', 'History', 'Romance', 'War'], ['Romance', 'Comedy'], ['Drama', 'Romance'], ['Drama', 'Romance', 'War'], ['Comedy', 'Romance'], ['Fantasy', 'Animation', 'ScienceFiction', 'Family'], ['Comedy', 'Drama'], ['Comedy', 'Crime', 'Drama'], ['Action', 'Adventure', 'Drama', 'Romance'], ['Action', 'Adventure', 'Horror', 'Thriller'], ['Action', 'Adventure', 'War', 'Thriller'], ['Comedy'], ['Comedy'], ['Comedy', 'Drama'], ['Western'], ['Action', 'Comedy', 'Thriller'], ['ScienceFiction', 'Drama'], ['Comedy'], ['Documentary'], ['Drama'], ['Drama', 'History'], ['Comedy', 'Drama'], ['Comedy', 'Horror', 'ScienceFiction'], ['Drama', 'Fantasy'], ['Drama'], ['Comedy', 'Drama', 'Romance'], ['Comedy', 'Crime', 'Mystery', 'Thriller'], ['Thriller', 'Drama'], ['Drama', 'Crime'], ['Thriller', 'Crime', 'Drama', 'Mystery'], ['Drama'], ['Comedy', 'Drama', 'Crime'], ['Horror', 'Crime', 'Thriller'], ['Comedy', 'Drama', 'Romance'], ['Drama', 'ScienceFiction', 'Mystery'], ['Comedy', 'Crime', 'Drama'], ['Crime', 'Drama', 'Thriller'], ['Drama', 'Foreign', 'History'], ['Documentary'], ['Drama'], ['Drama'], ['Drama'], ['Drama'], ['Comedy', 'Horror'], ['Drama', 'Romance'], ['Action', 'Drama', 'Romance'], ['Comedy', 'Drama'], ['Horror', 'ScienceFiction', 'Thriller'], ['Horror', 'Thriller'], ['Drama', 'War'], ['Romance', 'Thriller'], ['Horror', 'Thriller', 'ScienceFiction'], ['Thriller'], ['Horror', 'Comedy', 'Crime', 'Thriller'], ['Drama', 'Fantasy', 'Comedy'], ['Comedy', 'Documentary'], ['Drama'], ['Music', 'Drama', 'Comedy'], ['Family', 'Animation'], ['Romance', 'Comedy'], ['TVMovie', 'Crime', 'Drama', 'Thriller'], ['Thriller', 'Drama'], ['Action', 'Thriller', 'War'], ['Drama', 'Action', 'Thriller', 'ScienceFiction'], ['Comedy', 'Drama'], ['Family'], ['Comedy', 'Fantasy', 'Horror', 'Thriller'], ['Horror', 'Action'], ['Comedy', 'Drama'], ['Drama', 'Comedy'], ['Drama'], ['Horror', 'Thriller'], ['Horror'], ['Comedy', 'Drama'], ['Thriller', 'Drama'], ['Horror', 'Thriller'], ['Drama', 'Comedy'], ['Comedy'], ['Horror'], ['Western'], ['Drama', 'Thriller', 'Crime'], ['Drama', 'Romance'], ['Comedy', 'Romance'], ['Drama', 'Family'], ['Action', 'Comedy', 'Drama', 'Western'], ['Drama', 'Comedy', 'Romance'], ['Drama', 'Comedy'], ['Drama'], ['Comedy', 'Crime'], ['Romance', 'Adventure', 'Drama'], ['Comedy', 'Drama', 'Romance'], ['Comedy'], ['Adventure', 'Drama'], ['Crime', 'Drama'], ['Crime', 'Drama', 'Romance', 'Thriller'], ['Crime', 'Drama'], ['Music', 'Romance'], ['Drama', 'Foreign', 'Romance'], ['Drama'], ['Comedy'], ['Fantasy', 'Drama', 'Mystery'], ['Action', 'Comedy', 'Foreign'], ['Drama', 'Foreign', 'History'], ['Comedy', 'Crime', 'Drama'], ['Comedy', 'Drama'], ['Drama', 'Thriller'], ['Drama'], ['Comedy', 'Drama'], ['Action', 'Crime', 'Thriller'], ['Adventure', 'Action', 'Western'], ['Crime', 'Drama'], ['Drama', 'Horror', 'Mystery', 'Thriller'], ['Comedy', 'Drama', 'Thriller'], ['Drama'], ['Comedy', 'Horror'], ['Comedy'], ['Thriller', 'Action', 'Drama', 'History'], ['Drama', 'Family'], ['Adventure', 'Action'], ['Action', 'Drama', 'Crime'], ['Crime', 'Drama', 'Thriller'], ['Drama', 'Thriller', 'Crime'], ['Drama', 'Family'], ['Drama', 'Family', 'Foreign'], ['Thriller', 'Mystery', 'ScienceFiction'], ['Comedy', 'Drama', 'Family', 'Music', 'TVMovie'], ['Drama', 'Romance', 'Foreign'], ['Fantasy', 'Action', 'Thriller'], ['Romance', 'Crime', 'Drama', 'Thriller'], ['Comedy'], ['Horror', 'ScienceFiction'], ['Horror'], ['Drama'], ['Comedy', 'Drama', 'Romance'], ['Action', 'Drama', 'Romance'], ['Drama', 'Romance'], ['Horror'], ['Drama', 'Romance'], ['Horror', 'Comedy'], ['Romance', 'Drama', 'Comedy'], ['Thriller'], ['Drama'], ['Comedy', 'Drama'], ['Action', 'Horror', 'ScienceFiction', 'Thriller'], ['Adventure', 'Drama', 'History', 'Thriller', 'War'], ['Documentary'], ['Horror', 'Thriller'], ['Drama'], ['Comedy', 'Mystery'], ['Action', 'Comedy'], ['Action', 'Comedy', 'Romance'], ['Drama', 'Romance'], ['Drama', 'Action', 'Romance'], ['Drama', 'Thriller'], ['Comedy', 'Crime'], ['Horror', 'Drama', 'Thriller'], ['Comedy', 'Horror'], ['Comedy', 'Drama', 'Romance'], ['Action', 'Drama', 'Mystery', 'Thriller'], ['Comedy', 'Crime'], ['Crime', 'Comedy'], ['Comedy', 'Drama', 'Romance'], ['Documentary'], ['Drama'], ['Music', 'Comedy'], ['Comedy', 'Romance'], ['Comedy', 'Crime', 'Thriller', 'Romance'], ['Comedy', 'Drama'], ['Horror', 'Action', 'Thriller'], ['Fantasy'], ['Drama', 'Documentary'], ['Fantasy', 'Adventure'], ['Drama', 'Romance'], ['Thriller', 'Drama'], ['Comedy', 'Drama', 'Thriller'], ['Drama'], ['Drama', 'Fantasy'], ['Drama'], ['Crime', 'Comedy', 'Romance'], ['Crime', 'Drama', 'Horror', 'Thriller'], ['Comedy'], ['Comedy', 'Foreign'], ['Drama'], ['Crime', 'Drama', 'Thriller'], ['Comedy', 'Crime'], ['Comedy', 'Romance'], ['Drama'], ['Drama', 'Romance'], ['Drama'], ['Drama', 'Horror', 'Action', 'Thriller', 'ScienceFiction'], ['Drama'], ['Drama'], ['Comedy', 'Drama'], ['Adventure', 'Action', 'Thriller', 'Crime'], ['Comedy', 'Fantasy', 'ScienceFiction'], ['Drama'], ['Drama', 'Comedy', 'History', 'Music'], ['Thriller', 'Romance'], ['Action', 'Drama', 'History'], ['Comedy', 'Drama', 'Romance'], ['Horror'], ['Horror'], ['Horror'], ['Comedy', 'Romance', 'TVMovie'], ['Romance', 'Adventure', 'Drama'], ['Drama', 'History'], ['Drama'], ['Drama', 'Romance', 'War'], ['Drama'], ['War', 'Western'], ['Action', 'Comedy', 'Music', 'Romance', 'Western'], ['Comedy', 'Crime', 'Drama'], ['Drama'], ['Drama', 'Action', 'Comedy', 'Crime'], ['Music', 'Romance'], ['Drama', 'Comedy', 'Romance'], ['Comedy', 'Drama'], ['Drama'], ['Comedy'], ['Comedy'], ['Thriller', 'Adventure', 'Action'], ['Comedy'], ['Drama', 'Action', 'Crime'], ['Horror'], ['Action', 'Comedy', 'Western'], ['Crime', 'Drama'], ['Drama'], ['Action', 'Drama', 'Thriller', 'Crime', 'Mystery'], ['Crime', 'Drama', 'Mystery', 'Thriller'], ['Mystery', 'Horror'], ['Action', 'Comedy'], ['Comedy', 'Romance'], ['Drama'], ['Crime', 'Drama', 'Mystery', 'Romance'], ['Horror', 'Thriller'], ['Horror', 'Comedy', 'Fantasy'], ['Action', 'Comedy'], ['TVMovie', 'Horror'], ['Drama', 'Foreign'], ['Fantasy', 'Horror'], ['Comedy', 'Romance'], ['Comedy', 'Drama'], ['Action'], ['Crime', 'Action'], ['Crime', 'Drama', 'Mystery', 'Thriller'], ['Action', 'Crime', 'Comedy', 'Thriller'], ['Drama'], ['Horror', 'Thriller', 'Mystery'], ['Action', 'Animation'], ['Documentary'], ['Action', 'Adventure', 'Drama', 'Fantasy'], ['Action', 'Drama', 'Thriller'], ['Drama'], ['Crime', 'Mystery', 'Thriller'], ['Comedy', 'Music'], ['Documentary', 'Family'], ['Thriller', 'Drama'], ['Drama'], ['Comedy', 'Drama'], ['Drama'], ['Drama', 'Crime'], ['Comedy', 'Drama'], ['Drama', 'Music'], ['Mystery', 'Drama', 'Crime', 'Thriller'], ['Drama'], ['Comedy', 'Family'], ['Drama', 'Romance'], ['Action', 'Drama', 'Horror', 'Crime', 'Thriller'], ['Comedy'], ['Romance', 'Drama'], ['Drama'], ['Horror', 'Drama', 'Mystery'], ['Western'], ['Drama', 'Romance'], ['Drama', 'Thriller', 'Crime'], ['Drama', 'Romance', 'Comedy'], ['Action', 'Comedy', 'Horror'], ['Comedy'], ['Adventure', 'Action', 'Thriller'], ['ScienceFiction', 'Horror'], ['Drama', 'Family', 'Fantasy'], ['Drama', 'Crime'], ['Comedy'], ['Horror', 'Thriller'], ['Comedy', 'Romance'], ['Documentary'], ['Drama'], ['Horror'], ['Drama', 'Romance'], ['ScienceFiction', 'Horror', 'Thriller'], ['Horror', 'Thriller', 'Mystery'], ['Comedy'], ['Drama', 'Romance'], ['Adventure', 'ScienceFiction', 'Mystery'], ['Comedy', 'Family', 'Drama'], ['Adventure', 'Fantasy', 'Animation', 'Action', 'Family'], ['Horror', 'Mystery', 'Thriller'], ['Drama', 'History', 'War'], ['Comedy', 'Family', 'ScienceFiction'], ['Comedy', 'Crime', 'Thriller'], ['Comedy', 'Drama', 'Romance'], ['Fantasy', 'Horror', 'Thriller'], ['Mystery', 'Thriller'], ['Comedy', 'Documentary', 'Music'], ['Romance', 'Thriller', 'Western'], ['Drama', 'Music', 'Romance'], ['Action', 'Comedy', 'Crime'], ['Drama'], ['Drama', 'History'], ['Comedy', 'Romance'], ['Western'], ['Comedy', 'Romance'], ['Romance', 'Drama'], ['Comedy', 'Fantasy', 'Family'], ['Action', 'Horror', 'ScienceFiction', 'Thriller'], ['Drama'], ['Comedy', 'Drama'], ['Drama', 'Foreign', 'Romance'], ['Comedy'], ['Comedy', 'Romance'], ['Drama', 'History', 'Romance'], ['Comedy', 'Drama'], ['Family', 'Fantasy'], ['Fantasy', 'Horror', 'ScienceFiction'], ['Comedy', 'Crime'], ['Drama', 'Romance'], ['Drama'], ['Comedy'], ['Drama', 'History'], ['Comedy', 'Drama'], ['Crime', 'Drama'], ['Comedy', 'Drama'], ['Comedy', 'Documentary'], ['Comedy', 'Horror'], ['Drama', 'Thriller', 'Mystery', 'Action'], ['Action', 'Drama', 'Family', 'Thriller'], ['Action', 'Comedy', 'Thriller'], ['Action', 'Comedy'], ['Comedy', 'Drama', 'Thriller'], ['TVMovie', 'Action', 'Drama', 'Family'], ['Drama'], ['Comedy', 'Romance'], ['Horror', 'ScienceFiction', 'Thriller'], ['Comedy', 'Romance'], ['Drama', 'Music', 'Family'], ['Comedy'], ['Comedy', 'Drama'], ['War', 'Drama', 'History'], ['Horror', 'Thriller'], ['Drama', 'Comedy'], ['ScienceFiction'], ['Drama', 'Horror', 'Romance'], ['Thriller', 'Horror'], ['Comedy'], ['Comedy', 'Family'], ['Drama'], ['Action', 'Drama', 'Thriller'], ['Comedy'], ['Comedy'], ['Drama', 'Action'], ['Action', 'Crime', 'Drama', 'Thriller'], ['Drama', 'Comedy'], ['Thriller'], ['Mystery', 'Thriller'], ['Thriller'], [], ['Action', 'Crime', 'Thriller'], ['Comedy', 'Drama', 'Romance'], ['Drama'], ['Comedy', 'Drama'], ['Crime', 'Action'], ['Comedy', 'Drama', 'Romance'], ['Thriller', 'Mystery', 'Drama', 'Horror'], ['Documentary'], ['Horror', 'Thriller', 'Mystery'], ['Romance', 'Comedy', 'Drama'], ['Thriller', 'Action', 'Horror'], ['Drama'], ['Comedy', 'Romance'], ['Horror', 'Thriller'], ['Adventure', 'Family', 'Fantasy'], ['Comedy', 'ScienceFiction'], ['Horror', 'Action', 'ScienceFiction'], ['Comedy', 'Drama', 'Romance'], ['Drama'], ['Adventure', 'Family'], [], ['Action', 'Adventure', 'Animation', 'Comedy', 'ScienceFiction'], ['Adventure', 'Comedy', 'Romance'], ['Comedy', 'Drama'], ['Drama', 'Romance', 'War'], ['Western', 'Comedy'], ['Horror', 'Thriller'], ['Drama'], ['Drama', 'Romance'], ['Comedy'], ['Documentary'], ['ScienceFiction', 'Thriller'], ['Action', 'Adventure', 'Comedy', 'Drama', 'Foreign'], ['Horror', 'Thriller'], ['Comedy', 'Music', 'Romance'], ['Documentary'], ['Comedy', 'Horror'], ['Documentary'], ['Comedy', 'Drama'], ['Horror', 'Mystery', 'ScienceFiction'], ['Action', 'ScienceFiction'], ['Action', 'Drama', 'Western'], ['Comedy', 'Documentary'], ['Drama', 'Romance'], ['Comedy', 'Drama', 'Romance'], ['Drama', 'Romance'], ['Horror', 'Mystery', 'Thriller'], ['Comedy', 'Drama', 'Romance'], ['Comedy', 'Romance'], ['Drama'], ['ScienceFiction', 'Comedy', 'Drama', 'Crime'], ['Drama', 'Romance'], ['Comedy', 'Drama', 'Romance'], ['Comedy', 'Documentary'], ['Documentary', 'Drama'], ['Drama'], ['Drama'], ['Documentary'], ['Comedy', 'Romance'], ['Horror', 'Thriller'], ['Drama', 'ScienceFiction', 'Thriller'], ['Comedy', 'Action', 'Drama'], ['Comedy', 'Family'], ['Comedy', 'Horror'], ['Horror'], ['Drama'], ['Drama', 'Horror', 'Thriller'], ['Adventure', 'Comedy', 'ScienceFiction'], ['Crime'], ['Drama', 'Crime'], ['Action', 'Adventure', 'ScienceFiction'], ['Comedy', 'Music'], ['Drama', 'Family'], ['Comedy', 'Drama', 'Family'], ['Music', 'Romance'], ['Drama'], ['Thriller'], ['Fantasy', 'Adventure', 'Animation', 'Comedy', 'Family', 'Music'], ['Animation', 'Family', 'Music'], ['Thriller', 'Drama'], ['Horror', 'Thriller'], ['Horror', 'Thriller'], ['Drama'], ['Fantasy', 'Drama'], ['Thriller', 'Romance'], ['Drama'], ['Thriller', 'Drama'], ['Comedy', 'Romance', 'Foreign'], ['Romance', 'Comedy', 'Music'], ['Action', 'Comedy', 'Horror'], ['Drama', 'History', 'Romance'], ['Crime', 'Drama'], ['Comedy', 'Drama'], ['Drama', 'Crime'], ['Horror', 'Mystery'], ['Drama', 'Mystery', 'Thriller'], [], ['Thriller', 'Horror', 'ScienceFiction'], ['Adventure', 'Drama', 'Western'], ['Action', 'Thriller', 'Adventure'], ['Comedy', 'Horror', 'Action'], ['Comedy', 'Romance', 'ScienceFiction'], ['Horror', 'Thriller'], ['Comedy'], ['Crime', 'Drama'], ['Adventure', 'Action', 'Thriller', 'ScienceFiction'], ['Action', 'Comedy'], ['Crime', 'Drama'], ['Horror', 'Mystery'], ['Drama', 'Thriller'], ['Drama'], ['Drama'], ['Adventure', 'Drama', 'Romance'], ['Adventure', 'Animation', 'Comedy', 'Drama'], ['Drama', 'Comedy'], ['Comedy', 'Drama'], ['Drama', 'Romance'], ['Drama', 'Thriller'], ['Crime', 'Drama'], ['Drama', 'Romance'], ['Drama'], ['Documentary', 'Action', 'Adventure'], ['Drama', 'Music', 'Romance'], ['Comedy', 'Drama'], ['Documentary'], ['Drama', 'Music', 'Romance'], ['Crime', 'Drama'], ['Crime', 'Drama', 'Thriller', 'Action'], ['Crime', 'Drama', 'Thriller'], ['Comedy', 'Drama', 'Romance'], ['Horror'], ['Romance', 'Drama', 'Comedy'], ['Drama', 'Animation', 'War'], [], ['Documentary'], ['Drama', 'Romance'], ['Documentary'], ['Drama', 'Western'], ['History', 'Documentary'], ['Drama', 'Action', 'Thriller'], ['Comedy', 'Drama'], ['Comedy'], ['Action', 'Thriller'], ['Comedy', 'Drama'], ['Comedy', 'Horror'], ['Action', 'Adventure', 'ScienceFiction'], [], ['Drama', 'Comedy', 'Music'], ['Comedy'], ['Comedy', 'Drama', 'Romance'], ['Drama'], ['Animation', 'Family', 'Foreign'], ['Drama', 'Action', 'Thriller'], ['Adventure', 'Family'], ['Comedy', 'Drama', 'Music', 'Romance'], ['Comedy', 'Drama', 'Mystery', 'Thriller'], ['Comedy', 'ScienceFiction', 'Romance', 'Horror'], ['Drama', 'Action', 'Romance'], ['Drama'], ['Horror', 'ScienceFiction'], ['Horror', 'Thriller'], ['Thriller'], ['Horror', 'Comedy'], ['Drama', 'Action', 'Crime', 'Foreign'], ['Thriller', 'Drama', 'Crime'], ['Thriller', 'Horror'], ['Horror'], ['Crime', 'Drama', 'Horror', 'Thriller'], ['Comedy'], ['Thriller'], ['Action', 'Adventure', 'Drama'], ['Crime', 'Drama', 'Mystery'], ['Horror', 'Thriller'], ['Action', 'Adventure', 'Drama'], ['Comedy', 'Crime'], ['Comedy'], ['Comedy', 'Fantasy', 'Music'], ['Comedy', 'Drama'], ['Mystery', 'Horror', 'History'], ['Comedy', 'Drama'], ['Comedy', 'Music'], ['Documentary'], ['Action', 'Adventure', 'History', 'Western'], ['ScienceFiction', 'Comedy'], ['Thriller', 'Mystery', 'Horror', 'Drama'], ['Thriller'], ['Crime', 'Drama'], ['Fantasy', 'Drama', 'ScienceFiction'], ['Thriller', 'Action'], ['Drama', 'Thriller', 'Mystery'], ['Drama', 'Comedy', 'Romance'], ['Documentary', 'Drama', 'History'], ['Drama'], ['Drama', 'Music'], ['Thriller', 'Documentary', 'Crime', 'History'], ['Drama', 'Thriller'], ['Drama'], ['Horror', 'Drama', 'Thriller'], ['Drama'], ['Drama'], ['Drama', 'Comedy', 'War'], ['Drama', 'Romance'], ['Drama', 'Fantasy'], ['Action', 'ScienceFiction'], ['Drama', 'Music'], ['Drama', 'Thriller'], ['Comedy', 'Romance'], ['Comedy', 'Documentary'], ['Comedy'], ['Adventure', 'Drama', 'Foreign'], ['Western'], ['Crime', 'Drama'], ['Horror', 'Thriller'], ['Thriller', 'Comedy', 'Horror'], ['Action', 'ScienceFiction'], ['Comedy', 'Romance'], ['Action', 'Drama', 'Thriller'], ['Drama', 'Horror', 'Thriller', 'Romance'], ['Adventure', 'Family'], ['Drama'], ['Action', 'ScienceFiction'], ['Drama', 'Thriller'], ['Thriller', 'Crime', 'Horror'], ['Comedy', 'Crime'], ['Drama', 'Thriller', 'Romance'], ['Drama', 'Romance'], ['Drama', 'Romance'], ['Comedy', 'Romance'], ['War', 'Drama', 'Romance'], ['Western'], ['Drama', 'Music'], ['Comedy', 'Drama'], ['Drama', 'Crime', 'Thriller'], ['Drama', 'Comedy', 'Romance'], ['Thriller', 'Horror'], ['Drama', 'Romance'], ['Crime', 'Drama', 'Mystery'], ['Romance'], ['Crime', 'Drama', 'Romance'], ['Drama', 'Mystery'], ['Horror'], ['Comedy'], ['Action'], ['Comedy', 'Drama'], ['Drama', 'Crime'], ['Comedy', 'Drama'], ['Comedy'], ['Action', 'Drama'], ['Drama', 'Mystery', 'Thriller'], ['Drama', 'Mystery'], ['Romance', 'Comedy', 'Crime', 'Drama'], ['Horror', 'Thriller'], ['Comedy', 'Crime', 'ScienceFiction', 'Thriller'], ['Crime', 'Drama', 'Thriller'], ['Documentary'], ['Drama'], ['Comedy', 'Romance'], ['Action', 'Crime', 'Drama', 'Thriller'], ['Drama'], ['Drama', 'Romance'], ['Thriller', 'Action', 'Horror'], ['Horror', 'Mystery'], ['Comedy', 'Romance'], ['Drama'], ['Comedy', 'Horror'], ['Drama', 'Comedy'], ['Drama', 'Family', 'Comedy'], ['Comedy', 'Horror'], ['Comedy'], ['Comedy'], ['Drama', 'Romance'], ['Drama', 'History', 'War'], ['Horror', 'Mystery', 'ScienceFiction'], ['Drama'], ['Romance', 'Comedy', 'Drama'], ['Horror', 'Thriller'], ['Horror', 'Comedy', 'Thriller'], ['Documentary'], ['Comedy', 'Drama', 'Fantasy', 'Romance', 'ScienceFiction'], ['Drama', 'Comedy'], ['Comedy', 'Drama'], ['ScienceFiction'], ['Comedy', 'Family', 'Drama'], ['Thriller', 'Action', 'Crime'], ['Drama', 'Mystery', 'Horror', 'Thriller'], ['Action', 'Horror', 'Thriller'], ['Fantasy', 'Animation', 'Family'], ['Drama', 'Foreign'], ['Western'], ['Adventure', 'Comedy', 'Horror'], ['Drama'], ['Horror', 'Thriller'], ['Drama', 'Crime', 'Thriller'], ['Thriller', 'Horror'], ['Comedy', 'Crime'], ['Western'], ['Drama'], ['Comedy', 'Drama'], ['Drama'], ['Drama'], ['Horror', 'Comedy'], ['Drama', 'Action'], ['ScienceFiction'], ['Action', 'Comedy'], ['Comedy', 'Romance'], ['Comedy'], ['Drama', 'Horror', 'Romance'], ['Drama', 'Mystery'], ['Horror', 'Thriller'], ['Drama'], ['Horror', 'ScienceFiction'], ['Drama'], ['Adventure', 'Animation', 'Comedy', 'Family'], ['Crime', 'Drama', 'Thriller'], ['Drama'], ['Thriller', 'Comedy', 'Romance'], ['Drama'], ['Horror', 'Mystery', 'Crime'], ['Comedy', 'Crime', 'Mystery'], [], ['Comedy', 'Drama'], ['Comedy', 'Drama', 'Romance'], ['Drama', 'Romance'], ['Comedy', 'Mystery', 'Thriller'], ['Comedy'], ['Drama'], ['Crime', 'Thriller'], ['Drama', 'Family', 'Fantasy'], ['Western'], ['Drama'], ['Drama', 'Comedy'], ['Comedy', 'Music'], ['Documentary'], ['Comedy'], ['Drama', 'Romance'], ['Drama', 'Comedy'], ['Crime', 'Comedy', 'Drama', 'Adventure'], ['Comedy'], ['Action', 'Adventure', 'Drama', 'War'], ['Thriller', 'Horror'], [], ['Action', 'Adventure', 'Comedy'], ['Action', 'Adventure'], ['Horror'], ['Horror'], ['Comedy'], ['Drama', 'Thriller', 'Crime'], ['Comedy', 'Horror'], ['Documentary'], ['Horror'], ['Drama'], ['Fantasy', 'ScienceFiction', 'Horror'], ['Action', 'Thriller', 'Crime'], ['Horror', 'ScienceFiction', 'Action'], ['Horror', 'Documentary', 'Mystery'], ['Drama', 'Romance'], ['Horror', 'Thriller'], ['Drama', 'Comedy', 'Romance'], ['Adventure', 'Drama', 'ScienceFiction'], ['Drama'], ['Drama'], ['Adventure', 'Comedy', 'History', 'Romance'], ['Horror', 'Thriller'], ['Crime', 'Drama'], ['Drama', 'Horror'], ['Adventure', 'Action', 'Thriller'], ['Horror', 'Thriller'], ['Horror'], ['Drama'], ['Horror', 'Thriller'], ['Adventure', 'Horror', 'Action', 'ScienceFiction'], ['Drama', 'Romance'], ['Drama'], ['Thriller', 'Horror'], ['Comedy', 'Drama', 'Thriller'], ['Drama', 'Action', 'Western', 'Music', 'Romance'], ['Documentary'], ['Action', 'Drama', 'History', 'War'], ['Documentary', 'Music'], ['Action', 'Adventure', 'Horror', 'Thriller'], ['Drama', 'Romance', 'Family'], ['Drama', 'Romance', 'Comedy'], ['Documentary'], ['Drama'], ['Comedy', 'Drama', 'Romance'], ['Drama'], ['Drama', 'Thriller'], ['Comedy', 'Romance'], ['Drama'], ['Documentary', 'Music'], ['Drama', 'Romance'], ['Comedy', 'Drama', 'Romance'], ['Documentary'], ['Comedy', 'Drama', 'Romance'], ['Comedy', 'Horror', 'Thriller', 'Mystery', 'Fantasy'], ['Drama'], ['Crime', 'Drama', 'Mystery', 'Thriller'], ['Drama', 'Foreign', 'Romance'], ['Comedy'], ['Drama', 'Romance'], ['Comedy'], ['Drama'], ['Drama'], ['Crime', 'Drama'], ['Comedy', 'Drama', 'Fantasy', 'Romance'], ['ScienceFiction', 'Drama'], ['Comedy', 'Drama', 'Romance'], ['Documentary'], ['Documentary'], ['Documentary'], ['Drama'], [], ['Drama', 'Adventure', 'Documentary'], ['Documentary'], ['Drama', 'Action'], ['Thriller'], ['Mystery', 'Horror'], ['Comedy', 'Thriller', 'Crime'], ['Comedy', 'Crime'], ['Romance', 'Drama', 'Crime'], ['Comedy', 'Drama'], ['Action', 'Comedy'], ['Comedy', 'Romance'], ['Crime', 'Drama', 'Romance', 'Thriller'], ['Drama', 'ScienceFiction'], ['Drama', 'Fantasy', 'ScienceFiction'], [], ['Action', 'Comedy', 'ScienceFiction'], ['Drama', 'Action', 'Thriller'], ['Comedy', 'Drama'], ['Crime', 'Drama'], ['Family', 'Comedy'], ['Drama', 'Romance'], ['Drama', 'Comedy'], ['Action', 'Crime', 'Drama', 'Thriller'], ['Comedy', 'Romance'], ['Drama'], ['Drama'], ['Drama'], [], ['Horror'], ['Horror', 'Thriller'], ['Romance', 'Drama'], ['Comedy', 'Drama', 'Romance'], ['Comedy', 'Romance'], ['Western'], ['Thriller', 'Horror'], ['Horror', 'Thriller', 'Mystery'], ['Drama', 'Thriller'], ['ScienceFiction', 'Drama', 'Music'], ['Horror'], ['Comedy', 'Action', 'ScienceFiction', 'Thriller'], ['Drama'], ['Drama', 'Romance', 'ScienceFiction'], ['Horror', 'Thriller'], ['Drama', 'Mystery', 'Thriller'], ['Comedy', 'Romance'], ['Crime', 'Drama'], ['Comedy'], ['Drama'], ['Horror'], ['Drama', 'Thriller'], ['Drama', 'Thriller'], ['Drama'], ['Drama'], ['Comedy', 'Fantasy', 'Thriller'], ['Animation', 'Drama', 'Family'], ['Comedy'], ['Drama', 'Comedy', 'Romance'], ['Drama'], ['Drama'], ['Comedy'], ['Comedy', 'Drama', 'Romance'], ['Comedy', 'Drama', 'Family', 'ScienceFiction'], ['Crime', 'Drama', 'Thriller'], ['Action', 'Comedy', 'ScienceFiction'], ['Thriller', 'Mystery'], ['Drama'], ['Comedy', 'Drama', 'Thriller'], ['Comedy', 'Drama'], ['Drama', 'Romance'], ['Drama', 'Romance'], ['Drama', 'Thriller', 'Romance'], [], ['Drama', 'Foreign'], ['Action', 'Drama', 'Mystery', 'Thriller'], ['Drama'], ['Drama'], ['Comedy'], ['Horror', 'Comedy'], ['Action', 'Adventure', 'Drama', 'History', 'War'], ['Horror', 'ScienceFiction'], ['Comedy', 'Drama'], ['Documentary'], ['Animation', 'Comedy'], ['Comedy', 'Romance', 'ScienceFiction', 'Drama'], ['Comedy', 'Documentary'], ['Horror', 'Thriller', 'Crime'], ['Horror', 'Thriller'], ['Drama'], ['Drama', 'Thriller'], ['Horror', 'Drama', 'Thriller', 'Crime'], ['Horror', 'Mystery', 'Thriller'], ['Horror'], ['Western'], ['Documentary'], ['Documentary'], ['Drama'], ['Mystery', 'Drama', 'Thriller'], ['Crime', 'Drama', 'Music'], ['Drama'], ['Drama'], ['Action', 'Comedy', 'Romance', 'ScienceFiction', 'Thriller'], ['Thriller', 'Crime', 'Drama'], ['Horror', 'Fantasy'], ['Documentary', 'Foreign'], ['Documentary'], ['Mystery', 'Thriller'], ['Drama'], ['Drama', 'Comedy'], ['Comedy', 'Music', 'Romance'], ['Horror', 'Mystery'], ['History', 'Documentary', 'Music'], ['Comedy'], ['Action', 'Adventure', 'Drama'], ['Thriller', 'Mystery'], ['Drama'], ['Crime', 'Drama'], ['Music', 'Documentary'], [], ['Drama', 'Comedy'], ['Thriller'], ['Comedy', 'Music'], ['Documentary'], ['Drama', 'Thriller'], ['Comedy', 'Drama'], ['Drama'], ['Documentary', 'Drama'], ['Adventure', 'Family', 'Romance'], ['Drama', 'Thriller'], ['Comedy'], ['Horror', 'ScienceFiction'], ['Documentary', 'Family'], ['Drama', 'Comedy'], ['Drama'], ['Documentary'], ['Documentary'], ['Comedy', 'Drama', 'Family', 'Romance'], ['Drama'], ['Documentary'], ['Drama', 'Music', 'Romance'], ['Comedy', 'Crime', 'Family'], ['Drama', 'Romance'], ['Crime', 'Drama'], ['Romance', 'Crime', 'Drama'], ['Comedy', 'Romance'], ['Crime', 'Drama', 'Thriller'], ['Comedy', 'Drama', 'Romance'], ['Romance', 'Drama'], ['Documentary'], ['Action', 'Drama'], ['Documentary'], ['Comedy', 'Romance'], ['Comedy'], ['Comedy', 'Drama', 'Fantasy', 'Horror', 'Mystery'], ['Drama', 'Comedy', 'Romance'], ['Drama'], ['Drama', 'Thriller', 'ScienceFiction'], ['Drama', 'Comedy'], ['Comedy'], ['Comedy', 'Horror'], ['Action', 'Comedy'], ['Documentary', 'Music'], ['Drama'], ['Action', 'Drama', 'Thriller'], [], ['Drama', 'Romance'], ['Horror', 'Comedy'], [], ['Action', 'Thriller', 'Mystery'], ['Mystery', 'ScienceFiction', 'Thriller'], ['Crime', 'Drama'], ['Romance', 'Action'], ['Music', 'Horror'], ['Thriller', 'Comedy', 'Mystery'], ['Family'], ['Documentary'], [], ['ScienceFiction', 'Action', 'Comedy', 'Horror'], ['Drama'], ['Action', 'Adventure', 'Drama', 'History'], [], ['Drama', 'Romance'], ['Horror', 'Comedy'], [], ['Music', 'Comedy', 'Romance'], [], ['Comedy', 'Drama'], ['Romance', 'Drama', 'Comedy', 'Music'], ['Horror', 'Drama'], ['Comedy'], ['Crime', 'Thriller'], ['Horror', 'Mystery'], ['Documentary'], ['Adventure', 'Comedy', 'Fantasy'], ['Drama'], [], ['Documentary', 'Drama'], ['Documentary'], ['Horror', 'Comedy'], ['Horror'], ['Comedy', 'Romance'], ['Horror', 'ScienceFiction', 'Thriller'], ['Romance', 'Drama', 'Comedy'], ['Drama', 'Mystery', 'Thriller'], ['Drama', 'Thriller'], ['Drama'], ['Drama'], ['Documentary'], ['Drama', 'Music', 'Romance'], ['Horror'], ['Horror'], ['History', 'Documentary'], ['Documentary'], ['Action', 'Adventure', 'Drama'], ['Documentary'], ['ScienceFiction', 'Family'], ['Drama'], ['Animation', 'Comedy', 'Drama'], ['Comedy', 'Romance'], ['Drama'], ['Music', 'Documentary'], ['Comedy', 'Drama'], ['Fantasy', 'Horror', 'Thriller'], ['Comedy'], ['Comedy', 'Drama'], [], ['Drama'], ['Drama'], ['Drama'], ['Drama', 'Thriller'], ['Documentary'], ['Documentary'], ['Drama'], ['Drama'], ['Action', 'Adventure', 'Drama'], ['Action', 'Thriller'], [], ['Action', 'Comedy', 'ScienceFiction'], ['Horror', 'Drama', 'Thriller'], ['Horror'], ['Romance', 'Comedy', 'Drama'], ['Drama', 'Romance'], ['Horror'], ['Comedy', 'Horror', 'Thriller'], ['Drama', 'Thriller', 'Crime'], ['Comedy', 'Drama', 'Romance'], ['Comedy', 'Drama', 'Romance'], [], ['Crime', 'Drama'], ['Comedy', 'Drama', 'Romance'], ['Comedy', 'Drama'], ['Drama', 'Comedy', 'Romance'], ['Drama', 'Action', 'Crime'], ['Thriller', 'ScienceFiction', 'Mystery'], ['Comedy', 'Romance'], ['Drama', 'Comedy', 'Animation'], ['Drama', 'Mystery', 'Thriller'], ['Drama', 'Romance'], ['Horror'], ['Comedy'], ['Drama', 'Comedy'], ['Thriller', 'Drama'], ['Drama'], ['Drama', 'Thriller'], ['Thriller', 'Mystery'], ['ScienceFiction', 'Drama'], ['Music'], ['Drama'], ['Action', 'Fantasy'], ['Drama', 'Family'], ['Crime', 'Drama'], [], ['Horror', 'Thriller'], ['Family', 'Drama'], ['Documentary'], ['Drama', 'Romance', 'War'], ['Comedy'], ['Romance', 'Comedy', 'Music'], ['Drama', 'Action', 'Crime'], ['Western'], ['Foreign', 'Documentary'], ['Romance', 'Drama'], ['Comedy'], ['Adventure', 'Horror', 'ScienceFiction'], ['Adventure', 'Action', 'Thriller', 'ScienceFiction'], ['Comedy', 'Romance'], ['Western'], ['Comedy'], [], ['Drama'], ['Drama'], ['Romance', 'Drama', 'Comedy'], ['Music', 'Drama'], ['Documentary'], ['Crime', 'Horror', 'Thriller'], [], ['Horror'], ['Drama', 'Comedy', 'Horror'], ['Horror'], ['Documentary'], ['Drama'], ['Comedy', 'Drama', 'Romance'], ['ScienceFiction', 'Drama'], ['Documentary'], ['Drama', 'Family'], ['Drama', 'Mystery', 'ScienceFiction', 'Thriller'], ['Music', 'Comedy', 'Drama'], ['Thriller', 'Drama', 'ScienceFiction'], ['Drama'], ['Drama', 'Comedy', 'Family'], ['Drama', 'Romance'], ['Comedy', 'Romance'], ['Documentary'], ['Drama'], ['Drama', 'ScienceFiction'], ['Action', 'Drama', 'Romance'], ['Drama'], ['Comedy', 'Drama', 'Romance'], ['Drama', 'Music', 'Romance'], ['Drama'], ['Documentary'], ['Thriller', 'Drama', 'Horror'], ['Action', 'Drama'], ['Animation', 'Family', 'Comedy', 'TVMovie'], ['Documentary'], ['Documentary'], ['Documentary'], ['Documentary', 'History'], [], ['ScienceFiction', 'Drama', 'Mystery'], [], ['Drama', 'Comedy'], ['Comedy'], ['Drama', 'Romance'], ['Drama'], ['Comedy'], ['Drama'], ['Horror', 'Thriller'], ['Drama', 'Fantasy', 'Horror', 'ScienceFiction'], ['Comedy'], ['Comedy', 'Drama'], ['Action', 'Drama'], ['Comedy', 'Horror', 'ScienceFiction'], ['Family'], ['Drama', 'Comedy', 'Crime'], ['Documentary'], ['Thriller'], ['Crime', 'Mystery', 'Thriller'], ['Thriller', 'Action', 'Drama', 'ScienceFiction'], ['Crime', 'Horror'], ['Documentary', 'Music'], ['Documentary'], ['Mystery', 'Drama', 'Thriller'], ['Comedy', 'Romance'], ['Romance', 'Comedy'], ['ScienceFiction'], ['Documentary', 'Comedy', 'Drama'], ['Comedy'], ['Comedy', 'Drama'], ['Horror', 'ScienceFiction'], ['Drama'], ['Drama', 'Comedy'], ['Mystery', 'Horror', 'Thriller'], ['Comedy', 'Drama', 'Romance'], ['Drama'], ['Drama', 'Romance'], ['Romance', 'Comedy', 'Drama'], ['Thriller', 'Horror'], ['Drama', 'Comedy', 'Family'], ['Documentary'], ['Horror', 'Thriller', 'Fantasy'], ['Documentary'], ['Thriller', 'ScienceFiction'], ['Documentary'], ['Drama'], ['Comedy'], ['Drama'], ['Comedy', 'Romance'], ['Thriller', 'Drama', 'ScienceFiction'], ['Horror'], ['Documentary', 'Music'], ['Thriller', 'Horror'], ['Drama', 'Romance'], ['Action', 'Western'], ['Drama', 'Comedy'], ['Horror'], ['Drama', 'Action', 'Comedy'], ['Comedy'], ['Drama', 'Romance'], ['Drama', 'Comedy'], ['Comedy', 'Drama'], ['Drama'], ['Action', 'Drama', 'Crime', 'Thriller'], ['Comedy'], ['Thriller', 'Crime', 'Drama'], ['Comedy', 'Romance'], ['Drama', 'Family'], ['Thriller', 'Horror'], ['Drama', 'Comedy', 'Romance'], ['Drama'], ['Comedy', 'Romance'], ['ScienceFiction', 'Thriller'], ['Horror', 'Comedy', 'Crime'], ['Drama'], ['Drama', 'Foreign'], ['Horror'], ['Crime', 'Horror', 'Mystery', 'Thriller'], ['Drama'], ['Thriller', 'Horror', 'Comedy'], ['Drama'], ['ScienceFiction', 'Drama', 'Thriller'], ['Foreign', 'Thriller'], ['Action', 'Crime', 'Thriller'], ['Comedy', 'Romance'], ['Comedy', 'Drama', 'Romance', 'TVMovie'], [], ['Documentary']]\n"
     ]
    }
   ],
   "source": [
    "length = len(movies['genres'])\n",
    "A=[]\n",
    "for i in movies['genres']:\n",
    "    A.append(i)\n",
    "print(A)"
   ]
  },
  {
   "cell_type": "code",
   "execution_count": 57,
   "id": "4286a9c6",
   "metadata": {},
   "outputs": [
    {
     "name": "stdout",
     "output_type": "stream",
     "text": [
      "['Adventure', 'Fantasy', 'Action']\n"
     ]
    }
   ],
   "source": [
    "print(A[1])"
   ]
  },
  {
   "cell_type": "code",
   "execution_count": 58,
   "id": "86bb4034",
   "metadata": {},
   "outputs": [],
   "source": [
    "def genre_recommend(movie):\n",
    "    for i in range(0, len(A)):\n",
    "        for j in A[i]:\n",
    "            if movie==j:\n",
    "                print(movies['title'])\n",
    "    "
   ]
  },
  {
   "cell_type": "code",
   "execution_count": null,
   "id": "9102b8be",
   "metadata": {},
   "outputs": [],
   "source": []
  },
  {
   "cell_type": "code",
   "execution_count": 59,
   "id": "974bb9d7",
   "metadata": {},
   "outputs": [],
   "source": [
    "import pickle"
   ]
  },
  {
   "cell_type": "code",
   "execution_count": 60,
   "id": "b161970d",
   "metadata": {},
   "outputs": [],
   "source": [
    "pickle.dump(new_df,open('movies.pkl','wb'))"
   ]
  },
  {
   "cell_type": "code",
   "execution_count": 61,
   "id": "ff77992c",
   "metadata": {},
   "outputs": [
    {
     "data": {
      "text/plain": [
       "array(['Avatar', \"Pirates of the Caribbean: At World's End\", 'Spectre',\n",
       "       ..., 'Signed, Sealed, Delivered', 'Shanghai Calling',\n",
       "       'My Date with Drew'], dtype=object)"
      ]
     },
     "execution_count": 61,
     "metadata": {},
     "output_type": "execute_result"
    }
   ],
   "source": [
    "new_df['title'].values"
   ]
  },
  {
   "cell_type": "code",
   "execution_count": 62,
   "id": "7e6a4306",
   "metadata": {},
   "outputs": [],
   "source": [
    "pickle.dump(new_df.to_dict(),open('movie_dict.pkl','wb'))"
   ]
  },
  {
   "cell_type": "code",
   "execution_count": 63,
   "id": "f8487505",
   "metadata": {},
   "outputs": [],
   "source": [
    "pickle.dump(similarity,open('similarity.pkl','wb'))"
   ]
  },
  {
   "cell_type": "code",
   "execution_count": 64,
   "id": "c0adbbdc",
   "metadata": {},
   "outputs": [],
   "source": [
    "import nltk"
   ]
  },
  {
   "cell_type": "code",
   "execution_count": 65,
   "id": "2ccdf88d",
   "metadata": {},
   "outputs": [],
   "source": [
    "from nltk.stem.porter import PorterStemmer\n",
    "ps = PorterStemmer()"
   ]
  },
  {
   "cell_type": "code",
   "execution_count": 66,
   "id": "d65e1b11",
   "metadata": {},
   "outputs": [],
   "source": [
    "def stem(text):\n",
    "    y=[]\n",
    "    \n",
    "    for i in text.split():\n",
    "        y.append(ps.stem(i))\n",
    "    return \" \".join(y)"
   ]
  },
  {
   "cell_type": "code",
   "execution_count": 67,
   "id": "ecc9c5f8",
   "metadata": {},
   "outputs": [
    {
     "name": "stderr",
     "output_type": "stream",
     "text": [
      "C:\\Users\\Pradnya\\AppData\\Local\\Temp/ipykernel_24152/3514595201.py:1: SettingWithCopyWarning: \n",
      "A value is trying to be set on a copy of a slice from a DataFrame.\n",
      "Try using .loc[row_indexer,col_indexer] = value instead\n",
      "\n",
      "See the caveats in the documentation: https://pandas.pydata.org/pandas-docs/stable/user_guide/indexing.html#returning-a-view-versus-a-copy\n",
      "  new_df['tags']=new_df['tags'].apply(stem)\n"
     ]
    }
   ],
   "source": [
    "new_df['tags']=new_df['tags'].apply(stem)"
   ]
  },
  {
   "cell_type": "code",
   "execution_count": 68,
   "id": "5f78c477",
   "metadata": {},
   "outputs": [
    {
     "data": {
      "text/html": [
       "<div>\n",
       "<style scoped>\n",
       "    .dataframe tbody tr th:only-of-type {\n",
       "        vertical-align: middle;\n",
       "    }\n",
       "\n",
       "    .dataframe tbody tr th {\n",
       "        vertical-align: top;\n",
       "    }\n",
       "\n",
       "    .dataframe thead th {\n",
       "        text-align: right;\n",
       "    }\n",
       "</style>\n",
       "<table border=\"1\" class=\"dataframe\">\n",
       "  <thead>\n",
       "    <tr style=\"text-align: right;\">\n",
       "      <th></th>\n",
       "      <th>movie_id</th>\n",
       "      <th>title</th>\n",
       "      <th>tags</th>\n",
       "    </tr>\n",
       "  </thead>\n",
       "  <tbody>\n",
       "    <tr>\n",
       "      <th>0</th>\n",
       "      <td>19995</td>\n",
       "      <td>Avatar</td>\n",
       "      <td>in the 22nd century, a parapleg marin is dispa...</td>\n",
       "    </tr>\n",
       "    <tr>\n",
       "      <th>1</th>\n",
       "      <td>285</td>\n",
       "      <td>Pirates of the Caribbean: At World's End</td>\n",
       "      <td>captain barbossa, long believ to be dead, ha c...</td>\n",
       "    </tr>\n",
       "    <tr>\n",
       "      <th>2</th>\n",
       "      <td>206647</td>\n",
       "      <td>Spectre</td>\n",
       "      <td>a cryptic messag from bond’ past send him on a...</td>\n",
       "    </tr>\n",
       "    <tr>\n",
       "      <th>3</th>\n",
       "      <td>49026</td>\n",
       "      <td>The Dark Knight Rises</td>\n",
       "      <td>follow the death of district attorney harvey d...</td>\n",
       "    </tr>\n",
       "    <tr>\n",
       "      <th>4</th>\n",
       "      <td>49529</td>\n",
       "      <td>John Carter</td>\n",
       "      <td>john carter is a war-weary, former militari ca...</td>\n",
       "    </tr>\n",
       "  </tbody>\n",
       "</table>\n",
       "</div>"
      ],
      "text/plain": [
       "   movie_id                                     title  \\\n",
       "0     19995                                    Avatar   \n",
       "1       285  Pirates of the Caribbean: At World's End   \n",
       "2    206647                                   Spectre   \n",
       "3     49026                     The Dark Knight Rises   \n",
       "4     49529                               John Carter   \n",
       "\n",
       "                                                tags  \n",
       "0  in the 22nd century, a parapleg marin is dispa...  \n",
       "1  captain barbossa, long believ to be dead, ha c...  \n",
       "2  a cryptic messag from bond’ past send him on a...  \n",
       "3  follow the death of district attorney harvey d...  \n",
       "4  john carter is a war-weary, former militari ca...  "
      ]
     },
     "execution_count": 68,
     "metadata": {},
     "output_type": "execute_result"
    }
   ],
   "source": [
    "new_df.head()"
   ]
  },
  {
   "cell_type": "code",
   "execution_count": 69,
   "id": "8c127902",
   "metadata": {},
   "outputs": [
    {
     "name": "stdout",
     "output_type": "stream",
     "text": [
      "Requirement already satisfied: matplotlib in c:\\users\\pradnya\\appdata\\local\\programs\\python\\python39\\lib\\site-packages (3.7.1)\n",
      "Requirement already satisfied: cycler>=0.10 in c:\\users\\pradnya\\appdata\\local\\programs\\python\\python39\\lib\\site-packages (from matplotlib) (0.11.0)\n",
      "Requirement already satisfied: fonttools>=4.22.0 in c:\\users\\pradnya\\appdata\\local\\programs\\python\\python39\\lib\\site-packages (from matplotlib) (4.39.3)\n",
      "Requirement already satisfied: contourpy>=1.0.1 in c:\\users\\pradnya\\appdata\\local\\programs\\python\\python39\\lib\\site-packages (from matplotlib) (1.0.7)\n",
      "Requirement already satisfied: pyparsing>=2.3.1 in c:\\users\\pradnya\\appdata\\local\\programs\\python\\python39\\lib\\site-packages (from matplotlib) (2.4.7)\n",
      "Requirement already satisfied: pillow>=6.2.0 in c:\\users\\pradnya\\appdata\\local\\programs\\python\\python39\\lib\\site-packages (from matplotlib) (9.4.0)\n",
      "Requirement already satisfied: importlib-resources>=3.2.0; python_version < \"3.10\" in c:\\users\\pradnya\\appdata\\local\\programs\\python\\python39\\lib\\site-packages (from matplotlib) (5.12.0)\n",
      "Requirement already satisfied: packaging>=20.0 in c:\\users\\pradnya\\appdata\\local\\programs\\python\\python39\\lib\\site-packages (from matplotlib) (21.0)\n",
      "Requirement already satisfied: python-dateutil>=2.7 in c:\\users\\pradnya\\appdata\\local\\programs\\python\\python39\\lib\\site-packages (from matplotlib) (2.8.1)\n",
      "Requirement already satisfied: numpy>=1.20 in c:\\users\\pradnya\\appdata\\local\\programs\\python\\python39\\lib\\site-packages (from matplotlib) (1.20.2)\n",
      "Requirement already satisfied: kiwisolver>=1.0.1 in c:\\users\\pradnya\\appdata\\local\\programs\\python\\python39\\lib\\site-packages (from matplotlib) (1.4.4)\n",
      "Requirement already satisfied: zipp>=3.1.0; python_version < \"3.10\" in c:\\users\\pradnya\\appdata\\local\\programs\\python\\python39\\lib\\site-packages (from importlib-resources>=3.2.0; python_version < \"3.10\"->matplotlib) (3.13.0)\n",
      "Requirement already satisfied: six>=1.5 in c:\\users\\pradnya\\appdata\\local\\programs\\python\\python39\\lib\\site-packages (from python-dateutil>=2.7->matplotlib) (1.15.0)\n"
     ]
    },
    {
     "name": "stderr",
     "output_type": "stream",
     "text": [
      "WARNING: You are using pip version 20.2.3; however, version 23.0.1 is available.\n",
      "You should consider upgrading via the 'c:\\users\\pradnya\\appdata\\local\\programs\\python\\python39\\python.exe -m pip install --upgrade pip' command.\n"
     ]
    }
   ],
   "source": [
    "!pip install matplotlib"
   ]
  },
  {
   "cell_type": "code",
   "execution_count": null,
   "id": "abb24507",
   "metadata": {},
   "outputs": [],
   "source": [
    "import matplotlib.pyplot as plt"
   ]
  },
  {
   "cell_type": "code",
   "execution_count": null,
   "id": "3914cb30",
   "metadata": {},
   "outputs": [],
   "source": [
    "!pip install langdetect"
   ]
  },
  {
   "cell_type": "code",
   "execution_count": null,
   "id": "71d0a28d",
   "metadata": {},
   "outputs": [],
   "source": [
    "import langdetect"
   ]
  },
  {
   "cell_type": "code",
   "execution_count": null,
   "id": "9ec81eb2",
   "metadata": {},
   "outputs": [],
   "source": [
    "txt = new_df[\"tags\"].iloc[0]\n",
    "print(txt, \" --> \", langdetect.detect(txt))"
   ]
  },
  {
   "cell_type": "code",
   "execution_count": null,
   "id": "680fd4f2",
   "metadata": {},
   "outputs": [],
   "source": [
    "new_df['lang'] =  new_df[\"tags\"].apply(lambda x: langdetect.detect(x) if \n",
    "                                 x.strip() != \"\" else \"\")\n",
    "new_df.head()"
   ]
  },
  {
   "cell_type": "code",
   "execution_count": null,
   "id": "c1db11fe",
   "metadata": {},
   "outputs": [],
   "source": [
    "new_df = new_df[new_df[\"lang\"]==\"en\"]"
   ]
  },
  {
   "cell_type": "code",
   "execution_count": null,
   "id": "26c94c8b",
   "metadata": {},
   "outputs": [],
   "source": [
    "import re"
   ]
  },
  {
   "cell_type": "code",
   "execution_count": null,
   "id": "ee3a70c0",
   "metadata": {},
   "outputs": [],
   "source": [
    "print(\"--- original ---\")\n",
    "print(txt)\n",
    "print(\"--- cleaning ---\")\n",
    "txt = re.sub(r'[^\\w\\s]', '', str(txt).lower().strip())\n",
    "print(txt)\n",
    "print(\"--- tokenization ---\")\n",
    "txt = txt.split()\n",
    "print(txt)"
   ]
  },
  {
   "cell_type": "code",
   "execution_count": null,
   "id": "eaee9500",
   "metadata": {},
   "outputs": [],
   "source": [
    "import nltk"
   ]
  },
  {
   "cell_type": "code",
   "execution_count": null,
   "id": "5226b032",
   "metadata": {},
   "outputs": [],
   "source": [
    "nltk.download('stopwords')"
   ]
  },
  {
   "cell_type": "code",
   "execution_count": null,
   "id": "298e0c05",
   "metadata": {},
   "outputs": [],
   "source": [
    "lst_stopwords = nltk.corpus.stopwords.words(\"english\")\n",
    "lst_stopwords"
   ]
  },
  {
   "cell_type": "code",
   "execution_count": null,
   "id": "5bd87ecb",
   "metadata": {},
   "outputs": [],
   "source": [
    "print(\"--- remove stopwords ---\")\n",
    "txt = [word for word in txt if word not in lst_stopwords]\n",
    "print(txt)"
   ]
  },
  {
   "cell_type": "code",
   "execution_count": null,
   "id": "829fed28",
   "metadata": {},
   "outputs": [],
   "source": [
    "!pip install wordcloud"
   ]
  },
  {
   "cell_type": "code",
   "execution_count": null,
   "id": "620ae8ff",
   "metadata": {},
   "outputs": [],
   "source": [
    "!pip install TextBlob"
   ]
  },
  {
   "cell_type": "code",
   "execution_count": null,
   "id": "9d333a0d",
   "metadata": {},
   "outputs": [],
   "source": [
    "!pip install spacy"
   ]
  },
  {
   "cell_type": "code",
   "execution_count": null,
   "id": "67487299",
   "metadata": {},
   "outputs": [],
   "source": [
    "!pip install --upgrade gensim"
   ]
  },
  {
   "cell_type": "code",
   "execution_count": null,
   "id": "0f333d26",
   "metadata": {},
   "outputs": [],
   "source": [
    "import wordcloud\n",
    "from textblob import TextBlob\n",
    "## for name entity recognition\n",
    "import spacy\n",
    "## for vectorizer\n",
    "from sklearn import feature_extraction, manifold\n",
    "## for word embedding\n",
    "##import gensim.downloader as gensim_api\n",
    "## for topic modeling\n",
    "##import gensim"
   ]
  },
  {
   "cell_type": "code",
   "execution_count": null,
   "id": "9de64b2d",
   "metadata": {},
   "outputs": [],
   "source": [
    "nltk.download('wordnet')\n",
    "nltk.download('omw-1.4')"
   ]
  },
  {
   "cell_type": "code",
   "execution_count": null,
   "id": "64c34638",
   "metadata": {},
   "outputs": [],
   "source": [
    "print(\"--- stemming ---\")\n",
    "ps = nltk.stem.porter.PorterStemmer()\n",
    "print([ps.stem(word) for word in txt])\n",
    "print(\"--- lemmatisation ---\")\n",
    "lem = nltk.stem.wordnet.WordNetLemmatizer()\n",
    "print([lem.lemmatize(word) for word in txt])"
   ]
  },
  {
   "cell_type": "code",
   "execution_count": null,
   "id": "2e37cb78",
   "metadata": {},
   "outputs": [],
   "source": [
    "'''\n",
    "Preprocess a string.\n",
    ":parameter\n",
    "    :param text: string - name of column containing text\n",
    "    :param lst_stopwords: list - list of stopwords to remove\n",
    "    :param flg_stemm: bool - whether stemming is to be applied\n",
    "    :param flg_lemm: bool - whether lemmitisation is to be applied\n",
    ":return\n",
    "    cleaned text\n",
    "'''\n",
    "def utils_preprocess_text(text, lst_stopwords=None, flg_stemm=False, flg_lemm=True):\n",
    "    ## clean (convert to lowercase and remove punctuations and characters and then strip)\n",
    "    text = re.sub(r'[^\\w\\s]', '', str(text).lower().strip())\n",
    "            \n",
    "    ## Tokenize (convert from string to list)\n",
    "    lst_text = text.split()\n",
    "    ## remove Stopwords\n",
    "    if lst_stopwords is not None:\n",
    "        lst_text = [word for word in lst_text if word not in \n",
    "                    lst_stopwords]\n",
    "                \n",
    "    ## Stemming (remove -ing, -ly, ...)\n",
    "    if flg_stemm == True:\n",
    "        ps = nltk.stem.porter.PorterStemmer()\n",
    "        lst_text = [ps.stem(word) for word in lst_text]\n",
    "                \n",
    "    ## Lemmatisation (convert the word into root word)\n",
    "    if flg_lemm == True:\n",
    "        lem = nltk.stem.wordnet.WordNetLemmatizer()\n",
    "        lst_text = [lem.lemmatize(word) for word in lst_text]\n",
    "            \n",
    "    ## back to string from list\n",
    "    text = \" \".join(lst_text)\n",
    "    return text"
   ]
  },
  {
   "cell_type": "code",
   "execution_count": null,
   "id": "cbc74ec8",
   "metadata": {},
   "outputs": [],
   "source": [
    "new_df[\"text_clean\"] = new_df[\"tags\"].apply(lambda x: utils_preprocess_text(x, lst_stopwords, flg_stemm=False, flg_lemm=True))"
   ]
  },
  {
   "cell_type": "code",
   "execution_count": null,
   "id": "ebe4cccd",
   "metadata": {},
   "outputs": [],
   "source": [
    "new_df.head()"
   ]
  },
  {
   "cell_type": "code",
   "execution_count": null,
   "id": "6e6c8675",
   "metadata": {},
   "outputs": [],
   "source": [
    "print(new_df[\"tags\"].iloc[0], \" --> \", new_df[\"text_clean\"].iloc[0])"
   ]
  },
  {
   "cell_type": "code",
   "execution_count": null,
   "id": "b80e1a32",
   "metadata": {},
   "outputs": [],
   "source": [
    "new_df['word_count'] = new_df[\"tags\"].apply(lambda x: len(str(x).split(\" \")))\n",
    "new_df['char_count'] = new_df[\"tags\"].apply(lambda x: sum(len(word) for word in str(x).split(\" \")))\n",
    "new_df['sentence_count'] = new_df[\"tags\"].apply(lambda x: len(str(x).split(\".\")))\n",
    "new_df['avg_word_length'] = new_df['char_count'] / new_df['word_count']\n",
    "new_df['avg_sentence_lenght'] = new_df['word_count'] / new_df['sentence_count']\n",
    "new_df.head()"
   ]
  },
  {
   "cell_type": "code",
   "execution_count": null,
   "id": "2e98b00d",
   "metadata": {},
   "outputs": [],
   "source": [
    "!pip install seaborn\n",
    "import seaborn as sns"
   ]
  },
  {
   "cell_type": "code",
   "execution_count": null,
   "id": "1fff4dc1",
   "metadata": {},
   "outputs": [],
   "source": [
    "from sklearn.feature_extraction.text import CountVectorizer\n",
    "cv = CountVectorizer(max_features= 5000, stop_words='english')"
   ]
  },
  {
   "cell_type": "code",
   "execution_count": null,
   "id": "3a03a0bf",
   "metadata": {},
   "outputs": [],
   "source": [
    "new_df[\"sentiment\"] = new_df[\"tags\"].apply(lambda x: \n",
    "                   TextBlob(x).sentiment.polarity)\n",
    "new_df.head()"
   ]
  },
  {
   "cell_type": "code",
   "execution_count": null,
   "id": "d24580b1",
   "metadata": {},
   "outputs": [],
   "source": [
    "!pip install spacy.cli"
   ]
  },
  {
   "cell_type": "code",
   "execution_count": null,
   "id": "cab0fcc2",
   "metadata": {},
   "outputs": [],
   "source": [
    "import spacy.cli ## common line interface\n",
    "spacy.cli.download(\"en_core_web_lg\")"
   ]
  },
  {
   "cell_type": "code",
   "execution_count": null,
   "id": "75b84267",
   "metadata": {},
   "outputs": [],
   "source": [
    "## call model\n",
    "import spacy\n",
    "ner = spacy.load(\"en_core_web_lg\")\n",
    "## tag text\n",
    "txt = new_df[\"tags\"].iloc[3]\n",
    "doc = ner(txt)\n",
    "## display result\n",
    "spacy.displacy.render(doc, style=\"ent\")"
   ]
  },
  {
   "cell_type": "code",
   "execution_count": null,
   "id": "d439d9bb",
   "metadata": {},
   "outputs": [],
   "source": [
    "##!pip install collections\n",
    "import collections"
   ]
  },
  {
   "cell_type": "code",
   "execution_count": null,
   "id": "e166bd96",
   "metadata": {},
   "outputs": [],
   "source": [
    "## tag text and exctract tags into a list\n",
    "new_df[\"tagss\"] = new_df[\"tags\"].apply(lambda x: [(tag.text, tag.label_) \n",
    "                                for tag in ner(x).ents] )\n",
    "## utils function to count the element of a list\n",
    "def utils_lst_count(lst):\n",
    "    dic_counter = collections.Counter()\n",
    "    for x in lst:\n",
    "        dic_counter[x] += 1\n",
    "    dic_counter = collections.OrderedDict( \n",
    "                     sorted(dic_counter.items(), \n",
    "                     key=lambda x: x[1], reverse=True))\n",
    "    lst_count = [ {key:value} for key,value in dic_counter.items() ]\n",
    "    return lst_count\n",
    "\n",
    "## count tags\n",
    "new_df[\"tagss\"] = new_df[\"tagss\"].apply(lambda x: utils_lst_count(x))\n",
    "\n",
    "## utils function create new column for each tag category\n",
    "def utils_ner_features(lst_dics_tuples, tag):\n",
    "    if len(lst_dics_tuples) > 0:\n",
    "        tag_type = []\n",
    "        for dic_tuples in lst_dics_tuples:\n",
    "            for tuple in dic_tuples:\n",
    "                type, n = tuple[1], dic_tuples[tuple]\n",
    "                tag_type = tag_type + [type]*n\n",
    "                dic_counter = collections.Counter()\n",
    "                for x in tag_type:\n",
    "                    dic_counter[x] += 1\n",
    "        return dic_counter[tag]\n",
    "    else:\n",
    "        return 0\n",
    "\n",
    "## extract features\n",
    "tags_set = []\n",
    "for lst in new_df[\"tagss\"].tolist():\n",
    "     for dic in lst:\n",
    "          for k in dic.keys():\n",
    "              tags_set.append(k[1])\n",
    "tags_set = list(set(tags_set))\n",
    "for feature in tags_set:\n",
    "     new_df[\"tagss_\"+feature] = new_df[\"tagss\"].apply(lambda x: \n",
    "                             utils_ner_features(x, feature))\n",
    "\n",
    "## print result\n",
    "new_df.head()"
   ]
  },
  {
   "cell_type": "code",
   "execution_count": null,
   "id": "44f96c78",
   "metadata": {},
   "outputs": [],
   "source": [
    "## predict wit NER\n",
    "txt = new_df[\"tags\"].iloc[0]\n",
    "print(txt)\n",
    "entities = ner(txt).ents\n",
    "print(entities)\n",
    "## tag text\n",
    "tagged_txt = txt\n",
    "for tag in entities:\n",
    "    tagged_txt = re.sub(tag.text, \"_\".join(tag.text.split()), \n",
    "                        tagged_txt) \n",
    "## show result\n",
    "print(tagged_txt)"
   ]
  },
  {
   "cell_type": "code",
   "execution_count": null,
   "id": "17009598",
   "metadata": {},
   "outputs": [],
   "source": [
    "import nltk\n",
    "nltk.download('punkt')\n",
    "tags = \"Avatar\"\n",
    "corpus = new_df[new_df[\"tags\"]==tags][\"text_clean\"]\n",
    "lst_tokens = nltk.tokenize.word_tokenize(corpus.str.cat(sep=\" \"))"
   ]
  },
  {
   "cell_type": "code",
   "execution_count": null,
   "id": "922504c2",
   "metadata": {},
   "outputs": [],
   "source": [
    "lst_words = [\"quality\", \"nice\", \"good\"]\n",
    "## count\n",
    "lst_grams = [len(word.split(\" \")) for word in lst_words]\n",
    "vectorizer = feature_extraction.text.CountVectorizer(\n",
    "                 vocabulary=lst_words, \n",
    "                 ngram_range=(min(lst_grams),max(lst_grams)))\n",
    "dtf_X = pd.DataFrame(vectorizer.fit_transform(new_df[\"text_clean\"]).todense(), columns=lst_words)\n",
    "## add the new features as columns\n",
    "new_df = pd.concat([new_df, dtf_X.set_index(new_df.index)], axis=1)\n",
    "new_df.sample(10)"
   ]
  },
  {
   "cell_type": "code",
   "execution_count": null,
   "id": "37903f3d",
   "metadata": {},
   "outputs": [],
   "source": [
    "import nltk.corpus as corpus"
   ]
  },
  {
   "cell_type": "code",
   "execution_count": null,
   "id": "05af5fa7",
   "metadata": {},
   "outputs": [],
   "source": [
    "new_df['tags'].astype(str)"
   ]
  },
  {
   "cell_type": "code",
   "execution_count": null,
   "id": "8c3919b2",
   "metadata": {},
   "outputs": [],
   "source": [
    "wc = wordcloud.WordCloud(background_color='black', max_words=150, \n",
    "                         max_font_size=35)\n",
    "wc = wc.generate(str(new_df['tags']))\n",
    "fig = plt.figure(num=1)\n",
    "plt.axis('off')\n",
    "plt.imshow(wc, cmap=None)\n",
    "plt.show()"
   ]
  }
 ],
 "metadata": {
  "kernelspec": {
   "display_name": "Python 3 (ipykernel)",
   "language": "python",
   "name": "python3"
  },
  "language_info": {
   "codemirror_mode": {
    "name": "ipython",
    "version": 3
   },
   "file_extension": ".py",
   "mimetype": "text/x-python",
   "name": "python",
   "nbconvert_exporter": "python",
   "pygments_lexer": "ipython3",
   "version": "3.9.1"
  }
 },
 "nbformat": 4,
 "nbformat_minor": 5
}
